{
 "cells": [
  {
   "cell_type": "markdown",
   "id": "57341052",
   "metadata": {},
   "source": [
    "<img src=\"images/keepcoding.png\" width=200 align=\"left\">"
   ]
  },
  {
   "cell_type": "markdown",
   "id": "c3419235",
   "metadata": {},
   "source": [
    "# Matrices\n",
    "\n",
    "Al oír hablar de matrices es posible que nos imaginemos una malla bidimensional. En efecto, una matriz es un conjunto bidimensional de números, ordenados en filas y columnas. Como ya hemos visto por encima, las matrices nos van a servir para almacenar conjuntos de datos y para resolver sistemas de ecuaciones.\n",
    "\n",
    "<img src=\"images/matrix.jpg\" width=400 align=\"center\">"
   ]
  },
  {
   "cell_type": "markdown",
   "id": "a7671b47",
   "metadata": {},
   "source": [
    "## 1. Definición y operaciones básicas\n",
    "\n",
    "Una matriz es un conjunto p-dimensional de números (elementos de la matriz) ordenados en filas (o renglones) y columnas. Si A es una matriz $m × n$, esto es, una matriz con $m$ filas y $n$ columnas, entonces la entrada escalar en la i-ésima y la j-ésima columna de $A$ se denota mediante $a_{ij}$ y se llama entrada $(i, j)$ de A.<br><br>\n",
    "\n",
    "<center>$\n",
    "  M=\n",
    "  \\left[ {\\begin{array}{cc}\n",
    "   a_{11} & a_{12}  & ... & a_{1j}  \\\\\n",
    "   a_{21} & a_{22}  & ... & a_{2j}  \\\\\n",
    "   ... & ...  & ... & ...  \\\\\n",
    "   a_{i1} & a_{i2}  & ... & a_{ij}  \\\\\n",
    "  \\end{array} } \\right]\n",
    "$</center><br><br>  \n",
    "\n",
    "Se dice que dos **matrices** son **iguales** si tienen el mismo tamaño, es decir, el mismo número de filas y de columnas, y sus columnas correspondientes son iguales.  \n",
    "\n",
    "En python, podemos usar listas o arrays de Numpy para almacenar matrices, muy parecido a como hacíamos para los vectores (no deja de ser un vector con una dimensión más). La opción del array es la más cómoda y la que más usaremos. "
   ]
  },
  {
   "cell_type": "markdown",
   "id": "e53ae10d",
   "metadata": {},
   "source": [
    "En numpy, vamos a usar la misma función que usábamos para los arrays, solo que ahora le añadimos una dimensión más (más adelante, le añadiremos más dimensiones aún!)"
   ]
  },
  {
   "cell_type": "code",
   "execution_count": null,
   "id": "02f17381",
   "metadata": {},
   "outputs": [],
   "source": [
    "import numpy as np\n"
   ]
  },
  {
   "cell_type": "markdown",
   "id": "d72db079",
   "metadata": {},
   "source": [
    "No es recomendable usar `len()` cuando tratamos con matrices porque solo nos va a devolver una de las dimensiones."
   ]
  },
  {
   "cell_type": "code",
   "execution_count": null,
   "id": "eac9aee9",
   "metadata": {},
   "outputs": [],
   "source": []
  },
  {
   "cell_type": "markdown",
   "id": "1f599229",
   "metadata": {},
   "source": [
    "### 1.1 Suma de matrices\n",
    "\n",
    "Si A y B son matrices m × n, entonces la **suma** A + B es la matriz m × n cuyas columnas son las sumas de las columnas correspondientes de A y B. Es decir, es una suma elemento a elemento. Además, la suma A + B está definida sólo cuando A y B son del mismo tamaño.  \n",
    "\n",
    "Para la resta se procede de modo similar, y podemos verlo como la suma de los elementos negativos de la segunda matriz.\n",
    "\n",
    "Las propiedades de la suma de matrices son:\n",
    "\n",
    "- Asociativa: (A + B) + C = A + (B + C)\n",
    "- Conmutativa: A + B = B + A\n",
    "- Elemento neutro: A + 0 = A, donde 0 es una matriz del mismo tamaño que A formada por ceros\n",
    "- Elemento inverso: A + -A = 0"
   ]
  },
  {
   "cell_type": "code",
   "execution_count": null,
   "id": "0c6189b3",
   "metadata": {},
   "outputs": [],
   "source": []
  },
  {
   "cell_type": "code",
   "execution_count": null,
   "id": "11800acf",
   "metadata": {},
   "outputs": [],
   "source": []
  },
  {
   "cell_type": "markdown",
   "id": "2c9961e4",
   "metadata": {},
   "source": [
    "### 1.2 Producto de una matriz por un escalar\n",
    "\n",
    "Si r es un escalar y A es una matriz, entonces el múltiplo escalar $r \\cdot A$ es la matriz cuyos elementos son los elementos de A multiplicados por r. El producto de una matriz y un escalar es:\n",
    "\n",
    "- Asociativo: rsA = r(sA)\n",
    "- Distributivo respecto a la suma de matrices: r(A+B) = rA + rB\n",
    "- Tiene elemento neutro: 1A = A"
   ]
  },
  {
   "cell_type": "code",
   "execution_count": null,
   "id": "60816691",
   "metadata": {},
   "outputs": [],
   "source": []
  },
  {
   "cell_type": "markdown",
   "id": "c6dea07c",
   "metadata": {},
   "source": [
    "### 1.3 Producto de matrices\n",
    "\n",
    "Hasta ahora todo había sido bastante intuitivo, pero el producto de matrices se complica un poco. \n",
    "\n",
    "Si $A$ es una matriz $m × n$, y si $B$ es una matriz $n × p$ con columnas $b_1, b_2,... b_p$, entonces el **producto AB** es la matriz $m × p$ cuyas columnas son:<br><br>\n",
    "\n",
    "<center>A*B= $\n",
    "  \\left[ {\\begin{array}{cc}\n",
    "   a_{11} & a_{12}  & ... & a_{1n}  \\\\\n",
    "   a_{21} & a_{22}  & ... & a_{2n}  \\\\\n",
    "   ... & ...  & ... & ...  \\\\\n",
    "   a_{m1} & a_{m2}  & ... & a_{mn}  \\\\\n",
    "  \\end{array} } \\right]\n",
    "$ * $\n",
    "  \\left[ {\\begin{array}{cc}\n",
    "   b_{11} & b_{12}  & ... & b_{1p}  \\\\\n",
    "   b_{21} & b_{22}  & ... & b_{2p}  \\\\\n",
    "   ... & ...  & ... & ...  \\\\\n",
    "   b_{n1} & b_{n2}  & ... & b_{np}  \\\\\n",
    "  \\end{array} } \\right]\n",
    "$ =<br><br> $\n",
    "  \\left[ {\\begin{array}{cc}\n",
    "   a_{11}\\cdot b_{11}+ a_{12}\\cdot b_{21} + ... + a_{1n}\\cdot b_{n1}& a_{11}\\cdot b_{12}+ a_{12}\\cdot b_{22} + ... + a_{1n}\\cdot b_{n2}  & ... & a_{11}\\cdot b_{1p}+ a_{12}\\cdot b_{2p} + ... + a_{1n}\\cdot b_{np}  \\\\\n",
    "   a_{21}\\cdot b_{11}+ a_{22}\\cdot b_{21} + ... + a_{2n}\\cdot b_{n1}& a_{21}\\cdot b_{12}+ a_{22}\\cdot b_{22} + ... + a_{2n}\\cdot b_{n2}  & ... & a_{21}\\cdot b_{1p}+ a_{22}\\cdot b_{2p} + ... + a_{2n}\\cdot b_{np}  \\\\\n",
    "   ... & ...  & ... & ...  \\\\\n",
    "      a_{m1}\\cdot b_{11}+ a_{m2}\\cdot b_{21} + ... + a_{mn}\\cdot b_{n1}& a_{m1}\\cdot b_{12}+ a_{m2}\\cdot b_{22} + ... + a_{mn}\\cdot b_{n2}  & ... & a_{m1}\\cdot b_{1p}+ a_{m2}\\cdot b_{2p} + ... + a_{mn}\\cdot b_{np}  \\\\\n",
    "  \\end{array} } \\right]\n",
    "$  \n",
    "</center>\n",
    "\n",
    "La notación para las dimensiones no es casual, para poder multiplicar las matrices necesitamos que el número de columnas de la primera matriz sea igual al número de filas de la segunda. El producto de matrices cumple:\n",
    "\n",
    "- Asociatividad: A(BC) = (AB)C\n",
    "- Distributividad respecto de la suma de matrices por la derecha: (A+B)C = AC + BC\n",
    "- Distributividad respecto de la suma de matrices por la izquierda: C(A+B) = CA + CB\n",
    "\n",
    "¿Echamos en falta algo habitual? El producto de matrices **no es conmutativo**."
   ]
  },
  {
   "cell_type": "code",
   "execution_count": null,
   "id": "4478bfe6",
   "metadata": {},
   "outputs": [],
   "source": []
  },
  {
   "cell_type": "code",
   "execution_count": null,
   "id": "e99148f1",
   "metadata": {},
   "outputs": [],
   "source": []
  },
  {
   "cell_type": "markdown",
   "id": "b9e23163",
   "metadata": {},
   "source": [
    "**Ojo**, este no es el producto matricial, sino una multiplicación elemento a elemento, que además solo va a funcionar si las matrices tienen el mismo tamaño. Para el producto de matrices _de verdad_, usamos `.dot`"
   ]
  },
  {
   "cell_type": "code",
   "execution_count": null,
   "id": "108b2c91",
   "metadata": {},
   "outputs": [],
   "source": []
  },
  {
   "cell_type": "markdown",
   "id": "cd742d8e",
   "metadata": {},
   "source": [
    "Vemos que efectivamente el producto no es conmutativo. En general, a no ser que las matrices sean cuadradas (mismo número de filas que de columnas) tampoco va a ser posible multiplicar AB o BA indistintamente, sino solo una de ellas."
   ]
  },
  {
   "cell_type": "code",
   "execution_count": null,
   "id": "94f7e673",
   "metadata": {},
   "outputs": [],
   "source": []
  },
  {
   "cell_type": "code",
   "execution_count": null,
   "id": "62df5632",
   "metadata": {},
   "outputs": [],
   "source": []
  },
  {
   "cell_type": "code",
   "execution_count": null,
   "id": "2a24361c",
   "metadata": {},
   "outputs": [],
   "source": []
  },
  {
   "cell_type": "markdown",
   "id": "13a4d92d",
   "metadata": {},
   "source": [
    "## 2. Algunas matrices interesantes\n",
    "\n",
    "### 2.1 Matrices cuadradas\n",
    "\n",
    "Las matrices cuadradas son aquellas que tienen el mismo número de filas que de columnas.\n",
    "\n",
    "### 2.2 Matrices triangulares\n",
    "\n",
    "\n",
    "Una **matriz triangular** es una matriz cuadrada la cual tiene triángulos de ceros por encima o por debajo de la diagonal. En caso de que los valores ceros estén por encima de la diagonal se denomina **matriz triangular superior** y si es por debajo de la diagonal se denomina como **matriz triangular inferior**.<br><br>\n",
    "\n",
    "**Matriz triangular inferior**:\n",
    "\n",
    "<center>$\n",
    "  U_{nxm}=\n",
    "  \\left[ {\\begin{array}{cc}\n",
    "   1 & 4  & 6  \\\\\n",
    "   0 & 2  & 2  \\\\\n",
    "   0 & 0  & 1  \\\\\n",
    "  \\end{array} } \\right]\n",
    "$</center><br><br>\n",
    "\n",
    "**Matriz triangular superior**:\n",
    "\n",
    "<center>$\n",
    "  U_{nxm}=\n",
    "  \\left[ {\\begin{array}{cc}\n",
    "   1 & 0 & 0 \\\\\n",
    "   4 & 2  & 0\\\\\n",
    "   7 & 3  & 1  \\\\\n",
    "  \\end{array} } \\right]\n",
    "$</center><br><br>\n",
    "\n",
    "### 2.3 Matrices diagonales y la matriz identidad\n",
    "\n",
    "La diagonal principal de una matriz cuadrada es la que empieza en el elemento (1,1), por ejemplo:"
   ]
  },
  {
   "cell_type": "code",
   "execution_count": null,
   "id": "03bd9c58",
   "metadata": {},
   "outputs": [],
   "source": []
  },
  {
   "cell_type": "code",
   "execution_count": null,
   "id": "3c903c48",
   "metadata": {},
   "outputs": [],
   "source": []
  },
  {
   "cell_type": "markdown",
   "id": "f6c48340",
   "metadata": {},
   "source": [
    "La diagonal principal está formada por los elementos (1, 0, -3, 0.6, -1).\n",
    "\n",
    "Se llama **matriz diagonal** a una matriz que solo tiene elementos en su diagonal principal. Si estos elementos son unos, se trata de la **matriz identidad**."
   ]
  },
  {
   "cell_type": "code",
   "execution_count": null,
   "id": "21dc4e6f",
   "metadata": {},
   "outputs": [],
   "source": []
  },
  {
   "cell_type": "code",
   "execution_count": null,
   "id": "45b26b69",
   "metadata": {},
   "outputs": [],
   "source": []
  },
  {
   "cell_type": "code",
   "execution_count": null,
   "id": "76cf25d6",
   "metadata": {},
   "outputs": [],
   "source": []
  },
  {
   "cell_type": "code",
   "execution_count": null,
   "id": "9d9eeefa",
   "metadata": {},
   "outputs": [],
   "source": [
    "# Podemos multiplicar la identidad por un escalar\n"
   ]
  },
  {
   "cell_type": "markdown",
   "id": "7439f5a4",
   "metadata": {},
   "source": [
    "Aunque no es la matriz identidad y no cumple sus propiedades, podemos crear una matriz de cualquier tamaño que solo tenga 1s en los elementos de la diagonal."
   ]
  },
  {
   "cell_type": "code",
   "execution_count": null,
   "id": "9487b1a3",
   "metadata": {},
   "outputs": [],
   "source": []
  },
  {
   "cell_type": "code",
   "execution_count": null,
   "id": "3329dc95",
   "metadata": {},
   "outputs": [],
   "source": []
  },
  {
   "cell_type": "code",
   "execution_count": null,
   "id": "08895cd2",
   "metadata": {},
   "outputs": [],
   "source": []
  },
  {
   "cell_type": "markdown",
   "id": "edbd0d36",
   "metadata": {},
   "source": [
    "### 2.4 La matriz traspuesta\n",
    "\n",
    "La traspuesta de una matriz es el resultado de intercambiar filas por columnas. "
   ]
  },
  {
   "cell_type": "code",
   "execution_count": null,
   "id": "1db6b0c2",
   "metadata": {},
   "outputs": [],
   "source": []
  },
  {
   "cell_type": "code",
   "execution_count": null,
   "id": "3fef0e21",
   "metadata": {},
   "outputs": [],
   "source": []
  },
  {
   "cell_type": "code",
   "execution_count": null,
   "id": "8ab19069",
   "metadata": {},
   "outputs": [],
   "source": []
  },
  {
   "cell_type": "markdown",
   "id": "6331688c",
   "metadata": {},
   "source": [
    "### 2.5 Matriz simétrica\n",
    "\n",
    "Una **matriz cuadrada** va a ser **simétrica** si $A^T=A$, es decir si $A$ es igual a su propia matriz transpuesta."
   ]
  },
  {
   "cell_type": "code",
   "execution_count": null,
   "id": "9ef16272",
   "metadata": {},
   "outputs": [],
   "source": []
  },
  {
   "cell_type": "code",
   "execution_count": null,
   "id": "ffdd90b7",
   "metadata": {},
   "outputs": [],
   "source": []
  },
  {
   "cell_type": "markdown",
   "id": "69697909",
   "metadata": {},
   "source": [
    "### 2.6 La matriz inversa\n",
    "\n",
    "Este apartado solo aplica a **matrices cuadradas**, es decir, con el mismo número de filas que de columnas. La inversa de una matriz A se representa como $A^{-1}$ y es otra matriz tal que $A \\cdot A^{−1} = I$ donde I es la matriz identidad de la misma dimensión (es decir, mismo número de filas/columnas).\n",
    "\n",
    "No todas las matrices cuadradas tienen inversa, las que no tienen son las llamadas matrices singulares, y veremos más adelante algunas de sus características.\n",
    "\n",
    "Hay varias formas de calcular la inversa de una matriz, la más sencilla seguramente sea la de eliminación guassiana. El cálculo de una matriz inversa es un proceso un poco engorroso, pero por suerte podemos utilizar numpy."
   ]
  },
  {
   "cell_type": "code",
   "execution_count": null,
   "id": "aaa0b9e9",
   "metadata": {},
   "outputs": [],
   "source": []
  },
  {
   "cell_type": "code",
   "execution_count": null,
   "id": "fb9b8b9b",
   "metadata": {},
   "outputs": [],
   "source": []
  },
  {
   "cell_type": "markdown",
   "id": "087419ed",
   "metadata": {},
   "source": [
    "### 2.7 Ejemplo: matriz de adyacencia de un grafo"
   ]
  },
  {
   "cell_type": "markdown",
   "id": "3e8b9732",
   "metadata": {},
   "source": [
    "Imaginamos un grafo con N nodos o vértices, podemos representar todas las conexiones posibles entre esos nodos utilizando una matriz cuadrada de tamaño N por N. Cada fila y columna en la matriz corresponde a un nodo en particular. Esta es la llamada matriz de adyacencia de un grafo.\n",
    "\n",
    "Si es un grafo no dirigido, es decir, las conexiones entre nodos no tienen una dirección específica, la matriz de adyacencia será simétrica respecto a su diagonal principal. Los valores en la matriz representan si existe o no una conexión entre los nodos.\n",
    "\n",
    "**Ejercicio:** Escribe la matriz de adyacencia del siguiente grafo:\n",
    "\n",
    "<img src=\"images/grafo.png\" width=400 align=\"center\">"
   ]
  },
  {
   "cell_type": "code",
   "execution_count": 14,
   "id": "38d85a3b",
   "metadata": {},
   "outputs": [
    {
     "name": "stdout",
     "output_type": "stream",
     "text": [
      "Antes: \n",
      " [[0. 0. 0. 0.]\n",
      " [0. 0. 0. 0.]\n",
      " [0. 0. 0. 0.]\n",
      " [0. 0. 0. 0.]]\n",
      "Despues: \n",
      " [[0. 1. 0. 1.]\n",
      " [1. 0. 1. 0.]\n",
      " [0. 1. 0. 1.]\n",
      " [1. 0. 1. 0.]]\n"
     ]
    }
   ],
   "source": [
    "import numpy as np\n",
    "\n",
    "# Creamos una matriz de ceros 4x4\n",
    "matriz_adyacencia = np.zeros((4,4))\n",
    "print(\"Antes: \\n\", matriz_adyacencia)\n",
    "\n",
    "# Establecemos las conexiones en la matriz\n",
    "conexiones = [(0,1),(1,2),(2,3),(0,3)]\n",
    "\n",
    "for fila, columna in conexiones:\n",
    "    matriz_adyacencia[fila][columna] = 1\n",
    "    matriz_adyacencia[columna][fila] = 1\n",
    "    \n",
    "print(\"Despues: \\n\", matriz_adyacencia)"
   ]
  },
  {
   "cell_type": "markdown",
   "id": "ee1c838c-5766-4263-a158-7aad64361ab5",
   "metadata": {},
   "source": [
    "## Indexing y slicing\n",
    "\n",
    "Los ndarrays se pueden indexar con la sintaxis habitual de Python: x[obj], donde x es el array y obj la selección. Dependiendo del valor de este obj hay diferentes tipos de indexing. ¡Recordamos que se empieza a contar en el 0!\n",
    "\n",
    "#### np.random.seed\n",
    "La función np.random.seed en NumPy se utiliza para establecer una semilla en el generador de números aleatorios. Esto garantiza que las secuencias de números aleatorios sean reproducibles. Es decir, si estableces la misma semilla y ejecutas el mismo código de generación de números aleatorios, obtendrás la misma secuencia de números cada vez."
   ]
  },
  {
   "cell_type": "code",
   "execution_count": 57,
   "id": "bb61d4db-f549-4078-8242-d29e1d4e0107",
   "metadata": {},
   "outputs": [
    {
     "name": "stdout",
     "output_type": "stream",
     "text": [
      "[0.54488318 0.4236548  0.64589411]\n",
      "[0.5488135  0.71518937 0.60276338]\n",
      "[0.5488135  0.71518937 0.60276338]\n"
     ]
    }
   ],
   "source": [
    "import numpy as np\n",
    "\n",
    "# Sin establecer una semilla\n",
    "print(np.random.rand(3))\n",
    "\n",
    "# Establecer una semilla\n",
    "np.random.seed(0)\n",
    "print(np.random.rand(3))\n",
    "\n",
    "# Establecer la misma semilla de nuevo\n",
    "np.random.seed(0)\n",
    "print(np.random.rand(3))\n",
    "\n",
    "# Salida esperada:\n",
    "# [0.54488318 0.4236548  0.64589411]  # Estos números serán diferentes cada vez\n",
    "# [0.5488135  0.71518937 0.60276338]  # Estos números serán siempre los mismos\n",
    "# [0.5488135  0.71518937 0.60276338]  # Estos números serán siempre los mismos"
   ]
  },
  {
   "cell_type": "markdown",
   "id": "cc2cdbf5-02bd-4851-b8ae-7c37cc2310ae",
   "metadata": {},
   "source": [
    "En resumen, np.random.seed es una herramienta esencial para garantizar la reproducibilidad y consistencia en la generación de números aleatorios en proyectos que requieren análisis y experimentación rigurosos."
   ]
  },
  {
   "cell_type": "code",
   "execution_count": 52,
   "id": "17247694-ec62-4ae8-b4a4-e8c9ed0eba73",
   "metadata": {},
   "outputs": [
    {
     "name": "stdout",
     "output_type": "stream",
     "text": [
      "[0.5488135  0.71518937 0.60276338]\n"
     ]
    }
   ],
   "source": [
    "import numpy as np\n",
    "np.random.seed(0)\n",
    "print(np.random.rand(3))"
   ]
  },
  {
   "cell_type": "code",
   "execution_count": 43,
   "id": "b3e6b0e9-69fa-4d9b-86eb-44a4d019d67d",
   "metadata": {},
   "outputs": [
    {
     "data": {
      "text/plain": [
       "array([9, 8, 7, 6, 5, 4, 3, 2, 1, 0])"
      ]
     },
     "execution_count": 43,
     "metadata": {},
     "output_type": "execute_result"
    }
   ],
   "source": [
    "import numpy as np\n",
    "x = np.array([0, 1, 2, 3, 4, 5, 6, 7, 8, 9])\n",
    "x[::-1]"
   ]
  },
  {
   "cell_type": "markdown",
   "id": "d837e301-6bc0-43cc-8749-117540cb391e",
   "metadata": {},
   "source": [
    "#### Explicación del ejemplo x[1:7:2]"
   ]
  },
  {
   "cell_type": "code",
   "execution_count": 58,
   "id": "9f8a31be-524c-436c-9f3b-0417da99e48f",
   "metadata": {},
   "outputs": [
    {
     "data": {
      "text/plain": [
       "array([1, 3, 5])"
      ]
     },
     "execution_count": 58,
     "metadata": {},
     "output_type": "execute_result"
    }
   ],
   "source": [
    "import numpy as np\n",
    "x = np.array([0, 1, 2, 3, 4, 5, 6, 7, 8, 9])\n",
    "x[1:7:2]"
   ]
  },
  {
   "cell_type": "markdown",
   "id": "c7b1f550-b802-42dc-a576-4a9f58d51970",
   "metadata": {},
   "source": [
    "\n",
    "**La expresión x[1:7:2]** utiliza la notación de slicing (corte) de arrays en NumPy, que sigue la sintaxis array[start:stop:step]. Aquí está el desglose de cada parte y cómo se aplica a tu array x:\n",
    "\n",
    "1. start: El índice de inicio del slice, que es 1 en este caso.\n",
    "1. stop: El índice de fin (exclusivo) del slice, que es 7 en este caso.\n",
    "1. step: El tamaño del paso entre elementos seleccionados, que es 2 en este caso.\n",
    "\n",
    "Entonces, x[1:7:2] significa:\n",
    "\n",
    "* Comienza en el índice 1.\n",
    "* Termina antes del índice 7 (exclusivo).\n",
    "* Selecciona elementos con un paso de 2.\n",
    "\n",
    "Tu array x es: [0, 1, 2, 3, 4, 5, 6, 7, 8, 9]\n",
    "\n",
    "Aplicando el slicing:\n",
    "\n",
    "* Comenzando en el índice 1: el elemento es 1.\n",
    "* Con un paso de 2, los siguientes índices serán 1, 3, 5.\n",
    "  \n",
    "Elementos seleccionados:\n",
    "\n",
    "* Índice 1: 1\n",
    "* Índice 3: 3\n",
    "* Índice 5: 5\n",
    "\n",
    "Entonces, x[1:7:2] devuelve los elementos [1, 3, 5]."
   ]
  },
  {
   "cell_type": "markdown",
   "id": "e9a27aae-fac6-4c30-928b-ea37886b0e2c",
   "metadata": {},
   "source": [
    "#### Explicación del ejemplo x[-3:3:-1]"
   ]
  },
  {
   "cell_type": "code",
   "execution_count": 59,
   "id": "e9f7b0a3-9909-4242-8486-7654515db22a",
   "metadata": {},
   "outputs": [
    {
     "data": {
      "text/plain": [
       "array([7, 6, 5, 4])"
      ]
     },
     "execution_count": 59,
     "metadata": {},
     "output_type": "execute_result"
    }
   ],
   "source": [
    "import numpy as np\n",
    "x = np.array([0, 1, 2, 3, 4, 5, 6, 7, 8, 9])\n",
    "x[-3:3:-1]"
   ]
  },
  {
   "cell_type": "markdown",
   "id": "e924c42c-89bb-4643-aed3-3dea2369890d",
   "metadata": {},
   "source": [
    "**La expresión x[-3:3:-1]** utiliza la notación de slicing con índices negativos y un paso negativo. Aquí está el desglose de cada parte y cómo se aplica a tu array x:\n",
    "\n",
    "1. start: El índice de inicio del slice, que es -3 en este caso.\n",
    "1. stop: El índice de fin (exclusivo) del slice, que es 3 en este caso.\n",
    "1. step: El tamaño del paso entre elementos seleccionados, que es -1 en este caso (recorre el array hacia atrás).\n",
    "\n",
    "Tu array x es: [0, 1, 2, 3, 4, 5, 6, 7, 8, 9]\n",
    "\n",
    "Índices negativos:\n",
    "- 1 es el último elemento.\n",
    "- 2 es el penúltimo.\n",
    "- 3 es el antepenúltimo.\n",
    "\n",
    "Aplicando el slicing:\n",
    "- Comenzando en el índice -3: el elemento es 7.\n",
    "- Con un paso de -1, los siguientes índices serán -3, -4, -5, ..., recorriendo el array hacia atrás hasta llegar al índice 3 (exclusivo).\n",
    "  \n",
    "Elementos seleccionados:\n",
    "- Índice -3: 7\n",
    "- Índice -4: 6\n",
    "- Índice -5: 5\n",
    "- Índice -6: 4\n",
    "\n",
    "La posición 4 (que es el índice 3) es el límite donde se detiene el slicing, y como el índice de fin es exclusivo, el número 3 no se incluye en el resultado.\n",
    "\n",
    "##### Visualización:\n",
    "\n",
    "- **x =** [0, 1, 2, 3, 4, 5, 6, 7, 8, 9]\n",
    "- **Indices:** [0,1,2,3,4,5,6,7,8,9]\n",
    "- **Indices negativos:** [−10,−9,−8,−7,−6,−5,−4,−3,−2,−1]\n",
    "- **Slice:** x[−3:3:−1]\n",
    "- **Elementos seleccionados:** [7,6,5,4]\n",
    "\n",
    "Por lo tanto, x[-3:3:-1] devuelve array([7, 6, 5, 4]) porque selecciona elementos desde el índice -3 hasta justo antes del índice 3, recorriendo el array hacia atrás con un paso de -1, y no incluye el número 3 ya que el índice 3 es exclusivo en el slicing."
   ]
  },
  {
   "cell_type": "code",
   "execution_count": 48,
   "id": "6682a156-7ae4-43de-bc47-fc6a67a7d9fa",
   "metadata": {},
   "outputs": [
    {
     "name": "stdout",
     "output_type": "stream",
     "text": [
      "[[[5 0 3 3 7]\n",
      "  [9 3 5 2 4]\n",
      "  [7 6 8 8 1]]\n",
      "\n",
      " [[6 7 7 8 1]\n",
      "  [5 9 8 9 4]\n",
      "  [3 0 3 5 0]]\n",
      "\n",
      " [[2 3 8 1 3]\n",
      "  [3 3 7 0 1]\n",
      "  [9 9 0 4 7]]\n",
      "\n",
      " [[3 2 7 2 0]\n",
      "  [0 4 5 5 6]\n",
      "  [8 4 1 4 9]]]\n",
      "----\n",
      "[[5 9 7]\n",
      " [6 5 3]\n",
      " [2 3 9]\n",
      " [3 0 8]]\n"
     ]
    }
   ],
   "source": [
    "np.random.seed(0)\n",
    "x = np.random.randint(10, size=(4, 3, 5))\n",
    "print(x)\n",
    "print(\"----\")\n",
    "print(x[:, :,0])"
   ]
  },
  {
   "cell_type": "code",
   "execution_count": 49,
   "id": "fc05f3a2-69dc-4f6c-8fd4-9944c866fc88",
   "metadata": {},
   "outputs": [
    {
     "name": "stdout",
     "output_type": "stream",
     "text": [
      "[[[5 0 3 3 7]\n",
      "  [9 3 5 2 4]\n",
      "  [7 6 8 8 1]]\n",
      "\n",
      " [[6 7 7 8 1]\n",
      "  [5 9 8 9 4]\n",
      "  [3 0 3 5 0]]\n",
      "\n",
      " [[2 3 8 1 3]\n",
      "  [3 3 7 0 1]\n",
      "  [9 9 0 4 7]]\n",
      "\n",
      " [[3 2 7 2 0]\n",
      "  [0 4 5 5 6]\n",
      "  [8 4 1 4 9]]]\n",
      "----\n",
      "[[5 9 7]\n",
      " [6 5 3]\n",
      " [2 3 9]\n",
      " [3 0 8]]\n"
     ]
    }
   ],
   "source": [
    "np.random.seed(0)\n",
    "x = np.random.randint(10, size=(4, 3, 5))\n",
    "print(x)\n",
    "print(\"----\")\n",
    "print(x[..., 0]) # Es igual al anterior. print(x[:, :,0])"
   ]
  },
  {
   "cell_type": "markdown",
   "id": "2bc797c2-3c1a-4459-8577-6808c83578ec",
   "metadata": {},
   "source": [
    "## Reshaping\n",
    "\n",
    "Otra de las herramientas más usadas es reshape, que sirve para cambiar las dimensiones de un array sin transformar sus datos. Por ejemplo si queremos transformar:"
   ]
  },
  {
   "cell_type": "code",
   "execution_count": 64,
   "id": "749224e7-0a54-4fca-88bd-a69340182e2b",
   "metadata": {},
   "outputs": [
    {
     "name": "stdout",
     "output_type": "stream",
     "text": [
      "[1 2 3 4 5 6 7 8 9]\n"
     ]
    },
    {
     "data": {
      "text/plain": [
       "array([[1, 2, 3],\n",
       "       [4, 5, 6],\n",
       "       [7, 8, 9]])"
      ]
     },
     "execution_count": 64,
     "metadata": {},
     "output_type": "execute_result"
    }
   ],
   "source": [
    "import numpy as np\n",
    "grid = np.arange(1, 10)\n",
    "print(grid)\n",
    "grid.reshape(3, 3)"
   ]
  },
  {
   "cell_type": "code",
   "execution_count": 67,
   "id": "0c370b04-bf9f-4f84-bfae-b3f4b74c248f",
   "metadata": {},
   "outputs": [
    {
     "name": "stdout",
     "output_type": "stream",
     "text": [
      "[ 1  2  3  4  5  6  7  8  9 10]\n"
     ]
    },
    {
     "data": {
      "text/plain": [
       "array([[ 1,  2,  3,  4,  5],\n",
       "       [ 6,  7,  8,  9, 10]])"
      ]
     },
     "execution_count": 67,
     "metadata": {},
     "output_type": "execute_result"
    }
   ],
   "source": [
    "v = np.arange(1, 11)\n",
    "print(v)\n",
    "w = v.reshape(2, 5)\n",
    "w"
   ]
  },
  {
   "cell_type": "code",
   "execution_count": 66,
   "id": "94eef279-5429-4ec1-bcab-cfbe0c5577ec",
   "metadata": {},
   "outputs": [
    {
     "data": {
      "text/plain": [
       "array([[0, 1],\n",
       "       [2, 3],\n",
       "       [4, 5]])"
      ]
     },
     "execution_count": 66,
     "metadata": {},
     "output_type": "execute_result"
    }
   ],
   "source": [
    "u = np.arange(6).reshape((3, 2))\n",
    "u"
   ]
  },
  {
   "cell_type": "markdown",
   "id": "af67b06a-47a3-4e13-89e2-52d13762fa46",
   "metadata": {},
   "source": [
    "## Joining and splitting\n",
    "\n",
    "En ocasiones podemos necesitar unir o separar arrays, y numpytiene funciones específicas para estas situaciones. Para unir arrays, usamos concatenate y para separarlos, usamos split."
   ]
  },
  {
   "cell_type": "code",
   "execution_count": 68,
   "id": "55225019-0f4d-43cc-9467-90d8b132e10f",
   "metadata": {},
   "outputs": [
    {
     "data": {
      "text/plain": [
       "array([1, 2, 3, 4, 5, 6, 7, 8, 9, 1, 2, 3, 4, 5, 6, 7, 8, 9])"
      ]
     },
     "execution_count": 68,
     "metadata": {},
     "output_type": "execute_result"
    }
   ],
   "source": [
    "import numpy as np\n",
    "grid = np.arange(1, 10)\n",
    "np.concatenate([grid, grid])"
   ]
  },
  {
   "cell_type": "markdown",
   "id": "7e0ca2e6-aad7-48aa-aeb5-3b09098be9b9",
   "metadata": {},
   "source": [
    "Para arrays con distinta dimensiones, se suele usar vstack (vertical stack) o hstack (horizontal)."
   ]
  },
  {
   "cell_type": "code",
   "execution_count": 70,
   "id": "60683b8e-fd89-4d51-a4cf-11b8eee7c5f2",
   "metadata": {},
   "outputs": [
    {
     "name": "stdout",
     "output_type": "stream",
     "text": [
      "[[1 2 3]\n",
      " [4 5 6]\n",
      " [7 8 9]]\n",
      "\n",
      "---\n",
      "\n",
      "[20 20 20]\n",
      "\n",
      "---\n",
      "\n"
     ]
    },
    {
     "data": {
      "text/plain": [
       "array([[ 1,  2,  3],\n",
       "       [ 4,  5,  6],\n",
       "       [ 7,  8,  9],\n",
       "       [20, 20, 20]])"
      ]
     },
     "execution_count": 70,
     "metadata": {},
     "output_type": "execute_result"
    }
   ],
   "source": [
    "grid_reshape = grid.reshape(3, 3)\n",
    "x = np.array([20, 20, 20])\n",
    "print(grid_reshape)\n",
    "print(\"\\n---\\n\")\n",
    "print(x)\n",
    "print(\"\\n---\\n\")\n",
    "np.vstack([grid_reshape, x])"
   ]
  },
  {
   "cell_type": "markdown",
   "id": "0e34c9eb-9475-4fd8-aea7-b19b82dad637",
   "metadata": {},
   "source": [
    "#### splitting"
   ]
  },
  {
   "cell_type": "code",
   "execution_count": 71,
   "id": "29d4edb2-f113-446c-a1f9-a2d13e31d387",
   "metadata": {},
   "outputs": [
    {
     "data": {
      "text/plain": [
       "array([1, 2, 3, 4, 5, 6, 7, 8, 9])"
      ]
     },
     "execution_count": 71,
     "metadata": {},
     "output_type": "execute_result"
    }
   ],
   "source": [
    "x = np.arange(1, 10)\n",
    "x"
   ]
  },
  {
   "cell_type": "code",
   "execution_count": 72,
   "id": "c67fff3d-6564-4ffc-9525-adc9467ac84d",
   "metadata": {},
   "outputs": [
    {
     "name": "stdout",
     "output_type": "stream",
     "text": [
      "[1 2 3]\n",
      "[4 5]\n",
      "[6 7 8 9]\n"
     ]
    }
   ],
   "source": [
    "x1, x2, x3 = np.split(x, [3, 5])\n",
    "print(x1)\n",
    "print(x2)\n",
    "print(x3)"
   ]
  },
  {
   "cell_type": "markdown",
   "id": "d655758c-1436-4be2-be25-b35b4ecc1ef6",
   "metadata": {},
   "source": [
    "La función np.split en NumPy divide un array en múltiples subarrays según los índices proporcionados. En tu caso, np.split(x, [3, 5]) divide el array x en tres subarrays usando los índices 3 y 5 como puntos de división.\n",
    "\n",
    "##### Visualización de la división:\n",
    "\n",
    "- Primer subarray (x1): Desde el inicio hasta el índice 3 (exclusivo).\n",
    "    - x1=[1,2,3]\n",
    "- Segundo subarray (x2): Desde el índice 3 hasta el índice 5 (exclusivo).\n",
    "    - x2=[4,5]\n",
    "- Tercer subarray (x3): Desde el índice 5 hasta el final del array.\n",
    "    - x3=[6,7,8,9]\n",
    " \n",
    "##### Resumen:\n",
    "- x1 contiene los elementos desde el índice 0 hasta 2.\n",
    "- x2 contiene los elementos desde el índice 3 hasta 4.\n",
    "- x3 contiene los elementos desde el índice 5 hasta el final."
   ]
  },
  {
   "cell_type": "code",
   "execution_count": 73,
   "id": "04a5027f-d32e-41b9-9882-fecc132c8c3f",
   "metadata": {},
   "outputs": [
    {
     "name": "stdout",
     "output_type": "stream",
     "text": [
      "[1 2 3]\n",
      "[4 5 6]\n",
      "[7 8 9]\n"
     ]
    }
   ],
   "source": [
    "x1, x2, x3 = np.split(x, 3)\n",
    "print(x1)\n",
    "print(x2)\n",
    "print(x3)"
   ]
  },
  {
   "cell_type": "markdown",
   "id": "24ab6432",
   "metadata": {},
   "source": [
    "### 3 Factorización LU\n",
    "\n",
    "La factorización LU, llamada así por sus factores L (lower triangular) y U (upper triangular), es un método de descomposición de una matriz en el producto de dos matrices triangulares. Sea $A$ una matriz, entonces buscamos:  \n",
    " \n",
    "<center>$A = LU$</center>\n",
    "\n",
    "donde $L$ y $U$ son matrices inferiores y superiores triangulares respectivamente.  \n",
    "\n",
    "Si pensamos en una matriz cuadrada:<br><br>\n",
    "$\n",
    "  \\left[ {\\begin{array}{cc}\n",
    "   a_{11} & a_{12}  & ... & a_{1n}  \\\\\n",
    "   a_{21} & a_{22}  & ... & a_{2n}  \\\\\n",
    "   ... & ...  & ... & ...  \\\\\n",
    "   a_{n1} & a_{n2}  & ... & a_{nn}  \\\\\n",
    "  \\end{array} } \\right]\n",
    "$ =\n",
    "$\n",
    "  \\left[ {\\begin{array}{cc}\n",
    "   1      & 0       & 0    & ... & 0  \\\\\n",
    "   l_{21} & 1       & 0    & ... & 0  \\\\\n",
    "   ...    & ...     & ...  & ... & ... \\\\\n",
    "   l_{n1} & l_{n2}  & ...  & ... & 1  \\\\\n",
    "  \\end{array} } \\right]\n",
    "$* $\n",
    "  \\left[ {\\begin{array}{cc}\n",
    "   u_{11} & u_{12} & u_{13} & ... & u_{1n}  \\\\\n",
    "   0      & u_{22} & u_{23} & ... & b_{2n}  \\\\\n",
    "   ...    & ...    & ...    & ... & ...     \\\\\n",
    "   0      & 0      & ...    & ... & u_{nn}  \\\\\n",
    "  \\end{array} } \\right]\n",
    "$\n",
    "  \n",
    "Si la matriz A es invertible, es decir, tiene inversa, las matrices L y U son únicas.  \n",
    "\n",
    "El proceso de factorización LU se utiliza comúnmente en la resolución de sistemas de ecuaciones lineales, ya que facilita la resolución de sistemas de ecuaciones mediante la sustitución hacia adelante (forward substitution) y la sustitución hacia atrás (backward substitution).\n",
    "\n",
    "Para realizar la factorización LU, se utilizan operaciones de eliminación gaussiana para transformar la matriz original en las matrices L y U. Esto se hace aplicando operaciones elementales de fila para llevar la matriz original a una forma triangular. Las operaciones utilizadas para convertir A en U también se aplican a una matriz \n",
    "L inicialmente igual a la identidad, de tal manera que L guarda la información de las operaciones realizadas.\n",
    "\n",
    "La factorización LU tiene aplicaciones en la resolución de sistemas de ecuaciones lineales, cálculos de determinantes, inversión de matrices y en la resolución numérica de ecuaciones diferenciales, entre otros campos matemáticos y científicos. Al descomponer una matriz en dos matrices triangulares, se simplifica la resolución de sistemas de ecuaciones lineales y otros problemas algebraicos."
   ]
  },
  {
   "cell_type": "code",
   "execution_count": null,
   "id": "7ab62833-183d-424c-89ef-2b5f74a93d20",
   "metadata": {},
   "outputs": [],
   "source": [
    "import sys\n",
    "!{sys.executable} -m pip install scipy"
   ]
  },
  {
   "cell_type": "code",
   "execution_count": 80,
   "id": "1eb577c8",
   "metadata": {},
   "outputs": [
    {
     "name": "stdout",
     "output_type": "stream",
     "text": [
      "[[2 1 1]\n",
      " [1 2 1]\n",
      " [1 1 2]]\n"
     ]
    }
   ],
   "source": [
    "from scipy import linalg \n",
    "import numpy as np\n",
    "\n",
    "A = np.array([[2, 1, 1], [1, 2, 1], [1, 1, 2]])\n",
    "print(A)"
   ]
  },
  {
   "cell_type": "code",
   "execution_count": 83,
   "id": "eab8fdd8",
   "metadata": {},
   "outputs": [
    {
     "data": {
      "text/plain": [
       "array([[1.        , 0.        , 0.        ],\n",
       "       [0.5       , 1.        , 0.        ],\n",
       "       [0.5       , 0.33333333, 1.        ]])"
      ]
     },
     "execution_count": 83,
     "metadata": {},
     "output_type": "execute_result"
    }
   ],
   "source": [
    "_, l, u = linalg.lu(A)\n",
    "l"
   ]
  },
  {
   "cell_type": "code",
   "execution_count": 84,
   "id": "3cbdc2e0",
   "metadata": {},
   "outputs": [
    {
     "data": {
      "text/plain": [
       "array([[2.        , 1.        , 1.        ],\n",
       "       [0.        , 1.5       , 0.5       ],\n",
       "       [0.        , 0.        , 1.33333333]])"
      ]
     },
     "execution_count": 84,
     "metadata": {},
     "output_type": "execute_result"
    }
   ],
   "source": [
    "u"
   ]
  },
  {
   "cell_type": "code",
   "execution_count": 85,
   "id": "4cba5a61-9c99-4655-af24-83d6ccfa71ef",
   "metadata": {},
   "outputs": [
    {
     "data": {
      "text/plain": [
       "array([[2., 1., 1.],\n",
       "       [1., 2., 1.],\n",
       "       [1., 1., 2.]])"
      ]
     },
     "execution_count": 85,
     "metadata": {},
     "output_type": "execute_result"
    }
   ],
   "source": [
    "np.dot(l,u)"
   ]
  },
  {
   "cell_type": "markdown",
   "id": "e71c05c1-4277-4854-b06c-27c0338b1ea8",
   "metadata": {},
   "source": [
    "## 4 Determinantes\n",
    "\n",
    "El determinante $|A|$ de una matriz cuadrada  $A$ es un número que obtenemos a partir de los elementos de la matriz, y que nos dará una idea de cómo estos elementos se relacionan entre ellos.\n",
    "\n",
    "Con Numpy, podemos calcular el determinante fácilmente usando `linalg.det`."
   ]
  },
  {
   "cell_type": "code",
   "execution_count": 86,
   "id": "14f32405-1041-4bd3-941a-cd424881dc92",
   "metadata": {},
   "outputs": [
    {
     "data": {
      "text/plain": [
       "array([[2, 1, 1],\n",
       "       [1, 2, 1],\n",
       "       [1, 1, 2]])"
      ]
     },
     "execution_count": 86,
     "metadata": {},
     "output_type": "execute_result"
    }
   ],
   "source": [
    "A"
   ]
  },
  {
   "cell_type": "code",
   "execution_count": 88,
   "id": "9281e1f7-dfd7-451a-9008-f8267118e542",
   "metadata": {},
   "outputs": [
    {
     "name": "stdout",
     "output_type": "stream",
     "text": [
      "4.0\n"
     ]
    }
   ],
   "source": [
    "print(np.linalg.det(A))"
   ]
  },
  {
   "cell_type": "markdown",
   "id": "5e85bbfe-fe5f-41e0-b3e5-28949d12c24b",
   "metadata": {},
   "source": [
    "### 4.1 Matrices inversas e invertibles\n",
    "\n",
    "Una **matriz** $A$ es **invertible** si y sólo si $|A|≠0$."
   ]
  },
  {
   "cell_type": "code",
   "execution_count": 95,
   "id": "b50bea45-1cd2-44ca-b02e-2cac72361cde",
   "metadata": {},
   "outputs": [
    {
     "name": "stdout",
     "output_type": "stream",
     "text": [
      "[[2 1 1]\n",
      " [1 2 1]\n",
      " [1 1 2]]\n",
      "\n",
      "---\n",
      "\n",
      "[[ 0.75 -0.25 -0.25]\n",
      " [-0.25  0.75 -0.25]\n",
      " [-0.25 -0.25  0.75]]\n"
     ]
    }
   ],
   "source": [
    "A = np.array([[2, 1, 1], [1, 2, 1], [1, 1, 2]])\n",
    "print(A)\n",
    "\n",
    "print(\"\\n---\\n\")\n",
    "\n",
    "# La Matriz es invertible\n",
    "print(np.linalg.inv(A))"
   ]
  },
  {
   "cell_type": "code",
   "execution_count": 92,
   "id": "7013a679-0324-4d84-b9d2-1b7829922537",
   "metadata": {},
   "outputs": [
    {
     "name": "stdout",
     "output_type": "stream",
     "text": [
      "Determinante: 0.0\n"
     ]
    },
    {
     "ename": "LinAlgError",
     "evalue": "Singular matrix",
     "output_type": "error",
     "traceback": [
      "\u001b[1;31m---------------------------------------------------------------------------\u001b[0m",
      "\u001b[1;31mLinAlgError\u001b[0m                               Traceback (most recent call last)",
      "Cell \u001b[1;32mIn[92], line 7\u001b[0m\n\u001b[0;32m      4\u001b[0m \u001b[38;5;28mprint\u001b[39m(\u001b[38;5;124m\"\u001b[39m\u001b[38;5;124mDeterminante:\u001b[39m\u001b[38;5;124m\"\u001b[39m, np\u001b[38;5;241m.\u001b[39mlinalg\u001b[38;5;241m.\u001b[39mdet(A))\n\u001b[0;32m      6\u001b[0m \u001b[38;5;66;03m# Debe arrojar un error\u001b[39;00m\n\u001b[1;32m----> 7\u001b[0m \u001b[38;5;28mprint\u001b[39m(\u001b[43mnp\u001b[49m\u001b[38;5;241;43m.\u001b[39;49m\u001b[43mlinalg\u001b[49m\u001b[38;5;241;43m.\u001b[39;49m\u001b[43minv\u001b[49m\u001b[43m(\u001b[49m\u001b[43mA\u001b[49m\u001b[43m)\u001b[49m)\n",
      "File \u001b[1;32mC:\\Python312\\Lib\\site-packages\\numpy\\linalg\\_linalg.py:608\u001b[0m, in \u001b[0;36minv\u001b[1;34m(a)\u001b[0m\n\u001b[0;32m    605\u001b[0m signature \u001b[38;5;241m=\u001b[39m \u001b[38;5;124m'\u001b[39m\u001b[38;5;124mD->D\u001b[39m\u001b[38;5;124m'\u001b[39m \u001b[38;5;28;01mif\u001b[39;00m isComplexType(t) \u001b[38;5;28;01melse\u001b[39;00m \u001b[38;5;124m'\u001b[39m\u001b[38;5;124md->d\u001b[39m\u001b[38;5;124m'\u001b[39m\n\u001b[0;32m    606\u001b[0m \u001b[38;5;28;01mwith\u001b[39;00m errstate(call\u001b[38;5;241m=\u001b[39m_raise_linalgerror_singular, invalid\u001b[38;5;241m=\u001b[39m\u001b[38;5;124m'\u001b[39m\u001b[38;5;124mcall\u001b[39m\u001b[38;5;124m'\u001b[39m,\n\u001b[0;32m    607\u001b[0m               over\u001b[38;5;241m=\u001b[39m\u001b[38;5;124m'\u001b[39m\u001b[38;5;124mignore\u001b[39m\u001b[38;5;124m'\u001b[39m, divide\u001b[38;5;241m=\u001b[39m\u001b[38;5;124m'\u001b[39m\u001b[38;5;124mignore\u001b[39m\u001b[38;5;124m'\u001b[39m, under\u001b[38;5;241m=\u001b[39m\u001b[38;5;124m'\u001b[39m\u001b[38;5;124mignore\u001b[39m\u001b[38;5;124m'\u001b[39m):\n\u001b[1;32m--> 608\u001b[0m     ainv \u001b[38;5;241m=\u001b[39m \u001b[43m_umath_linalg\u001b[49m\u001b[38;5;241;43m.\u001b[39;49m\u001b[43minv\u001b[49m\u001b[43m(\u001b[49m\u001b[43ma\u001b[49m\u001b[43m,\u001b[49m\u001b[43m \u001b[49m\u001b[43msignature\u001b[49m\u001b[38;5;241;43m=\u001b[39;49m\u001b[43msignature\u001b[49m\u001b[43m)\u001b[49m\n\u001b[0;32m    609\u001b[0m \u001b[38;5;28;01mreturn\u001b[39;00m wrap(ainv\u001b[38;5;241m.\u001b[39mastype(result_t, copy\u001b[38;5;241m=\u001b[39m\u001b[38;5;28;01mFalse\u001b[39;00m))\n",
      "File \u001b[1;32mC:\\Python312\\Lib\\site-packages\\numpy\\linalg\\_linalg.py:104\u001b[0m, in \u001b[0;36m_raise_linalgerror_singular\u001b[1;34m(err, flag)\u001b[0m\n\u001b[0;32m    103\u001b[0m \u001b[38;5;28;01mdef\u001b[39;00m \u001b[38;5;21m_raise_linalgerror_singular\u001b[39m(err, flag):\n\u001b[1;32m--> 104\u001b[0m     \u001b[38;5;28;01mraise\u001b[39;00m LinAlgError(\u001b[38;5;124m\"\u001b[39m\u001b[38;5;124mSingular matrix\u001b[39m\u001b[38;5;124m\"\u001b[39m)\n",
      "\u001b[1;31mLinAlgError\u001b[0m: Singular matrix"
     ]
    }
   ],
   "source": [
    "# Modificar la última fila para que el determinando sea 0\n",
    "A[2] = np.array([2, 1, 1])\n",
    "\n",
    "print(\"Determinante:\", np.linalg.det(A))\n",
    "\n",
    "# Debe arrojar un error\n",
    "print(np.linalg.inv(A))"
   ]
  },
  {
   "cell_type": "code",
   "execution_count": 93,
   "id": "da96aed6-df01-4869-b2df-786fa5e3e3fb",
   "metadata": {},
   "outputs": [
    {
     "data": {
      "text/plain": [
       "array([[ 0.31818182, -0.36363636,  0.31818182],\n",
       "       [-0.18181818,  0.63636364, -0.18181818],\n",
       "       [ 0.04545455,  0.09090909,  0.04545455]])"
      ]
     },
     "execution_count": 93,
     "metadata": {},
     "output_type": "execute_result"
    }
   ],
   "source": [
    "np.linalg.pinv(A)"
   ]
  }
 ],
 "metadata": {
  "kernelspec": {
   "display_name": "Python 3 (ipykernel)",
   "language": "python",
   "name": "python3"
  },
  "language_info": {
   "codemirror_mode": {
    "name": "ipython",
    "version": 3
   },
   "file_extension": ".py",
   "mimetype": "text/x-python",
   "name": "python",
   "nbconvert_exporter": "python",
   "pygments_lexer": "ipython3",
   "version": "3.12.4"
  }
 },
 "nbformat": 4,
 "nbformat_minor": 5
}
