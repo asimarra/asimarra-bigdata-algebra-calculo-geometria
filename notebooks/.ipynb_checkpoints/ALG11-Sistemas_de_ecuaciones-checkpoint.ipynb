{
 "cells": [
  {
   "cell_type": "markdown",
   "id": "cd01449a",
   "metadata": {
    "editable": true,
    "slideshow": {
     "slide_type": ""
    },
    "tags": []
   },
   "source": [
    "<img src=\"images/keepcoding.png\" width=200 align=\"left\">"
   ]
  },
  {
   "cell_type": "markdown",
   "id": "23c3b11e",
   "metadata": {},
   "source": [
    "# Sistemas de ecuaciones lineales\n",
    "\n",
    "<img src=\"images/ecuaciones.jpg\" width=400 align=\"center\">\n",
    "\n",
    "Hemos ido viendo algunos sistemas de ecuaciones en los temas anteriores, ahora vamos a juntar todo lo que sabemos. \n",
    "\n",
    "\n",
    "# 1. Definición \n",
    "\n",
    "Un sistema de $m$ ecuaciones lineales con $n$ incógnitas es un conjunto de ecuaciones lineales que se puede escribir de la siguiente forma:<br><br>\n",
    "  \n",
    "\n",
    "<center>$a_{11}\\cdot x_1+a_{12}\\cdot x_2+...+a_{1n}\\cdot x_n=b_1$<br></center>\n",
    "<center>$a_{21}\\cdot x_1+a_{22}\\cdot x_2+...+a_{1n}\\cdot x_n=b_2$<br></center>\n",
    "<center>...</center>\n",
    "<center>$a_{m1}\\cdot x_1+a_{m2}\\cdot x_2+...+a_{mn}\\cdot x_n=b_m$<br></center>  \n",
    "\n",
    "Como el sistema es **lineal**, es decir, es una suma en la que cada sumando es una incógnita multiplicada por un escalar, podemos aplicar el producto de matrices y escribirlo de la siguiente forma:<br><br>\n",
    "\n",
    "<center>\n",
    "$\\left( {\\begin{array}{cc}\n",
    "   a_{11} & a_{12} & ... & a_{1n}\\\\\n",
    "   a_{21} & a_{22} & ... & a_{2n}\\\\\n",
    "   ... & ... & ... & ...\\\\\n",
    "   a_{m1} & a_{m2} & ... & a_{mn}\\\\\n",
    "  \\end{array} } \\right)\\left( {\\begin{array}{cc}\n",
    "   x_{1}\\\\\n",
    "   x_{2}\\\\\n",
    "   ... \\\\\n",
    "   x_{n}\\\\\n",
    "  \\end{array} } \\right) = \\left( {\\begin{array}{cc}\n",
    "   b_{11}\\\\\n",
    "   b_{21}\\\\\n",
    "   ... \\\\\n",
    "   b_{m1}\\\\\n",
    "  \\end{array} } \\right)$ \n",
    "</center><br><br>\n",
    "\n",
    "Donde se llama **matriz de coeficientes** a:<br>\n",
    "\n",
    "<center>$A=\\left( {\\begin{array}{cc}\n",
    "   a_{11} & a_{12} & ... & a_{1n}\\\\\n",
    "   a_{21} & a_{22} & ... & a_{2n}\\\\\n",
    "   ... & ... & ... & ...\\\\\n",
    "   a_{m1} & a_{m2} & ... & a_{mn}\\\\\n",
    "  \\end{array} } \\right)$ \n",
    "</center><br><br>\n",
    "  \n",
    "Y **matriz ampliada** a la matriz que incluye también el término independiente (es decir, el que no está multiplicando a ninguna incógnita):<br><br>\n",
    "\n",
    "<center>$A^{*}=\\left( {\\begin{array}{cc}\n",
    "   a_{11} & a_{12} & ... & a_{1n} & b_{1n}\\\\\n",
    "   a_{21} & a_{22} & ... & a_{2n} & b_{2n}\\\\\n",
    "   ... & ... & ... & ... & ...\\\\\n",
    "   a_{m1} & a_{m2} & ... & a_{mn} & b_{mn}\\\\\n",
    "  \\end{array} } \\right)$ \n",
    "</center><br><br>\n",
    "\n",
    "Usando la matriz de coeficientes, podemos reescribir el sistema de forma más compacta:\n",
    "<center>$Ax = B$</center>\n",
    "\n",
    "Donde $A$ es una matriz de $mxn$, $x$ y $B$ son dos vectores columna de longitud $n$. \n",
    "\n",
    "\n",
    "## 2. Resolución del sistema\n",
    "\n",
    "Para poder resolver esta ecuación $Ax = B$ debemos despejar $x$, para ello tenemos en cuenta las propiedades de las matrices que hemos visto:<br>\n",
    "\n",
    "<center>$Ax = B$</center><br>\n",
    "<center>$A^{-1}Ax = A^{-1}B$</center><br>\n",
    "<center>$Ix = A^{-1}B$</center><br>\n",
    "<center>$x = A^{-1}B$</center><br>\n",
    "\n",
    "Sin embargo, no todos los sistemas de ecuaciones de este tipo tienen solución, y algunos incluso tienen infinitas soluciones.\n",
    "\n",
    "Del desarrollo anterior, podemos imaginar que si la matriz A es **singular**, no podremos invertirla y por tanto no llegaremos a la solución para x. \n",
    "\n",
    "En general, nos podemos encontrar tres situaciones distintas. Nos puede ayudar pensar en un sistema de dos ecuaciones con dos incógnitas, que podemos ver como dos rectas en el plano. Resolver el sistema equivale a ver los puntos de corte entre estas dos rectas.\n",
    "\n",
    "<img src=\"images/sistemas-ec.png\" align=\"center\">\n",
    "\n"
   ]
  },
  {
   "cell_type": "markdown",
   "id": "af5912da",
   "metadata": {},
   "source": [
    "### 2.1 Sistema compatible determinado\n",
    "\n",
    "Este es el caso en el que la matriz es invertible, por lo tanto podemos identificarlo con $\\det(A)\\neq 0$.\n",
    "\n",
    "<img src=\"images/compatible.png\" align=\"center\">\n",
    "\n",
    "Como ejemplo, resolvemos el siguiente sistema de ecuaciones:\n",
    "\n",
    "2x + 3y - z = 8 \\\n",
    "4x - y + 2z = -3 \\\n",
    "x + 2y - 3z = 15"
   ]
  },
  {
   "cell_type": "code",
   "execution_count": 5,
   "id": "89b762a9",
   "metadata": {},
   "outputs": [],
   "source": [
    "import numpy as np\n",
    "A = np.array([ [2,3,-1], [4,-1,2], [1,2,-3] ])"
   ]
  },
  {
   "cell_type": "code",
   "execution_count": 6,
   "id": "6ca3d52f",
   "metadata": {},
   "outputs": [],
   "source": [
    "B = np.array([8,-3,15])"
   ]
  },
  {
   "cell_type": "code",
   "execution_count": 4,
   "id": "892b5907",
   "metadata": {},
   "outputs": [
    {
     "data": {
      "text/plain": [
       "np.float64(31.0)"
      ]
     },
     "execution_count": 4,
     "metadata": {},
     "output_type": "execute_result"
    }
   ],
   "source": [
    "# Comprobamos el determinante \n",
    "np.linalg.det(A)"
   ]
  },
  {
   "cell_type": "code",
   "execution_count": 8,
   "id": "755426fc",
   "metadata": {},
   "outputs": [
    {
     "data": {
      "text/plain": [
       "array([[-0.03225806,  0.22580645,  0.16129032],\n",
       "       [ 0.4516129 , -0.16129032, -0.25806452],\n",
       "       [ 0.29032258, -0.03225806, -0.4516129 ]])"
      ]
     },
     "execution_count": 8,
     "metadata": {},
     "output_type": "execute_result"
    }
   ],
   "source": [
    "A_inv = np.linalg.inv(A)\n",
    "A_inv"
   ]
  },
  {
   "cell_type": "code",
   "execution_count": 14,
   "id": "cc72bd31",
   "metadata": {},
   "outputs": [
    {
     "data": {
      "text/plain": [
       "array([ 1.48387097,  0.22580645, -4.35483871])"
      ]
     },
     "execution_count": 14,
     "metadata": {},
     "output_type": "execute_result"
    }
   ],
   "source": [
    "# Vector solución\n",
    "X = np.dot(A_inv, B)\n",
    "X"
   ]
  },
  {
   "cell_type": "markdown",
   "id": "b0497174",
   "metadata": {},
   "source": [
    "También podemos calcularlo directamente con `solve`:"
   ]
  },
  {
   "cell_type": "code",
   "execution_count": 13,
   "id": "cf0ce4af",
   "metadata": {},
   "outputs": [
    {
     "data": {
      "text/plain": [
       "array([ 1.48387097,  0.22580645, -4.35483871])"
      ]
     },
     "execution_count": 13,
     "metadata": {},
     "output_type": "execute_result"
    }
   ],
   "source": [
    "# Otra forma de resolver\n",
    "np.linalg.solve(A, B)"
   ]
  },
  {
   "cell_type": "markdown",
   "id": "cf2938d2",
   "metadata": {},
   "source": [
    "En caso de que B=0, es decir, ninguna de las ecuaciones tenga término independiente, la solución del sistema compatible determinado va a ser el punto 0. Para nuestro caso particular en dos dimensiones, si las dos rectas pasan por el 0 y la solución es única, necesariamente tiene que coincidir con el 0.\n",
    "\n",
    "<img src=\"images/compatible-b0.png\" align=\"center\">\n",
    "\n",
    "Vamos a probar a resolver este otro sistema:\n",
    " \n",
    "2x - y - z = 0 \\\n",
    "4x - 2y + 2z = 0 \\\n",
    "x - z = 0 "
   ]
  },
  {
   "cell_type": "code",
   "execution_count": null,
   "id": "fcb57e18",
   "metadata": {},
   "outputs": [],
   "source": []
  },
  {
   "cell_type": "code",
   "execution_count": null,
   "id": "e9925244",
   "metadata": {},
   "outputs": [],
   "source": []
  },
  {
   "cell_type": "code",
   "execution_count": null,
   "id": "dec8d012",
   "metadata": {},
   "outputs": [],
   "source": []
  },
  {
   "cell_type": "code",
   "execution_count": null,
   "id": "60584920",
   "metadata": {},
   "outputs": [],
   "source": [
    "# multiplicar por 0 siempre nos va a dar 0"
   ]
  },
  {
   "cell_type": "markdown",
   "id": "fc3b8aa6",
   "metadata": {},
   "source": [
    "### 2.2 Sistema compatible indeterminado\n",
    "\n",
    "Estamos ante otro tipo de sistema compatible, es decir, con solución. Sin embargo, en este caso nos encontramos con que hay más de una solución. Si hay más de una solución en el sistema lineal es porque las ecuaciones con coincidentes, por lo que tenemos que tener infinitas soluciones.\n",
    "\n",
    "Ya sabemos por el apartado anterior que si la matriz es invertible encontramos una única solución, por lo que ahora estamos en el caso $\\det(A) = 0$. Sin embargo, dentro de esta condición también se encuentran los sistemas sin solución, y aprenderemos a distinguirlos.\n",
    "\n",
    "Imaginemos de nuevo nuestras dos rectas en el plano. Que no haya soluciones quiere decir que las rectas son paralelas (misma pendiente, distinto punto de corte con el eje y) y que haya infinitas soluciones implica que las rectas son coincidentes (misma pendiente y mismo punto de corte con el eje y).\n",
    "\n",
    "<img src=\"images/compatible-indet.png\" align=\"center\">\n",
    "\n",
    "No vamos a ver en detalle cómo ver si se trata de un caso u otro, pero a grandes rasgos:\n",
    "\n",
    "- Podemos aplicar sumas y productos por un escalar a las filas de la matriz sin modificar la solución.\n",
    "- Aplicamos estas operaciones entre filas y llegamos a un sistema equivalente que o bien tiene una fila de ceros (sistema compatible) o bien tiene una fila del tipo a=0 con a!=0, es decir, una contradicción.\n",
    "\n",
    "Es decir, en este caso compatible indeterminado, necesitamos que no solo la matriz A tenga filas linealmente dependientes, sino también la matriz ampliada con el vector B. Podríamos decir que \"nos sobran ecuaciones\" porque alguna de ellas nos da información repetida que ya teníamos con las otras."
   ]
  },
  {
   "cell_type": "code",
   "execution_count": null,
   "id": "f179f09f",
   "metadata": {},
   "outputs": [],
   "source": []
  },
  {
   "cell_type": "code",
   "execution_count": null,
   "id": "935ff55d",
   "metadata": {},
   "outputs": [],
   "source": []
  },
  {
   "cell_type": "code",
   "execution_count": null,
   "id": "f88ac71f",
   "metadata": {},
   "outputs": [],
   "source": [
    "# La matriz sigue siendo singular !!\n"
   ]
  },
  {
   "cell_type": "code",
   "execution_count": 6,
   "id": "8c32f388",
   "metadata": {},
   "outputs": [
    {
     "name": "stdout",
     "output_type": "stream",
     "text": [
      "Requirement already satisfied: sympy in c:\\python312\\lib\\site-packages (1.13.1)\n",
      "Requirement already satisfied: mpmath<1.4,>=1.1.0 in c:\\python312\\lib\\site-packages (from sympy) (1.3.0)\n"
     ]
    }
   ],
   "source": [
    "!pip install sympy"
   ]
  },
  {
   "cell_type": "code",
   "execution_count": 10,
   "id": "784f4773",
   "metadata": {},
   "outputs": [
    {
     "name": "stdout",
     "output_type": "stream",
     "text": [
      "{x: 5*z/3 - 5/3, y: 4/3 - z/3}\n",
      "5*z/3 - 5/3\n",
      "4/3 - z/3\n"
     ]
    }
   ],
   "source": [
    "# !pip install sympy\n",
    "import sympy\n",
    "import numpy as np\n",
    "\n",
    "# Validamos que el determinante sea 0\n",
    "A = np.array([[1, 2, -1],\n",
    "             [-1, 1, 2],\n",
    "             [1, 5, 0]])\n",
    "\n",
    "B = np.array([1, 3, 5]) #.reshape(3, 1)\n",
    "np.linalg.det(A)\n",
    "\n",
    "# Resolver con Sympy\n",
    "x = sympy.Symbol('x')\n",
    "y = sympy.Symbol('y')\n",
    "z = sympy.Symbol('z')\n",
    "\n",
    "fun1 = x + 2*y -z -1\n",
    "fun2 = -x + y + 2*z - 3\n",
    "fun3 = x + 5*y - 5\n",
    "\n",
    "solucion = sympy.solvers.solve([fun1, fun2, fun3], [x, y, z])\n",
    "print(solucion) # Resultado: {x: 5*z/3 - 5/3, y: 4/3 - z/3}\n",
    "print(solucion[y])"
   ]
  },
  {
   "cell_type": "markdown",
   "id": "b31436c0",
   "metadata": {},
   "source": [
    "Nos puede llamar la atención que la solución depende de z, pero esto es consecuencia de que el sistema tenga infinitas ecuaciones. Podemos dar cualquier valor real a z y obtener una solución al problema."
   ]
  },
  {
   "cell_type": "code",
   "execution_count": 15,
   "id": "85d6b4cc",
   "metadata": {},
   "outputs": [
    {
     "data": {
      "text/latex": [
       "$\\displaystyle \\frac{5 z}{3} - \\frac{5}{3}$"
      ],
      "text/plain": [
       "5*z/3 - 5/3"
      ]
     },
     "execution_count": 15,
     "metadata": {},
     "output_type": "execute_result"
    }
   ],
   "source": [
    "solucion[x]"
   ]
  },
  {
   "cell_type": "code",
   "execution_count": 16,
   "id": "d65884da-975e-42e6-acd5-c10990424841",
   "metadata": {},
   "outputs": [
    {
     "data": {
      "text/latex": [
       "$\\displaystyle \\frac{4}{3} - \\frac{z}{3}$"
      ],
      "text/plain": [
       "4/3 - z/3"
      ]
     },
     "execution_count": 16,
     "metadata": {},
     "output_type": "execute_result"
    }
   ],
   "source": [
    "solucion[y]"
   ]
  },
  {
   "cell_type": "markdown",
   "id": "3b6547d9",
   "metadata": {},
   "source": [
    "### 2.3 Sistema incompatible\n",
    "\n",
    "El caso que nos faltaba lo tenemos casi estudiado del apartado anterior. En este caso $\\det(A) = 0$ y además sabemos que las ecuaciones no van a ser equivalentes sino que van a diferir en su término independiente. En dos dimensiones, nuestras dos rectas van a ser paralelas pero no coincidentes:\n",
    "\n",
    "<img src=\"images/incompatible.png\" align=\"center\">\n",
    "\n",
    "El término independiente es el punto de corte de cada recta con el eje y, por lo que a simple vista ya vemos que $B \\neq 0$ en este caso, puesto que de lo contrario el vector 0 tendría que ser solución, y ya no sería un sistema incompatible.\n",
    "\n",
    "Vemos un ejemplo:\n",
    "\n",
    "\n",
    "<center>\n",
    "\\begin{cases} x + 2y -z = 1 \\\\ -x + y + 2z = 3 \\\\ x + 5y = 0\\end{cases}\n",
    "</center>\n",
    "\n",
    "En forma matricial:\n",
    "\n",
    "<center>$\\left( {\\begin{array}{cc}\n",
    "   1 & 2 & -1\\\\\n",
    "   -1 & 1 & 2\\\\\n",
    "   1 & 5 & 0\\\\\n",
    "  \\end{array} } \\right)\\left( {\\begin{array}{cc}\n",
    "   x\\\\\n",
    "   y\\\\\n",
    "   z\\\\\n",
    "  \\end{array} } \\right) = \\left( {\\begin{array}{cc}\n",
    "   1\\\\\n",
    "   3\\\\\n",
    "   0\\\\\n",
    "  \\end{array} } \\right)$ </center>\n",
    " \n"
   ]
  },
  {
   "cell_type": "code",
   "execution_count": 19,
   "id": "51fe42ae",
   "metadata": {},
   "outputs": [
    {
     "data": {
      "text/plain": [
       "[]"
      ]
     },
     "execution_count": 19,
     "metadata": {},
     "output_type": "execute_result"
    }
   ],
   "source": [
    "import sympy\n",
    "\n",
    "x = sympy.Symbol('x')\n",
    "y = sympy.Symbol('y')\n",
    "z = sympy.Symbol('z')\n",
    "\n",
    "fun1 = x + 2*y -z -1\n",
    "fun2 = -x + y + 2*z - 3\n",
    "fun3 = x + 5*y \n",
    "\n",
    "sympy.solvers.solve([fun1, fun2, fun3], [x, y, z])"
   ]
  },
  {
   "cell_type": "code",
   "execution_count": null,
   "id": "39cdcbcb",
   "metadata": {},
   "outputs": [],
   "source": []
  },
  {
   "cell_type": "markdown",
   "id": "a2382be0",
   "metadata": {},
   "source": [
    "## 3. Ejercicio: pleantear un sistema de ecuaciones\n",
    "\n",
    "Imagina que tienes una tienda que vende dos tipos de productos: camisetas y pantalones. Sabes que por cada camiseta vendida, ganas 10 euros, y por cada pantalón vendido, ganas 20 euros.\n",
    "\n",
    "Si en un día vendes un total de 30 prendas y ganas 450  euros en total, puedes plantear un sistema de ecuaciones para encontrar cuántas camisetas y cuántos pantalones vendiste ese día.\n",
    "\n",
    "Llamamos: \n",
    "x a la cantidad de camisetas vendidas y \n",
    "y a la cantidad de pantalones vendidos. \n",
    "\n",
    "Resolver este sistema de ecuaciones lineales nos permitirá determinar cuántas camisetas y cuántos pantalones se vendieron ese día para alcanzar esa cantidad de prendas vendidas y ganancias totales."
   ]
  },
  {
   "cell_type": "code",
   "execution_count": null,
   "id": "dbfe7903-388f-40bd-bd1b-52d2f9c8f22b",
   "metadata": {},
   "outputs": [],
   "source": [
    "x + y = 30\n",
    "10x + 20y = 450"
   ]
  },
  {
   "cell_type": "code",
   "execution_count": 20,
   "id": "f5454a42-ceea-490f-aea5-170d785b5b7a",
   "metadata": {},
   "outputs": [
    {
     "data": {
      "text/plain": [
       "{x: 15, y: 15}"
      ]
     },
     "execution_count": 20,
     "metadata": {},
     "output_type": "execute_result"
    }
   ],
   "source": [
    "import sympy\n",
    "\n",
    "x = sympy.Symbol('x')\n",
    "y = sympy.Symbol('y')\n",
    "\n",
    "fun1 = x + y - 30 # x + y = 30\n",
    "fun2 = 10*x + 20*y - 450 # 10x + 20y = 450\n",
    "\n",
    "sympy.solvers.solve([fun1, fun2], [x, y])"
   ]
  },
  {
   "cell_type": "code",
   "execution_count": 23,
   "id": "f7b2b5b8-5487-42a8-a5d6-6dec16085847",
   "metadata": {},
   "outputs": [
    {
     "name": "stdout",
     "output_type": "stream",
     "text": [
      "10.000000000000002\n",
      "15.0\n",
      "15.0\n"
     ]
    }
   ],
   "source": [
    "import numpy as np\n",
    "\n",
    "A = np.array([[1, 1], [10, 20]])\n",
    "B= np.array([30, 450])\n",
    "\n",
    "print(np.linalg.det(A)) # Validar el determinante\n",
    "\n",
    "X = np.linalg.solve(A, B)\n",
    "print(X[0])\n",
    "print(X[1])"
   ]
  }
 ],
 "metadata": {
  "kernelspec": {
   "display_name": "Python 3 (ipykernel)",
   "language": "python",
   "name": "python3"
  },
  "language_info": {
   "codemirror_mode": {
    "name": "ipython",
    "version": 3
   },
   "file_extension": ".py",
   "mimetype": "text/x-python",
   "name": "python",
   "nbconvert_exporter": "python",
   "pygments_lexer": "ipython3",
   "version": "3.12.4"
  }
 },
 "nbformat": 4,
 "nbformat_minor": 5
}
