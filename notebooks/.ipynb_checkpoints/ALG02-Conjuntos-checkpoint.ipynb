{
 "cells": [
  {
   "cell_type": "markdown",
   "id": "619d0b4d",
   "metadata": {},
   "source": [
    "<img src=\"images/keepcoding.png\" width=200 align=\"left\">"
   ]
  },
  {
   "cell_type": "markdown",
   "id": "34308f8d",
   "metadata": {},
   "source": [
    "# Módulo de Álgebra: Conjuntos"
   ]
  },
  {
   "cell_type": "markdown",
   "id": "b636dba3",
   "metadata": {},
   "source": [
    "## 1. Definición y ejemplos\n",
    "\n",
    "Un conjunto es una colección de elementos. Se dice que un elemento (o miembro) pertenece al conjunto si está definido como incluido de algún modo dentro de él.\n",
    "\n",
    "Por ejemplo: \n",
    "\n",
    "- Los colores azul, verde y rojo\n",
    "- Los números naturales menores que 5\n",
    "- Los días de la semana\n",
    "- Todas las frases de El Quijote\n",
    "- Los dos conjuntos anteriores\n",
    "\n",
    "\n",
    "Los conjuntos pueden ser finitos o infinitos, y en caso de ser finitos tienen cardinal (número de elementos).\n",
    "\n",
    "\n",
    "<img src=\"images/PersonsSet.svg.png\" width=400 align=\"center\">\n",
    "\n",
    "El cardinal de este conjunto de personas es 8, y el orden no es relevante."
   ]
  },
  {
   "cell_type": "markdown",
   "id": "caf53f33",
   "metadata": {},
   "source": [
    "## 2 Representación de conjuntos y propiedades\n",
    "### 2.1 Representación matemática y con python\n",
    "\n",
    "En notación matemática, los representamos por llaves.\n",
    "\n",
    "$$\n",
    "A=\\{1,2,3\\}\n",
    "$$\n",
    "\n",
    "En [python](https://docs.python.org/3/library/stdtypes.html#set-types-set-frozenset), podemos usar esta misma notación:"
   ]
  },
  {
   "cell_type": "code",
   "execution_count": null,
   "id": "c37716a1",
   "metadata": {},
   "outputs": [],
   "source": [
    "# Definimos un conjunto (set) en python\n"
   ]
  },
  {
   "cell_type": "code",
   "execution_count": null,
   "id": "73810b2c",
   "metadata": {},
   "outputs": [],
   "source": [
    "# Podemos conocer su longitud\n"
   ]
  },
  {
   "cell_type": "markdown",
   "id": "f0e56a58",
   "metadata": {},
   "source": [
    "### 2.2 Algunas propiedades\n",
    "\n",
    "Los **duplicados** no se tienen en cuenta y el orden de los miembros no importa dentro del conjunto, los elementos (en cualquier orden) ya definen el conjunto."
   ]
  },
  {
   "cell_type": "code",
   "execution_count": null,
   "id": "33f2a82a",
   "metadata": {},
   "outputs": [],
   "source": [
    "# ¿Qué pasa si hay duplicados?\n"
   ]
  },
  {
   "cell_type": "code",
   "execution_count": null,
   "id": "12c87890",
   "metadata": {},
   "outputs": [],
   "source": []
  },
  {
   "cell_type": "code",
   "execution_count": null,
   "id": "34949e1e",
   "metadata": {},
   "outputs": [],
   "source": [
    "# Comprobamos si A es igual a B\n"
   ]
  },
  {
   "cell_type": "code",
   "execution_count": null,
   "id": "0a5eb120-73f4-4702-9681-6491d5fcb9ed",
   "metadata": {},
   "outputs": [],
   "source": [
    "# Comprobamos si A es distinto de B\n",
    "\n",
    "\n",
    "# También podemos pasarle una operación matemática\n"
   ]
  },
  {
   "cell_type": "code",
   "execution_count": null,
   "id": "82b477dd",
   "metadata": {},
   "outputs": [],
   "source": [
    "# Podemos ver si un elemento pertenece o no a un conjunto\n"
   ]
  },
  {
   "cell_type": "code",
   "execution_count": null,
   "id": "b6ca2a93",
   "metadata": {},
   "outputs": [],
   "source": [
    "# Los elementos de los conjuntos no tienen que ser del mismo tipo\n"
   ]
  },
  {
   "cell_type": "markdown",
   "id": "d1e93cf2",
   "metadata": {},
   "source": [
    "Otra forma de construir un conjunto en python es usando el **constructor** set() (!!Siempre usando doble paréntesis).\n",
    "\n",
    "Es posible **añadir elementos** a un conjunto mediante add() o update(), dependiendo de si quieremos añadir un elemento o varios (un iterable). También es posible **quitar elementos** usando remove() o discard(), dependiendo de si queremos o no un error si el elemento no existe.\n",
    "\n",
    "Tenemos también la forma frozenset() del constructor, que crea un **conjunto que no puede ser modificado**. Esto es importante porque si no, no podríamos hacer conjuntos con objetos mutables como son las listas, diccionarios o los propios conjuntos."
   ]
  },
  {
   "cell_type": "code",
   "execution_count": null,
   "id": "faa06bdc",
   "metadata": {},
   "outputs": [],
   "source": [
    "# Otra forma de construir conjuntos, el constructor set\n"
   ]
  },
  {
   "cell_type": "code",
   "execution_count": null,
   "id": "1590eb28",
   "metadata": {},
   "outputs": [],
   "source": []
  },
  {
   "cell_type": "code",
   "execution_count": null,
   "id": "b5adab78",
   "metadata": {},
   "outputs": [],
   "source": [
    "# También podemos usar el constructor set() para crear un conjunto en python, y añadir un elemento después de crearlo\n"
   ]
  },
  {
   "cell_type": "code",
   "execution_count": null,
   "id": "a9799fbe",
   "metadata": {},
   "outputs": [],
   "source": [
    "# Este método sirve aunque creemos el conjunto sin el constructor\n"
   ]
  },
  {
   "cell_type": "code",
   "execution_count": null,
   "id": "fe619a76",
   "metadata": {},
   "outputs": [],
   "source": [
    "# Podemos añadir varios elementos \n",
    "\n",
    "# A se ha modificado"
   ]
  },
  {
   "cell_type": "code",
   "execution_count": null,
   "id": "9d8ee086",
   "metadata": {},
   "outputs": [],
   "source": [
    "# Quitar un elemento\n",
    "\n",
    "# Da error si no existe"
   ]
  },
  {
   "cell_type": "code",
   "execution_count": null,
   "id": "d7dac475",
   "metadata": {},
   "outputs": [],
   "source": [
    "# lo mismo pero sin lanzar error"
   ]
  },
  {
   "cell_type": "code",
   "execution_count": null,
   "id": "9851e3bb",
   "metadata": {},
   "outputs": [],
   "source": []
  },
  {
   "cell_type": "code",
   "execution_count": null,
   "id": "ef1d0efe",
   "metadata": {},
   "outputs": [],
   "source": [
    "# También podemos eliminar un elemento al azar \n"
   ]
  },
  {
   "cell_type": "code",
   "execution_count": null,
   "id": "02c49b79",
   "metadata": {},
   "outputs": [],
   "source": []
  },
  {
   "cell_type": "code",
   "execution_count": null,
   "id": "89e450ff",
   "metadata": {},
   "outputs": [],
   "source": [
    "F"
   ]
  },
  {
   "cell_type": "code",
   "execution_count": null,
   "id": "e4f3b953",
   "metadata": {},
   "outputs": [],
   "source": [
    "# Podemos borrar todos los elementos\n"
   ]
  },
  {
   "cell_type": "code",
   "execution_count": null,
   "id": "5623df98",
   "metadata": {},
   "outputs": [],
   "source": [
    "# Creamos un frozenset\n"
   ]
  },
  {
   "cell_type": "code",
   "execution_count": null,
   "id": "d0230185",
   "metadata": {},
   "outputs": [],
   "source": [
    "# Intentamos añadir un elemento\n"
   ]
  },
  {
   "cell_type": "markdown",
   "id": "86f9d1ae",
   "metadata": {},
   "source": [
    "Para **recorrer los elementos** de un conjunto, podemos usar un bucle for:"
   ]
  },
  {
   "cell_type": "code",
   "execution_count": null,
   "id": "150cd1fe",
   "metadata": {},
   "outputs": [],
   "source": []
  },
  {
   "cell_type": "code",
   "execution_count": null,
   "id": "b3650123",
   "metadata": {},
   "outputs": [],
   "source": [
    "# No podemos indexar un set\n"
   ]
  },
  {
   "cell_type": "code",
   "execution_count": null,
   "id": "6da614cb",
   "metadata": {},
   "outputs": [],
   "source": [
    "# Tampoco podemos añadir una lista a un set\n"
   ]
  },
  {
   "cell_type": "code",
   "execution_count": null,
   "id": "38bdcf6c",
   "metadata": {},
   "outputs": [],
   "source": [
    "# Pero sí una tupla\n"
   ]
  },
  {
   "cell_type": "code",
   "execution_count": null,
   "id": "3852f19f",
   "metadata": {},
   "outputs": [],
   "source": [
    "# Intentamos acceder a un elemento, pero no están ordenados\n"
   ]
  },
  {
   "cell_type": "markdown",
   "id": "4b8087e1",
   "metadata": {},
   "source": [
    "El **conjunto vacío** se representa matemáticamente por $\\emptyset$ o simplemente $\\{\\}$.\n",
    "En python, no lo podemos definir con llaves y tenemos que usar el constructor."
   ]
  },
  {
   "cell_type": "code",
   "execution_count": null,
   "id": "fc8861e5",
   "metadata": {},
   "outputs": [],
   "source": [
    "# Si intentamos definir el conjunto vacío con llaves no obtendremos lo que buscamos\n"
   ]
  },
  {
   "cell_type": "code",
   "execution_count": null,
   "id": "3cdaf3d7",
   "metadata": {},
   "outputs": [],
   "source": [
    "# Sí que podemos usar el constructor\n"
   ]
  },
  {
   "cell_type": "markdown",
   "id": "53eabb9d",
   "metadata": {},
   "source": [
    "### 2.3 Conjuntos a partir de sus propiedades\n",
    "\n",
    "Una manera de definir los conjuntos es listando todos sus elementos explícitamente, como hemos hecho en el apartado anterior. Esta manera de mostrar los conjuntos se conoce como definición extensiva o notación extensiva. Sin embargo, también es posible definir sus elementos a través de una propiedad o característica que deben poseer todos ellos, es decir, una propiedad o característica que determina la pertenencia a dicho conjunto.\n",
    "\n",
    "Para ello, lo primero que debe hacerse es coger un conjunto bien definido, y tomar algunos de sus elementos en función de una propiedad o característica. Por ejemplo, en la imagen observamos un conjunto de polígonos que podríamos denotar por $P$ y podríamos definir otro conjunto que esté conformado por los elementos de $P$ que sean regulares.\n",
    "\n",
    "<img src=\"./images/polygon_set.png\">\n",
    "\n",
    "Este tipo de construcción de conjunto en la que, en lugar de indicar los elementos individualmente, se determinan sus elementos a través de una propiedad común, se denomina definición intensiva o por comprensión. Matemáticamente utilizan una notación un poco distinta a la que usábamos en la definición extensiva. Por ejemplo, si queremos definir un conjunto $C$ que englobe aquellas cartas de la baraja francesa cuyo palo sea de color rojo, el conjunto inicial que estamos eligiendo y del que tomaremos ciertos elementos es el conjunto de las cartas de la baraja francesa. Entonces escribiríamos matemática $C$ de la siguiente forma:\n",
    "$$\n",
    "C = \\{c : c\\text{ es una carta de la baraja francesa y su palo es rojo}\\}\n",
    "$$\n",
    "En este tipo de expresiones, los dos puntos (\":\") significan \"tal que\". En lugar de los dos puntos se utiliza también la barra vertical \"|\" u oblicua \"/\". En Python, cuando partimos de un conjunto inicial, podemos construir el conjunto $C$ de la misma forma que se definen las listas por comprensión:\n",
    "$$\n",
    "\\{\\text{expresión for elemento in conjunto}\\}\n",
    "$$\n",
    "De forma opcional se puede incluir un filtro para solo añadir al conjunto los elementos que cumplan una condición:\n",
    "$$\n",
    "\\{\\text{expresión for elemento in conjunto if condición}\\}\n",
    "$$\n"
   ]
  },
  {
   "cell_type": "code",
   "execution_count": null,
   "id": "da74ff9f",
   "metadata": {},
   "outputs": [],
   "source": [
    "Cartas = {(1, 'c'), (1, 'd'), (1, 'p'), (1, 't'), (2, 'c'), (2, 'd'), (2, 'p'), (2, 't'), (3, 'c'), (3, 'd'), (3, 'p'), \n",
    "          (3, 't'), (4, 'c'), (4, 'd'), (4, 'p'), (4, 't'), (5, 'c'), (5, 'd'), (5, 'p'), (5, 't'), (6, 'c'), (6, 'd'), \n",
    "          (6, 'p'), (6, 't'), (7, 'c'), (7, 'd'), (7, 'p'), (7, 't'), (8, 'c'), (8, 'd'), (8, 'p'), (8, 't'), (9, 'c'), \n",
    "          (9, 'd'), (9, 'p'), (9, 't'), (10, 'c'), (10, 'd'), (10, 'p'), (10, 't'), ('J', 'c'), ('J', 'd'), ('J', 'p'), \n",
    "          ('J', 't'), ('Q', 'c'), ('Q', 'd'), ('Q', 'p'), ('Q', 't'), ('K', 'c'), ('K', 'd'), ('K', 'p'), ('K', 't')}\n",
    "# Dado el conjunto \"Cartas\" con todas las cartas de la baraja francesa, definimos C con notación intensiva:\n",
    "# C es el conjunto de las cartas de la baraja francesa de color rojo\n"
   ]
  },
  {
   "cell_type": "code",
   "execution_count": null,
   "id": "ff5c0300",
   "metadata": {},
   "outputs": [],
   "source": [
    "# Definimos el conjunto de Cartas anterior por comprensión\n"
   ]
  },
  {
   "cell_type": "code",
   "execution_count": null,
   "id": "cd462ed9",
   "metadata": {},
   "outputs": [],
   "source": [
    "# El conjunto de los números pares entre 0 y 100\n"
   ]
  },
  {
   "cell_type": "code",
   "execution_count": null,
   "id": "9f326b9a",
   "metadata": {},
   "outputs": [],
   "source": [
    "numeros_pares = {num for num in range(0, 101) if num % 2 == 0}\n",
    "print(numeros_pares)\n",
    "print(type(numeros_pares))"
   ]
  },
  {
   "cell_type": "code",
   "execution_count": null,
   "id": "88468e88",
   "metadata": {},
   "outputs": [],
   "source": [
    "# EJERCICIO Lo mismo pero tomando sus cuadrados"
   ]
  },
  {
   "cell_type": "code",
   "execution_count": null,
   "id": "8e82dfb7",
   "metadata": {},
   "outputs": [],
   "source": [
    "# Las letras de la palabra conjunto\n",
    "{letra for letra in 'conjunto'}"
   ]
  },
  {
   "cell_type": "markdown",
   "id": "8529d5a6",
   "metadata": {},
   "source": [
    "## 2. Relaciones entre conjuntos\n",
    "\n",
    "### 2.1 Igualdad entre conjuntos\n",
    "\n",
    "Como ya hemos visto, dos conjuntos que tengan los mismos elementos son el mismo conjunto, y un conjunto no puede tener elementos repetidos"
   ]
  },
  {
   "cell_type": "code",
   "execution_count": null,
   "id": "8d1ced76",
   "metadata": {},
   "outputs": [],
   "source": [
    "# Vemos si los dos conjuntos del apartado anterior son iguales\n"
   ]
  },
  {
   "cell_type": "code",
   "execution_count": null,
   "id": "a42bb76f",
   "metadata": {},
   "outputs": [],
   "source": []
  },
  {
   "cell_type": "code",
   "execution_count": null,
   "id": "c45e4bf5",
   "metadata": {},
   "outputs": [],
   "source": [
    "# También podemos recorrer todos los elementos de dos conjuntos para ver si son iguales (EJERCICIO)\n",
    "\n",
    "    \n",
    "print(equals(A, B))\n",
    "print(equals({1,2}, A))\n",
    "print(equals(A, {3,2,1}))"
   ]
  },
  {
   "cell_type": "markdown",
   "id": "cdc9b0f3",
   "metadata": {},
   "source": [
    "### 2.2 Pertenencia y subconjuntos\n",
    "\n",
    "Puede ocurrir que un conjunto no contenga los mismos elementos que otro, pero que todos sus elementos sí están en otro. Por ejemplo, todos los elementos de $A=\\{1,2,3\\}$ se encuentran en el conjunto $E=\\{1,2,3,4\\}$, pero no al revés (por lo que no son iguales). Se dirá entonces que $A$ es un subconjunto de $E$. Por lo tanto, si se tienen dos conjuntos $C_1$ y $C_2$, diremos que $C_1$ es subconjunto de $C_2$ si cada elemento de $C_1$ es, a su vez, un elemento de $C_2$. También se dice que  $C_2$ es un superconjunto de $C_1$.\n",
    "\n",
    "Un subconjunto es también un conjunto, y por tanto cumple todas las propiedades asociadas a ser un conjunto.\n",
    "\n",
    "<img src=\"./images/Subset-2.svg.png\">\n",
    "\n",
    "Matemáticamente escribiremos $C_1 \\subseteq C_2$ o $C_2 \\supseteq C_1$ y diremos que $C_1$ está contenido en $C_2$ o que $C_2$ contiene a $C_1$. Python ofrece al menos dos posibilidades para verificar la relación de subconjunto:"
   ]
  },
  {
   "cell_type": "code",
   "execution_count": null,
   "id": "caea6bc1",
   "metadata": {},
   "outputs": [],
   "source": [
    "# Comprobamos que A es subconjunto de E\n"
   ]
  },
  {
   "cell_type": "code",
   "execution_count": null,
   "id": "57983dad",
   "metadata": {},
   "outputs": [],
   "source": [
    "# Podemos comprobar que E es superconjunto de A\n"
   ]
  },
  {
   "cell_type": "code",
   "execution_count": null,
   "id": "66f47ad9",
   "metadata": {},
   "outputs": [],
   "source": [
    "# Comprobamos que A es subconjunto de E\n"
   ]
  },
  {
   "cell_type": "code",
   "execution_count": null,
   "id": "f99a06fb",
   "metadata": {},
   "outputs": [],
   "source": [
    "# Además, ya habíamos visto que podemos comprobar facilmente si un elemento está en un conjunto\n"
   ]
  },
  {
   "cell_type": "markdown",
   "id": "34f6b133",
   "metadata": {},
   "source": [
    "## 3. Operaciones entre conjuntos\n",
    "### 3.1 Unión\n",
    "Sean $C_1$ y $C_2$ dos conjuntos cualesquiera, entonces la unión de ellos, representado por $C_1\\cup C_2$ es el conjunto de todos los elementos que pertenecen a uno de los dos conjuntos.\n",
    "\n",
    "Matemáticamente, escribiremos la unión como: $C_1\\cup C_2 = \\{x:x\\in C_1\\lor x\\in C_2\\}$\n",
    "\n",
    "<img src=\"images/SetUnion.svg.png\" width=200 align=\"left\">  \n"
   ]
  },
  {
   "cell_type": "code",
   "execution_count": null,
   "id": "5b9782a4",
   "metadata": {},
   "outputs": [],
   "source": []
  },
  {
   "cell_type": "code",
   "execution_count": null,
   "id": "19eaa9d5",
   "metadata": {},
   "outputs": [],
   "source": []
  },
  {
   "cell_type": "markdown",
   "id": "d728a10f",
   "metadata": {},
   "source": [
    "### 3.2 Intersección\n",
    "Sean $C_1$ y $C_2$ dos conjuntos cualesquiera, entonces la unión de ellos, representado por $C_1\\cup C_2$ es el conjunto de todos los elementos que pertenecen a los dos conjuntos.\n",
    "\n",
    "Matemáticamente, escribiremos la intersección como: $C_1\\cap C_2 = \\{x:x\\in C_1\\land x\\in C_2\\}$\n",
    "\n",
    "\n",
    "<img src=\"images/SetIntersection.svg.png\" width=200 align=\"left\">  \n",
    "<br>  "
   ]
  },
  {
   "cell_type": "code",
   "execution_count": null,
   "id": "91af9b84",
   "metadata": {},
   "outputs": [],
   "source": []
  },
  {
   "cell_type": "code",
   "execution_count": null,
   "id": "456c0753",
   "metadata": {},
   "outputs": [],
   "source": [
    "# Hacemos la intersección y creamos un nuevo set\n"
   ]
  },
  {
   "cell_type": "code",
   "execution_count": null,
   "id": "5c09153d",
   "metadata": {},
   "outputs": [],
   "source": []
  },
  {
   "cell_type": "markdown",
   "id": "0c720d91",
   "metadata": {},
   "source": [
    "<div class=\"alert alert-success\">\n",
    "    <b>Propiedades de la unión y la intersección:</b> \n",
    "</div>"
   ]
  },
  {
   "cell_type": "markdown",
   "id": "6e9d549d",
   "metadata": {},
   "source": [
    "Sean A,B y C subconjuntos cualesquiera de un conjunto universal E, se tiene:  \n",
    "\n",
    "1. **Uniforme**  \n",
    "> Dados A y B, tanto A $\\cup$ B como A $\\cap$ B existen y son únicos\n",
    "2. **Conmutativas**  \n",
    "> A $\\cup$ B=B $\\cup$ A  \n",
    "> A $\\cap$ B=B $\\cap$ A \n",
    "3. **Asociativas**  \n",
    "> A $\\cup$ (B $\\cup$ C) = (A $\\cup$ B) $\\cup$ C  \n",
    "> A $\\cap$ (B $\\cap$ C) = (A $\\cap$ B) $\\cap$ C  \n",
    "4. **Idempotencia**  \n",
    "> A $\\cup$ A = A  \n",
    "> A $\\cap$ A = A  \n",
    "5. **Elemento neutro**  \n",
    "> A $\\cup$ $\\varnothing$ = A  \n",
    "> A $\\cap$ E = A  \n",
    "6. **Absorción**  \n",
    "> A $\\cup$ (A $\\cap$ B) = A  \n",
    "> A $\\cap$ (A $\\cup$ B) = A\n",
    "7. **Distributivas**  \n",
    "> A $\\cup$ (B $\\cap$ C) = (A $\\cup$ B) $\\cap$ (A $\\cup$ C)  \n",
    "> A $\\cap$ (B $\\cup$ C) = (A $\\cap$ B) $\\cup$ (A $\\cap$ C)  "
   ]
  },
  {
   "cell_type": "markdown",
   "id": "6cb0bd43",
   "metadata": {},
   "source": [
    "### 3.3 Resta\n",
    "Sean $C_1$ y $C_2$ dos conjuntos cualesquiera, entonces la diferencia de $C_1$ con $C_2$, representado por $C_1\\setminus C_2$ es el conjunto que resulta de eliminar de $C_1$ cualquier elemento que estén en $C_2$.\n",
    "\n",
    "Matemáticamente, se expresa así: $C_1\\setminus C_2 = \\{x:x\\in C_1\\land x\\notin C_2\\}$\n",
    "\n",
    "\n",
    "<img src=\"images/SetDifferenceA.svg.png\" width=200 align=\"left\">  \n",
    "<br>"
   ]
  },
  {
   "cell_type": "code",
   "execution_count": null,
   "id": "e57a20ef",
   "metadata": {},
   "outputs": [],
   "source": []
  },
  {
   "cell_type": "code",
   "execution_count": null,
   "id": "50965abe",
   "metadata": {},
   "outputs": [],
   "source": []
  },
  {
   "cell_type": "markdown",
   "id": "146e199e",
   "metadata": {},
   "source": [
    "!! A diferencia de la unión e intersección, en la resta sí que importa el orden (A - B o B - A)"
   ]
  },
  {
   "cell_type": "code",
   "execution_count": null,
   "id": "52abc9ea",
   "metadata": {},
   "outputs": [],
   "source": [
    "# También podemos usar difference()\n"
   ]
  },
  {
   "cell_type": "code",
   "execution_count": null,
   "id": "e67e8063",
   "metadata": {},
   "outputs": [],
   "source": []
  },
  {
   "cell_type": "markdown",
   "id": "12eb80d8",
   "metadata": {},
   "source": [
    "### 3.4 Complementario\n",
    "Si tomamos un conjunto $U$ como conjunto universal (asumimos que no hay más elementos que los que pertenecen a U), y sea $C_1$ un subconjuntos cualquiera de $U$, entonces el conjunto complementario de $C_1$, representado por $C_1^c$ o $\\overline{C_1}$ es el conjunto que de todos los elementos de $U$ que no pertenecen a $C_1$.\n",
    "\n",
    "Matemáticamente, escribiremos el complementario como: $\\overline{C_1} = \\{x:x\\in U\\land x\\notin C_1\\}$\n",
    "\n",
    "<img src=\"images/SetComplement.svg.png\" width=200 align=\"left\">  \n",
    "<br>"
   ]
  },
  {
   "cell_type": "code",
   "execution_count": null,
   "id": "3a00fa55",
   "metadata": {},
   "outputs": [],
   "source": [
    "# Podemos calcular el complementario usando la diferencia de conjuntos\n"
   ]
  },
  {
   "cell_type": "markdown",
   "id": "d1ce0866",
   "metadata": {},
   "source": [
    "### 3.5 Diferencia simétrica\n",
    "Sean $C_1$ y $C_2$ dos conjuntos cualesquiera, entonces la diferencia simétrica de $C_1$ con $C_2$, representado por $C_1\\triangle C_2$ es el conjunto de todos los elementos que pertenence o bien a $C_1$, o bien a $C_2$, pero no a ambos.\n",
    "\n",
    "Matemáticamente, escribiremos la diferencia simétrica como: $C_1\\triangle C_2 = \\{x:x\\in C_1\\setminus C_2\\lor x\\in C_2\\setminus C_1\\} = (C_1\\cup C_2)\\setminus(C_1\\cap C_2)$\n",
    "\n",
    "<img src=\"./images/SetSymmetricDifference.svg.png\" width=200 align=\"left\">"
   ]
  },
  {
   "cell_type": "code",
   "execution_count": null,
   "id": "1e72af20",
   "metadata": {},
   "outputs": [],
   "source": []
  },
  {
   "cell_type": "code",
   "execution_count": null,
   "id": "f2085e5b",
   "metadata": {},
   "outputs": [],
   "source": []
  },
  {
   "cell_type": "code",
   "execution_count": null,
   "id": "aa0a242b",
   "metadata": {},
   "outputs": [],
   "source": []
  },
  {
   "cell_type": "code",
   "execution_count": null,
   "id": "4e54c7e6",
   "metadata": {},
   "outputs": [],
   "source": []
  },
  {
   "cell_type": "markdown",
   "id": "797752dd",
   "metadata": {},
   "source": [
    "### 3.6 Producto cartesiano\n",
    "\n",
    "Sean $C_1$ y $C_2$ dos conjuntos cualesquiera, entonces el producto cartesiano de $C_1$ con $C_2$, representado por $C_1\\times C_2$ es el conjunto de todos los pares ordenados (tuplas) posibles que se pueden formar con un elemento que pertenence a $C_1$ y el segundo perteneciente a $C_2$. Matemáticamente, escribiremos el producto cartesiano como:\n",
    "$$\n",
    "C_1\\times C_2 = \\{(x,y):x\\in C_1\\land y\\in C_2\\}\n",
    "$$\n",
    "Como puede observarse, el producto cartesiano no es conmutativo. Veamos un ejemplo:\n",
    "$$\n",
    "\\{1,a,0\\}\\times\\{2,b\\}=\\{(1,2), (1,b), (a,2), (a,b), (0, 2), (0,b)\\}\n",
    "$$\n",
    "En Python podemos calcular el producto cartesiano de la siguiente forma:"
   ]
  },
  {
   "cell_type": "code",
   "execution_count": null,
   "id": "bfba55a8",
   "metadata": {},
   "outputs": [],
   "source": [
    "# Usamos la función product\n"
   ]
  },
  {
   "cell_type": "code",
   "execution_count": null,
   "id": "efe4f411",
   "metadata": {},
   "outputs": [],
   "source": [
    "#También podemos construirlo por comprensión\n"
   ]
  },
  {
   "cell_type": "markdown",
   "id": "9abc2e63",
   "metadata": {},
   "source": [
    "Tenemos que tener cuidado con el producto cartesiano para grandes conjuntos, puesto que puede resultar en un conjunto enorme (como pasa con el CROSS JOIN en SQL)"
   ]
  },
  {
   "cell_type": "markdown",
   "id": "142692d2",
   "metadata": {},
   "source": [
    "## 4. Diagramas de Venn\n",
    "\n",
    "Son herramientas o esquemas para representar conjuntos de forma gráfica, como lo hemos hecho en el apartado anterior. Las regiones encerradas por las líneas cerradas representan los conjuntos, y sus posiciones relativas nos ayudan a visualizar sus propiedades."
   ]
  },
  {
   "cell_type": "code",
   "execution_count": null,
   "id": "49282ef0",
   "metadata": {},
   "outputs": [],
   "source": [
    "!pip install matplotlib_venn"
   ]
  },
  {
   "cell_type": "code",
   "execution_count": null,
   "id": "77df59e5",
   "metadata": {},
   "outputs": [],
   "source": [
    "!pip install matplotlib"
   ]
  },
  {
   "cell_type": "code",
   "execution_count": null,
   "id": "805b5dbe",
   "metadata": {},
   "outputs": [],
   "source": [
    "import matplotlib.pyplot as plt\n",
    "from matplotlib_venn import venn2\n",
    "\n",
    "venn2([set(('a', 'e', 'i', 'y')), set(('i', 'o', 'u'))])"
   ]
  },
  {
   "cell_type": "markdown",
   "id": "56936bb9",
   "metadata": {},
   "source": [
    "Podemos usar los diagramas de Venn para visualizar algunas de las propiedades de la unión y la interesección que hemos visto, por ejemplo:\n",
    "\n",
    "A $\\cup$ (A $\\cap$ B) = A  "
   ]
  },
  {
   "cell_type": "code",
   "execution_count": null,
   "id": "1732f3e1",
   "metadata": {},
   "outputs": [],
   "source": [
    "A = {1, 2, 3, 4, 5}\n",
    "B = {3, 5}\n",
    "C = A & B\n",
    "print('A: '+ str(A))\n",
    "print('B: '+ str(B))\n",
    "print('A int B: ' + str(C))"
   ]
  },
  {
   "cell_type": "code",
   "execution_count": null,
   "id": "4ea05f3e",
   "metadata": {},
   "outputs": [],
   "source": [
    "from matplotlib_venn import venn3\n",
    "venn3([A, B, C], set_labels = ('A', 'B', 'A int B'))"
   ]
  },
  {
   "cell_type": "markdown",
   "id": "6a80036a",
   "metadata": {},
   "source": [
    "La intersección entre A y B siempre va a estar contenida en A (por definición), por lo que haciendo la unión con A siempre nos va a quedar el propio A."
   ]
  },
  {
   "cell_type": "markdown",
   "id": "1e61ee1e",
   "metadata": {},
   "source": [
    "## 5. Ejemplos de conjuntos matemáticos\n",
    "Además de los ejemplos de este notebook y todos los conjuntos que podemos diseñar a partir de nuestro entorno, en matemáticas se han definido unos conjuntos que pueden ayudarnos a la hora de realizar operaciones y enfrentarnos a los problemas matemáticos. Estos conjuntos son:\n",
    "\n",
    "- Los **números naturales** ($\\mathbb{N}$): es el conjunto que posee todos los posibles valores de cardinalidad que podemos obtener. De esta forma se tiene que:\n",
    "$$\\mathbb{N}=\\{0,1,2,3,4,\\dots\\}$$\n",
    "- Los **número enteros** ($\\mathbb{Z}$): es el conjunto que contiene los números naturales y sus opuestos. Por lo tanto se tendrá que $\\mathbb{N}\\subset\\mathbb{Z}$. Surgen a partir de la necesidad de resolver la operación $m - n$ donde $m,n\\in\\mathbb{N}$ y $m<n$. De esta forma se tendrá que: \n",
    "$$\\mathbb{Z}=\\{\\dots, -4,-3,-2,-1,0,1,2,3,4,\\dots\\}=\\{-n:n\\in\\mathbb{N}^+\\}\\cup\\{0\\}\\cup\\mathbb{N}^+$$\n",
    "- Los **números racionales** ($\\mathbb{Q}$): es el conjunto de todos los números que pueden escribirse como $z/n$ donde $z\\in\\mathbb{Z}$ y $n\\in\\mathbb{N}^+$. Si se establece una relación de equivalencia adecuada, se afirmará que $\\mathbb{Z}\\subset\\mathbb{Q}$. Así se tiene que:\n",
    "$$\\mathbb{Q}=\\left\\{\\frac{z}{n}:z\\in\\mathbb{Z}\\land n\\in\\mathbb{N}^+\\right\\}$$\n",
    "- Los **números reales** ($\\mathbb{R}$): constituidos por todos los números racionales y aquellos números decimales que no pueden representarse mediante una fracción (como es el caso de $\\pi$). Por lo tanto $\\mathbb{Q}\\subset\\mathbb{R}$.\n",
    "\n",
    "Existen también los números complejos, pero no los vamos a ver en este módulo.\n",
    "\n",
    "Todos estos conjuntos son infinitos, por lo que no podremos implementarlos en Python (por cuestión de que el ordenador dispone de una memoria finita así como no disponemos de un tiempo infinito para generar dichos conjuntos). Sin embargo, podemos obtener subconjuntos bastante grandes de estos conjuntos:"
   ]
  },
  {
   "cell_type": "code",
   "execution_count": null,
   "id": "9f52603f",
   "metadata": {},
   "outputs": [],
   "source": [
    "!pip install numpy"
   ]
  },
  {
   "cell_type": "code",
   "execution_count": null,
   "id": "1efa848f",
   "metadata": {},
   "outputs": [],
   "source": [
    "# Generamos un conjunto de tamaño 1.000.000 de los racionales comprendidos entre 1 y 2\n"
   ]
  },
  {
   "cell_type": "code",
   "execution_count": null,
   "id": "872e4660",
   "metadata": {},
   "outputs": [],
   "source": [
    "# Generamos números naturales\n"
   ]
  },
  {
   "cell_type": "code",
   "execution_count": null,
   "id": "bb62feb6",
   "metadata": {},
   "outputs": [],
   "source": [
    "# Generamos números enteros\n"
   ]
  },
  {
   "cell_type": "markdown",
   "id": "1d734fcb",
   "metadata": {},
   "source": [
    "## Apéndice. List vs set"
   ]
  },
  {
   "cell_type": "code",
   "execution_count": null,
   "id": "3b0217f0",
   "metadata": {},
   "outputs": [],
   "source": [
    "#Calculemos el tiempo que se tarda en buscar un elemento en una lista muy grande\n",
    "import timeit\n",
    "\n",
    "# Generamos la lista\n"
   ]
  },
  {
   "cell_type": "code",
   "execution_count": null,
   "id": "49dba0e0",
   "metadata": {},
   "outputs": [],
   "source": [
    "# Calculemos el tiempo que se tarda en buscar un elemento en un conjunto igual de grande\n",
    "# Generamos el conjunto\n"
   ]
  },
  {
   "cell_type": "code",
   "execution_count": null,
   "id": "075682e8",
   "metadata": {},
   "outputs": [],
   "source": [
    "# Probamos con un conjunto el doble de grande... si nos atrevemos\n",
    "# Generamos la lista\n"
   ]
  },
  {
   "cell_type": "code",
   "execution_count": null,
   "id": "6f12b74c",
   "metadata": {},
   "outputs": [],
   "source": [
    "# Generamos el conjunto\n"
   ]
  },
  {
   "cell_type": "markdown",
   "id": "be583849",
   "metadata": {},
   "source": [
    "## Ejercicios"
   ]
  },
  {
   "cell_type": "markdown",
   "id": "ddb3e747",
   "metadata": {},
   "source": [
    "### 1. Powersets\n",
    "\n",
    "El [powerset](https://en.wikipedia.org/wiki/Power_set) o conjunto de partes de un conjunto es otro conjunto que contiene todos los posibles subconjuntos. Por ejemplo, en el conjunto {'perro', 'gato', 'conejo'} tendremos los siguientes subconjuntos:\n",
    "\n",
    "{} \n",
    "{'perro'}\n",
    "{'perro', 'gato'}\n",
    "{'perro', 'gato', 'conejo'}\n",
    "{'perro', 'conejo'}\n",
    "{'gato'}\n",
    "{'gato', 'conejo'}\n",
    "{'conejo'}\n",
    "\n",
    "El conjunto vacío y el conjunto inicial forman siempre parte del powerset de un conjunto C. El cardinal del powerset es $2^n$, siendo n el número de elementos del conjunto.\n",
    "\n",
    "Vamos a implementar el powerset con Python.\n",
    "\n",
    "#### 1.1 Implementación iterativa\n",
    "\n",
    "Implementa una función para obtener el powerset de un conjunto dado de forma iterativa. También se puede hacer de forma recursiva, porque el powerset de {1, 2, 3} contiene al de {1, 2}."
   ]
  },
  {
   "cell_type": "code",
   "execution_count": null,
   "id": "d49f4ad2",
   "metadata": {},
   "outputs": [],
   "source": [
    "def powerset(A):\n",
    "    # TODO Define la funcion\n",
    "\n",
    "print(powerset({1,2,3}))\n",
    "print(powerset({'coche','bici','avion', 'moto'}))"
   ]
  },
  {
   "cell_type": "markdown",
   "id": "9483d8ef",
   "metadata": {},
   "source": [
    "#### 1.2 Implementación usando itertools\n",
    "\n",
    "Implementa una función para obtener el powerset de un conjunto dado usando la librería `itertools`. En este caso, podemos dejar el resultado como tuplas, en lugar de sets.\n",
    "\n",
    "https://docs.python.org/3/library/itertools.html"
   ]
  },
  {
   "cell_type": "code",
   "execution_count": null,
   "id": "fb6d86fc",
   "metadata": {},
   "outputs": [],
   "source": [
    "import itertools as it\n",
    "\n",
    "def powerset_it(A):\n",
    "    ## TODO Añade la funcion\n",
    "\n",
    "for elemento in powerset_it({1,2,3}):\n",
    "    print(elemento)"
   ]
  }
 ],
 "metadata": {
  "kernelspec": {
   "display_name": "venv",
   "language": "python",
   "name": "venv"
  },
  "language_info": {
   "codemirror_mode": {
    "name": "ipython",
    "version": 3
   },
   "file_extension": ".py",
   "mimetype": "text/x-python",
   "name": "python",
   "nbconvert_exporter": "python",
   "pygments_lexer": "ipython3",
   "version": "3.10.12"
  }
 },
 "nbformat": 4,
 "nbformat_minor": 5
}
