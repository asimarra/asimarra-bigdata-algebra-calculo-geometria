{
 "cells": [
  {
   "cell_type": "markdown",
   "id": "c11aa2ff",
   "metadata": {},
   "source": [
    "<img src=\"images/keepcoding.png\" width=200 align=\"left\">"
   ]
  },
  {
   "cell_type": "markdown",
   "id": "350628ac",
   "metadata": {},
   "source": [
    "# Tensores\n",
    "\n",
    "## 1. Definición\n",
    "\n",
    "Hay diferentes definiciones dependiendo del ámbito (física, matemáticas, informática...). Para nosotros, va a ser una generalización de escalares, vectores y matrices a un número arbitrario de dimensiones (o ejes), y los vamos a usar para almacenar datos multidimensionales.\n",
    "\n",
    "Por tanto, un vector y una matriz **también son tensores**, de dimensión 1 y 2 respectivamente. En dimensión 1 necesitábamos un subíndice para definir el vector. En dimensión 2, dos subíndices, y ahora podremos necesitar un número arbitrario de ellos.\n",
    "\n",
    "<img src=\"images/tensor.png\" width=70%/>\n",
    "\n",
    "\n",
    "**¿Para qué vamos a usarlos?** En machine learning y deep learning los usaremos para almacenar datos y operar con ellos rápida y fácilmente. Por ejemplo, almacenar un array de imágenes para un clasificador con Deep Learning o la relación entre varias palabras en un modelo de procesamiento de lenguaje natural. Podemos usar Python con numpy, tensorflow, keras...\n",
    "\n",
    "<img src=\"images/tensor-cubo.jpeg\" width=30%/>\n"
   ]
  },
  {
   "cell_type": "markdown",
   "id": "341f8618",
   "metadata": {},
   "source": [
    "## 2. Representación de tensores\n",
    "\n",
    "Usando como ejemplo un tensor en tres dimensiones, ya hemos visto que necesitaríamos tres índices para almacenar los datos. Podemos verlo como un conjunto de matrices, una a continuación de la otra.\n",
    "\n",
    "$ T =\n",
    "  \\left( {\\begin{array}{cc}\n",
    "   t_{111}, t_{121}, t_{131} \\\\  \n",
    "   t_{211}, t_{221}, t_{231} \\\\  \n",
    "   t_{311}, t_{321}, t_{331} \\\\  \n",
    "  \\end{array} } \\right) ,\n",
    "  \\left( {\\begin{array}{cc}\n",
    "   t_{112}, t_{122}, t_{132} \\\\  \n",
    "   t_{212}, t_{222}, t_{232} \\\\  \n",
    "   t_{312}, t_{322}, t_{332} \\\\  \n",
    "  \\end{array} } \\right) ,\n",
    "  \\left( {\\begin{array}{cc}\n",
    "   t_{113}, t_{123}, t_{133} \\\\  \n",
    "   t_{213}, t_{223}, t_{233} \\\\  \n",
    "   t_{313}, t_{323}, t_{333} \\\\  \n",
    "  \\end{array} } \\right)\n",
    "  $"
   ]
  },
  {
   "cell_type": "code",
   "execution_count": null,
   "id": "2d610f1c",
   "metadata": {},
   "outputs": [],
   "source": []
  },
  {
   "cell_type": "markdown",
   "id": "b4ebf621",
   "metadata": {},
   "source": [
    "Que la dimensión sea (3, 3, 3) quiere decir que tenemos tres filas y tres columnas en cada matriz, y además tres matrices una detrás de la otra. Si lo vemos como un paralelepípedo, será un cubo de tamaño 3."
   ]
  },
  {
   "cell_type": "code",
   "execution_count": null,
   "id": "caef86cc",
   "metadata": {},
   "outputs": [],
   "source": []
  },
  {
   "cell_type": "code",
   "execution_count": null,
   "id": "c84f48a8",
   "metadata": {},
   "outputs": [],
   "source": []
  },
  {
   "cell_type": "code",
   "execution_count": null,
   "id": "938afc34",
   "metadata": {},
   "outputs": [],
   "source": []
  },
  {
   "cell_type": "code",
   "execution_count": null,
   "id": "958214ad",
   "metadata": {},
   "outputs": [],
   "source": []
  },
  {
   "cell_type": "code",
   "execution_count": null,
   "id": "9ae077cc",
   "metadata": {},
   "outputs": [],
   "source": []
  },
  {
   "cell_type": "code",
   "execution_count": null,
   "id": "ec4200aa",
   "metadata": {},
   "outputs": [],
   "source": []
  },
  {
   "cell_type": "code",
   "execution_count": null,
   "id": "28a4f800",
   "metadata": {},
   "outputs": [],
   "source": []
  },
  {
   "cell_type": "code",
   "execution_count": null,
   "id": "dcee2744",
   "metadata": {},
   "outputs": [],
   "source": []
  },
  {
   "cell_type": "code",
   "execution_count": null,
   "id": "e1a661b9",
   "metadata": {},
   "outputs": [],
   "source": []
  },
  {
   "cell_type": "markdown",
   "id": "b60672ee",
   "metadata": {},
   "source": [
    "## 3. Operaciones elementales\n",
    "\n",
    "### 3.1 Suma de tensores\n",
    "\n",
    "La suma (y la resta de tensores) se hace elemento a elemento, igual que lo hacíamos con las matrices. Aplican de nuevo la **asociatividad**, **conmutatividad**, **existencia de elemento neutro** y **existencia de inverso**."
   ]
  },
  {
   "cell_type": "code",
   "execution_count": null,
   "id": "9ed27e0b",
   "metadata": {},
   "outputs": [],
   "source": []
  },
  {
   "cell_type": "code",
   "execution_count": null,
   "id": "8a7938a5",
   "metadata": {},
   "outputs": [],
   "source": []
  },
  {
   "cell_type": "code",
   "execution_count": null,
   "id": "b33648ec",
   "metadata": {},
   "outputs": [],
   "source": []
  },
  {
   "cell_type": "markdown",
   "id": "68dc1378",
   "metadata": {},
   "source": [
    "¿Qué pasa si no tienen el mismo tamaño?"
   ]
  },
  {
   "cell_type": "code",
   "execution_count": null,
   "id": "267c0917",
   "metadata": {},
   "outputs": [],
   "source": []
  },
  {
   "cell_type": "markdown",
   "id": "a0073f82",
   "metadata": {},
   "source": [
    "### 3.2 Producto de un tensor por un escalar \n",
    "\n",
    "El producto de un tensor por un escalar también tiene como resultado un tensor donde cada elemento está multiplicado por el escalar."
   ]
  },
  {
   "cell_type": "code",
   "execution_count": null,
   "id": "58e2072a",
   "metadata": {},
   "outputs": [],
   "source": []
  },
  {
   "cell_type": "code",
   "execution_count": null,
   "id": "7848cfbd",
   "metadata": {},
   "outputs": [],
   "source": []
  },
  {
   "cell_type": "code",
   "execution_count": null,
   "id": "e1821a2b",
   "metadata": {},
   "outputs": [],
   "source": []
  },
  {
   "cell_type": "code",
   "execution_count": null,
   "id": "69d97c0f",
   "metadata": {},
   "outputs": [],
   "source": []
  },
  {
   "cell_type": "markdown",
   "id": "3c5339c0",
   "metadata": {},
   "source": [
    "**Recordatorio**: Para todas las operaciones elemento a elemento, necesitamos que la dimensión sea la misma."
   ]
  },
  {
   "cell_type": "markdown",
   "id": "ed8de185",
   "metadata": {},
   "source": [
    "## 4. Ejemplo: uso de un tensor para almacenar una imagen RGB"
   ]
  },
  {
   "cell_type": "code",
   "execution_count": null,
   "id": "69d329cc",
   "metadata": {},
   "outputs": [],
   "source": [
    "!pip install image_to_numpy"
   ]
  },
  {
   "cell_type": "code",
   "execution_count": null,
   "id": "318fbf84",
   "metadata": {},
   "outputs": [],
   "source": [
    "import image_to_numpy\n",
    "import matplotlib.pyplot as plt"
   ]
  },
  {
   "cell_type": "markdown",
   "id": "798a875f",
   "metadata": {},
   "source": [
    "<img src=\"images/tensor.png\" width=70%/>"
   ]
  },
  {
   "cell_type": "code",
   "execution_count": null,
   "id": "1259ac76",
   "metadata": {},
   "outputs": [],
   "source": []
  },
  {
   "cell_type": "code",
   "execution_count": null,
   "id": "5da82a85",
   "metadata": {},
   "outputs": [],
   "source": []
  },
  {
   "cell_type": "code",
   "execution_count": null,
   "id": "32986a98",
   "metadata": {},
   "outputs": [],
   "source": []
  },
  {
   "cell_type": "code",
   "execution_count": null,
   "id": "d0390c16",
   "metadata": {},
   "outputs": [],
   "source": []
  },
  {
   "cell_type": "code",
   "execution_count": null,
   "id": "32eb12cb",
   "metadata": {},
   "outputs": [],
   "source": []
  }
 ],
 "metadata": {
  "kernelspec": {
   "display_name": "Python 3 (ipykernel)",
   "language": "python",
   "name": "python3"
  },
  "language_info": {
   "codemirror_mode": {
    "name": "ipython",
    "version": 3
   },
   "file_extension": ".py",
   "mimetype": "text/x-python",
   "name": "python",
   "nbconvert_exporter": "python",
   "pygments_lexer": "ipython3",
   "version": "3.10.12"
  }
 },
 "nbformat": 4,
 "nbformat_minor": 5
}
