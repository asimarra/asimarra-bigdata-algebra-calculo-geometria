{
 "cells": [
  {
   "cell_type": "markdown",
   "id": "d53038e1",
   "metadata": {},
   "source": [
    "<img src=\"images/keepcoding.png\" width=200 align=\"left\">"
   ]
  },
  {
   "cell_type": "markdown",
   "id": "d5b160f2",
   "metadata": {},
   "source": [
    "# Límites y derivadas de funciones reales\n",
    "\n",
    "## 1. Funciones reales\n",
    "\n",
    "### 1.1 Definición y ejemplos\n",
    "\n",
    "Una función real es una relación que asigna un conjunto de **valores real de salida** (o imagen) a un conjunto de **valores de entrada en el conjunto de números reales**. En otras palabras, es una regla que toma varios números reales como entrada y produce varios números reales como salida. Una función real de varias variables se denota generalmente como $f: \\mathbb{R}^n \\rightarrow \\mathbb{R}^m$, donde $\\mathbb{R}^l$ representa el conjunto de $l$-tuplas de números reales.\n",
    "\n",
    "La definición matemática de una función real de varias variables es la siguiente:\n",
    "\n",
    "Dada una función $f: \\mathbb{R}^n \\rightarrow \\mathbb{R}^m$, para cada $n$-tupla de números reales $(x_1, x_2, \\ldots, x_n)$ en el dominio de $f$, existe una única tupla de números reales real $(y_1, y_2, \\ldots, y_n)$ en el codominio de $f$ de tal manera que cuando evaluamos $f(x_1, x_2, \\ldots, x_n)$, obtenemos $(y_1, y_2, \\ldots, y_n)$.\n",
    "\n",
    "En términos más simples, y para el caso particular de $m=1$, una función real de varias variables toma una $n$-tupla de números reales como entrada y devuelve un número real como salida. Por ejemplo, la función $f(x, y) = x^2 + y^2$ es una función real de dos variables que toma dos números reales, $x$ y $y$, como entrada y devuelve $x^2 + y^2$ como salida.\n",
    "\n",
    "Implementamos algunas funciones en Python:\n",
    "\n",
    "- $f_1:\\mathbb{R}^2\\rightarrow\\mathbb{R}$ tal que $f_1(x,y)=x²+y²$\n",
    "- $f_2:\\mathbb{R}^3\\rightarrow\\mathbb{R}^5$ tal que $f_2(x, y, z) = (x + y, \\frac{x^2 - y}{z}, z^y, 2^{x+y}, z)$\n",
    "- $f_3:\\mathbb{R}\\rightarrow\\mathbb{R}$ tal que $f_3(x) = \\pi^x$\n"
   ]
  },
  {
   "cell_type": "code",
   "execution_count": null,
   "id": "1820930a",
   "metadata": {},
   "outputs": [],
   "source": [
    "# Implementamos varias funciones\n"
   ]
  },
  {
   "cell_type": "markdown",
   "id": "fc6ced67",
   "metadata": {},
   "source": [
    "Los **intervalos** son los conjuntos básicos de la recta real $\\mathbb{R}$, pudiendo ser abiertos o cerrados (según entren  no sus extremos) y acotados o infinitos:\n",
    "- Cerrado: $[a, b]=\\{x\\in\\mathbb{R}:a\\leq x\\leq b\\}$\n",
    "- Abierto: $(a, b)=\\{x\\in\\mathbb{R}:a< x< b\\}$\n",
    "- Semiabierto o semicerrado: $(a, b]=\\{x\\in\\mathbb{R}:a< x\\leq b\\}$\n",
    "- Semiabierto o semicerrado: $[a, b)=\\{x\\in\\mathbb{R}:a\\leq x< b\\}$\n",
    "- Infinito cerrado: $[a, \\infty)=\\{x\\in\\mathbb{R}:a\\leq x\\}$\n",
    "- Infinito abierto: $(a, \\infty)=\\{x\\in\\mathbb{R}:a< x\\}$\n",
    "- Infinito cerrado: $(-\\infty, a]=\\{x\\in\\mathbb{R}:a\\geq x\\}$\n",
    "- Infinito abierto: $(-\\infty, a)=\\{x\\in\\mathbb{R}:a> x\\}$"
   ]
  },
  {
   "cell_type": "markdown",
   "id": "aee9670d",
   "metadata": {},
   "source": [
    "### 1.2 Caracterización y visualización\n",
    "\n",
    "Se dice que una función real $f:\\mathbb{R}\\rightarrow\\mathbb{R}$ es:\n",
    "- Creciente en el intervalo $I$, si $\\forall x_1, x_2\\in I$ con $x_1<x_2$ se cumple que $f(x_1)<f(x_2)$\n",
    "- Decreciente en el intervalo $I$, si $\\forall x_1, x_2\\in I$ con $x_1<x_2$ se cumple que $f(x_1)>f(x_2)$\n",
    "- Constante en el intervalo $I$, si $\\forall x_1, x_2\\in I$ se cumple que $f(x_1)=f(x_2)$\n",
    "\n",
    "Aunque en Python no podemos comprobar todos los valores de un intervalo (por haber infinitos número reales), si podemos coger una muestra"
   ]
  },
  {
   "cell_type": "code",
   "execution_count": null,
   "id": "3e62a6ab",
   "metadata": {},
   "outputs": [],
   "source": [
    "# Comprobemos si la función f(x) = x**2 es creciente en el intervalo [1, 5]\n"
   ]
  },
  {
   "cell_type": "markdown",
   "id": "a3245f06",
   "metadata": {},
   "source": [
    "Podemos usar la librería `matplotlib` para visualizar funciones con Python. Por ejemplo:"
   ]
  },
  {
   "cell_type": "code",
   "execution_count": null,
   "id": "6dd516ed",
   "metadata": {},
   "outputs": [],
   "source": [
    "# Visualizamos x^2\n"
   ]
  },
  {
   "cell_type": "markdown",
   "id": "37901a16",
   "metadata": {},
   "source": [
    "Hemos visto que primero tenemos que crear un rango de valores para la variable independiente, puesto que Python no puede evaluar un número infinito de números reales.\n",
    "\n",
    "También podemos usar matplotlib para visualizar superficies, es decir, funciones reales de dos variables con imagen un número real. En este caso, necesitaremos dar un rango de valores a dos ejes."
   ]
  },
  {
   "cell_type": "markdown",
   "id": "ffba33c6",
   "metadata": {},
   "source": [
    "## 2. Cálculo simbólico en Python: la librería `sympy`\n",
    "\n",
    "SymPy es una biblioteca de Python utilizada para álgebra simbólica. Permite realizar cálculos simbólicos en lugar de cálculos numéricos, lo que es útil para resolver ecuaciones, simplificar expresiones matemáticas y realizar manipulaciones simbólicas en matemáticas y física. Vemos algunos ejemplos:"
   ]
  },
  {
   "cell_type": "code",
   "execution_count": null,
   "id": "2efc782e",
   "metadata": {},
   "outputs": [],
   "source": [
    "!pip install sympy"
   ]
  },
  {
   "cell_type": "code",
   "execution_count": null,
   "id": "7cc9a4b8",
   "metadata": {},
   "outputs": [],
   "source": [
    "from sympy import Symbol\n"
   ]
  },
  {
   "cell_type": "code",
   "execution_count": null,
   "id": "ae75a016",
   "metadata": {},
   "outputs": [],
   "source": []
  },
  {
   "cell_type": "markdown",
   "id": "c8c2b939",
   "metadata": {},
   "source": [
    "Sympy nos dice que no puede evaluar esa expresión, porque lógicamente no tiene datos para hacerlo. En SymPy, existen las **suposiciones**, que se refieren a las propiedades o restricciones que puedes aplicar a las variables simbólicas en tus expresiones matemáticas. Algunas de las suposiciones comunes en SymPy se utilizan para indicar que una variable simbólica es, por ejemplo, un número real, un número complejo, entero positivo, etc. Estas suposiciones ayudan a SymPy a simplificar y manipular expresiones de manera más precisa.\n",
    "\n",
    "Las suposiciones se pueden aplicar a variables simbólicas utilizando el método assume() y se pueden consultar utilizando el método ask(). "
   ]
  },
  {
   "cell_type": "code",
   "execution_count": null,
   "id": "89c50712",
   "metadata": {},
   "outputs": [],
   "source": [
    "# Hagamos una suposición\n"
   ]
  },
  {
   "cell_type": "code",
   "execution_count": null,
   "id": "619d06fb",
   "metadata": {},
   "outputs": [],
   "source": [
    "from sympy import simplify\n",
    "\n",
    "# Expresión a simplificar\n",
    "\n",
    "# Simplificar la expresión\n",
    "\n",
    "# Mostrar la expresión simplificada\n"
   ]
  },
  {
   "cell_type": "code",
   "execution_count": null,
   "id": "f15ff21a",
   "metadata": {},
   "outputs": [],
   "source": [
    "from sympy import symbols, Eq, solve\n",
    "# Crear una ecuación simbólica\n",
    "\n",
    "\n",
    "# Resolver la ecuación para x\n",
    "\n",
    "\n",
    "# Mostrar las soluciones\n"
   ]
  },
  {
   "cell_type": "markdown",
   "id": "1a370323",
   "metadata": {},
   "source": [
    "Podemos ver más ejemplos y casos de uso en la [documentación](https://www.sympy.org/en/index.html) de SymPy "
   ]
  },
  {
   "cell_type": "markdown",
   "id": "4c6434d0",
   "metadata": {},
   "source": [
    "## 3. Límites y continuidad\n",
    "\n",
    "El límite de una función es un concepto fundamental en cálculo que describe el comportamiento de una función a medida que la variable independiente se acerca a un valor específico. Se denota como:\n",
    "\n",
    "$\\lim_{{x \\to a}} f(x)$\n",
    "\n",
    "Donde:\n",
    "\n",
    "- $\\lim$ representa el símbolo del límite.\n",
    "- $x$ es la variable independiente.\n",
    "- $a$ es el valor al cual $x$ se está acercando.\n",
    "- $f(x)$ es la función que estamos estudiando.\n",
    "\n",
    "El límite describe cómo se comporta la función $f(x)$ cuando $x$ se acerca a $a$. Existen tres casos principales:\n",
    "\n",
    "1. **Límite Finito:**\n",
    "   Si $\\lim_{{x \\to a}} f(x)$ es un número real, significa que la función tiende a un valor específico a medida que $x$ se acerca a $a$. Por ejemplo, $\\lim_{{x \\to 2}} (2x) = 4$ significa que la función $2x$ tiende a $4$ cuando $x$ se acerca a $2$.\n",
    "\n",
    "2. **Límite Infinito:**\n",
    "   Si $\\lim_{{x \\to a}} f(x) = \\infty$, significa que la función crece sin límite a medida que $x$ se acerca a $a$. Por ejemplo, $\\lim_{{x \\to 0}} \\frac{1}{x} = \\infty$ indica que la función $\\frac{1}{x}$ se vuelve infinitamente grande a medida que $x$ se acerca a $0$.\n",
    "\n",
    "3. **Límite Inexistente o Indefinido:**\n",
    "   En algunos casos, el límite puede no existir porque la función no se acerca a ningún valor específico. Esto puede deberse a oscilaciones o discontinuidades en la función.\n",
    "\n",
    "El cálculo de límites es una parte fundamental del cálculo y se utiliza para analizar el comportamiento de funciones en puntos críticos, para evaluar continuidad y diferenciabilidad, y para resolver ecuaciones y desigualdades en matemáticas y ciencias aplicadas. Las reglas para calcular límites pueden variar según la función y la situación, y pueden incluir técnicas como sustitución directa, factorización, el teorema del sandwich y más. El cálculo de límites es esencial para comprender conceptos como continuidad, derivación e integración en matemáticas.\n",
    "\n",
    "\n",
    "Por suerte, podemos usar SymPy para calcular límites:"
   ]
  },
  {
   "cell_type": "code",
   "execution_count": null,
   "id": "1b67802b",
   "metadata": {},
   "outputs": [],
   "source": [
    "from sympy import Limit, Symbol, S\n"
   ]
  },
  {
   "cell_type": "code",
   "execution_count": null,
   "id": "5ba8102b",
   "metadata": {},
   "outputs": [],
   "source": []
  },
  {
   "cell_type": "code",
   "execution_count": null,
   "id": "ec01cb5b",
   "metadata": {},
   "outputs": [],
   "source": [
    "# Podemos comprobarlo gráficamente\n",
    "\n",
    "# Añadimos una línea de referencia\n",
    "\n",
    "# Ponemos límites al eje \n",
    "\n",
    "# Añadimos leyenda\n",
    "\n",
    "# Y dibujamos\n"
   ]
  },
  {
   "cell_type": "markdown",
   "id": "ae4cabb1",
   "metadata": {},
   "source": [
    "También podríamos ver lo que pasa en -inf"
   ]
  },
  {
   "cell_type": "code",
   "execution_count": null,
   "id": "c4b5a668",
   "metadata": {},
   "outputs": [],
   "source": [
    "from sympy import Limit, Symbol, S\n"
   ]
  },
  {
   "cell_type": "markdown",
   "id": "81723f37",
   "metadata": {},
   "source": [
    "Un límite importante es el de la función $(1+\\frac{1}{n})^{n}$, que da lugar al famoso número e"
   ]
  },
  {
   "cell_type": "code",
   "execution_count": null,
   "id": "660c4932",
   "metadata": {},
   "outputs": [],
   "source": [
    "from sympy import Limit, Symbol, S\n"
   ]
  },
  {
   "cell_type": "markdown",
   "id": "26128f0d",
   "metadata": {},
   "source": [
    "En cálculo, una **función continua** es aquella para la cual, intuitivamente, para puntos cercanos del dominio se producen pequeñas variaciones en los valores de la función. Si la función no es continua, se dice que es discontinua. Informalmente, una función continua de $\\mathbb{R}$ en $\\mathbb{R}$ es aquella cuya gráfica puede dibujarse sin levantar el lápiz del papel. En una función continua, el valor de la función coincide con su límite.\n",
    "\n"
   ]
  },
  {
   "cell_type": "markdown",
   "id": "93f42546",
   "metadata": {},
   "source": [
    "## 4. Derivadas\n",
    "\n",
    "### 4.1 Definición y ejemplos\n",
    "\n",
    "La derivada de una función representa la tasa de cambio instantáneo de una función en un punto dado. En otras palabras, la derivada nos dice cuánto cambia el valor de una función cuando su variable independiente se desplaza muy cerca de un punto específico. Se denota generalmente como $f'(x)$ o $df \\over dx$.\n",
    "\n",
    "La defnición de la derivada de una función real $f(x)$ en el punto $a$ es el límite:\n",
    "\n",
    "$$\n",
    "f'(a) = \\lim_{{h \\to 0}} \\frac{f(a + h) - f(a)}{h}\n",
    "$$\n",
    "\n",
    "donde\n",
    "\n",
    "- $f'(a)$ es la derivada de $f(x)$ en el punto $a$.\n",
    "- $h$ es una cantidad infinitesimal que representa el cambio en la variable independiente $x$ alrededor del punto $a$.\n",
    "\n",
    "Para ser derivable, la función tiene que ser continua y \"suave\"."
   ]
  },
  {
   "cell_type": "markdown",
   "id": "8c52ee22",
   "metadata": {},
   "source": [
    "Recordamos la tabla de derivadas de funciones elementales:\n",
    "\n",
    "<img src=\"images/tabla_derivadas.png\"/>"
   ]
  },
  {
   "cell_type": "markdown",
   "id": "339cf5c8",
   "metadata": {},
   "source": [
    "### 4.2 Extremos de una función: máximos y mínimos\n",
    "\n",
    "La derivada es, esencialmente, la pendiente de la tangente a la curva de la función en el punto a. Si la derivada es positiva, la función está aumentando en ese punto; si es negativa, la función está disminuyendo; y si es cero, la función tiene un punto crítico o una meseta en ese punto.\n",
    "\n",
    "<img src=\"images/derivada.png\" style=\"width: 500px;\"/>\n",
    "\n",
    "Por tanto, cuando la función pasa de crecer a decrecer (es decir, tiene un **máximo**) la derivada tiene que pasar por el 0 para dejar de ser positiva y pasar a ser negativa, o viceversa. En este punto con $f'(x)=0$, decimos que la función tiene un extremo. \n",
    "\n",
    "Si estamos trabajando analíticamente y queremos saber si el extremo es un máximo o un mínimo, podemos mirar la segunda derivada, que no es más que la derivada de la derivada.\n",
    "\n",
    "* f''(x)>0 es mínimo (relativo)\n",
    "* f''(x)<0 es máximo (relativo)\n",
    "\n",
    "Los extremos globales serían los que son mayores (o menores) que el resto de máximos (o mínimos).\n",
    "\n",
    "### EJEMPLO RESUELTO \n",
    "Vemos un ejemplo completo de un cálculo de máximos y mínimos. Primero, calculamos la derivada y la resolvemos igualando a 0, para saber en qué puntos se anula."
   ]
  },
  {
   "cell_type": "code",
   "execution_count": null,
   "id": "84a06f8d",
   "metadata": {},
   "outputs": [],
   "source": [
    "from sympy import Derivative, Symbol, solve\n",
    "x = Symbol('x')\n",
    "f = 3*x**5 - 50*x**3 + 135*x\n",
    "print(f)\n",
    "d1 = Derivative(f,x).doit()\n",
    "print(d1)\n",
    "puntos_criticos = solve(d1)\n",
    "puntos_criticos"
   ]
  },
  {
   "cell_type": "markdown",
   "id": "47c7ea21",
   "metadata": {},
   "source": [
    "Para estos puntos, nos falta saber si son máximos o mínimos, por lo que volvemos a derivar:"
   ]
  },
  {
   "cell_type": "code",
   "execution_count": null,
   "id": "90f07491",
   "metadata": {},
   "outputs": [],
   "source": [
    "d2 = Derivative(d1,x).doit()\n",
    "d2"
   ]
  },
  {
   "cell_type": "code",
   "execution_count": null,
   "id": "030bcf3d",
   "metadata": {},
   "outputs": [],
   "source": [
    "#Otra forma de calcular la segunda derivada\n",
    "d2 = Derivative(f,x,2).doit()\n",
    "d2"
   ]
  },
  {
   "cell_type": "markdown",
   "id": "bf06abec",
   "metadata": {},
   "source": [
    "A continuación evaluamos la segunda derivada en cada uno de los puntos críticos encontrados:"
   ]
  },
  {
   "cell_type": "code",
   "execution_count": null,
   "id": "dcb3bf2a",
   "metadata": {},
   "outputs": [],
   "source": [
    "A=puntos_criticos[0]\n",
    "B=puntos_criticos[1]\n",
    "C=puntos_criticos[2]\n",
    "D=puntos_criticos[3]\n",
    "print(d2.subs({x:A}).evalf())\n",
    "print(d2.subs({x:B}).evalf())\n",
    "print(d2.subs({x:C}).evalf())\n",
    "print(d2.subs({x:D}).evalf())"
   ]
  },
  {
   "cell_type": "code",
   "execution_count": null,
   "id": "6338c97f",
   "metadata": {},
   "outputs": [],
   "source": [
    "for p in puntos_criticos:\n",
    "    if d2.subs({x:p}).evalf() > 0:\n",
    "        print(\"En el punto crítico x = \" + str(p) + \" hay un mínimo relativo\")\n",
    "    if d2.subs({x:p}).evalf() < 0:\n",
    "        print(\"En el punto crítico x = \" + str(p) + \" hay un máximo relativo\")"
   ]
  },
  {
   "cell_type": "markdown",
   "id": "627a0d97",
   "metadata": {},
   "source": [
    "También podemos ver cuánto vale la función en cada uno de esos puntos, para lo cuál tenemos que evaluar f en los puntos críticos:"
   ]
  },
  {
   "cell_type": "code",
   "execution_count": null,
   "id": "b63cd4a6",
   "metadata": {},
   "outputs": [],
   "source": [
    "for p in puntos_criticos:\n",
    "    valor = f.subs({x:p}).evalf()\n",
    "    print(\"La función vale \" + str(valor) + \" en el punto \" + str(p))"
   ]
  },
  {
   "cell_type": "markdown",
   "id": "f5d30560",
   "metadata": {},
   "source": [
    "No nos podemos olvidar de que en los bordes del dominio la función no es continua y por tanto en estos puntos las derivadas NO nos sirven para obtener información sobre los máximos y mínimos, por lo que tenemos que ver su valor por separado:"
   ]
  },
  {
   "cell_type": "code",
   "execution_count": null,
   "id": "dc4dc0bf",
   "metadata": {},
   "outputs": [],
   "source": [
    "puntos = puntos_criticos + [-5, 5]\n",
    "for p in puntos:\n",
    "    valor = f.subs({x:p}).evalf()\n",
    "    print(\"La función vale \" + str(valor) + \" en el punto \" + str(p))"
   ]
  },
  {
   "cell_type": "markdown",
   "id": "cfa1f5f0",
   "metadata": {},
   "source": [
    "De nuevo, podemos dibujar la función para ver que la gráfica coincide con lo que hemos obtenido:"
   ]
  },
  {
   "cell_type": "code",
   "execution_count": null,
   "id": "194c77dd",
   "metadata": {},
   "outputs": [],
   "source": [
    "import matplotlib.pyplot as plt\n",
    "import numpy as np\n",
    "\n",
    "# Definir la función f(x)\n",
    "\n",
    "def f(x):\n",
    "    return 3*x**5 - 50*x**3 + 135*x\n",
    "\n",
    "# Rango de valores de x\n",
    "x = np.linspace(-5, 5, 400)\n",
    "\n",
    "# Calcular los valores correspondientes de f(x)\n",
    "y = f(x)\n",
    "\n",
    "# Crear el gráfico\n",
    "plt.figure(figsize=(8, 6))\n",
    "plt.plot(x, y, label = '$3*x^5 - 50*x^3 + 135*x$', color='b')\n",
    "\n",
    "# Etiquetas y título\n",
    "plt.xlabel('x')\n",
    "plt.ylabel('f(x)')\n",
    "\n",
    "\n",
    "# Mostrar el gráfico\n",
    "plt.grid()\n",
    "plt.legend()\n",
    "plt.show()\n"
   ]
  }
 ],
 "metadata": {
  "kernelspec": {
   "display_name": "venv",
   "language": "python",
   "name": "venv"
  },
  "language_info": {
   "codemirror_mode": {
    "name": "ipython",
    "version": 3
   },
   "file_extension": ".py",
   "mimetype": "text/x-python",
   "name": "python",
   "nbconvert_exporter": "python",
   "pygments_lexer": "ipython3",
   "version": "3.10.12"
  }
 },
 "nbformat": 4,
 "nbformat_minor": 5
}
