{
 "cells": [
  {
   "cell_type": "markdown",
   "id": "d53038e1",
   "metadata": {},
   "source": [
    "<img src=\"images/keepcoding.png\" width=200 align=\"left\">"
   ]
  },
  {
   "cell_type": "markdown",
   "id": "d5b160f2",
   "metadata": {},
   "source": [
    "# Límites y derivadas de funciones reales\n",
    "\n",
    "## 1. Funciones reales\n",
    "\n",
    "### 1.1 Definición y ejemplos\n",
    "\n",
    "Una función real es una relación que asigna un conjunto de **valores real de salida** (o imagen) a un conjunto de **valores de entrada en el conjunto de números reales**. En otras palabras, es una regla que toma varios números reales como entrada y produce varios números reales como salida. Una función real de varias variables se denota generalmente como $f: \\mathbb{R}^n \\rightarrow \\mathbb{R}^m$, donde $\\mathbb{R}^l$ representa el conjunto de $l$-tuplas de números reales.\n",
    "\n",
    "La definición matemática de una función real de varias variables es la siguiente:\n",
    "\n",
    "Dada una función $f: \\mathbb{R}^n \\rightarrow \\mathbb{R}^m$, para cada $n$-tupla de números reales $(x_1, x_2, \\ldots, x_n)$ en el dominio de $f$, existe una única tupla de números reales real $(y_1, y_2, \\ldots, y_n)$ en el codominio de $f$ de tal manera que cuando evaluamos $f(x_1, x_2, \\ldots, x_n)$, obtenemos $(y_1, y_2, \\ldots, y_n)$.\n",
    "\n",
    "En términos más simples, y para el caso particular de $m=1$, una función real de varias variables toma una $n$-tupla de números reales como entrada y devuelve un número real como salida. Por ejemplo, la función $f(x, y) = x^2 + y^2$ es una función real de dos variables que toma dos números reales, $x$ y $y$, como entrada y devuelve $x^2 + y^2$ como salida.\n",
    "\n",
    "Implementamos algunas funciones en Python:\n",
    "\n",
    "- $f_1:\\mathbb{R}^2\\rightarrow\\mathbb{R}$ tal que $f_1(x,y)=x²+y²$\n",
    "- $f_2:\\mathbb{R}^3\\rightarrow\\mathbb{R}^5$ tal que $f_2(x, y, z) = (x + y, \\frac{x^2 - y}{z}, z^y, 2^{x+y}, z)$\n",
    "- $f_3:\\mathbb{R}\\rightarrow\\mathbb{R}$ tal que $f_3(x) = \\pi^x$\n"
   ]
  },
  {
   "cell_type": "code",
   "execution_count": null,
   "id": "1820930a",
   "metadata": {},
   "outputs": [],
   "source": [
    "# Implementamos varias funciones\n",
    "import math\n",
    "\n",
    "def f1(x,y):\n",
    "    return x**2+y**2\n",
    "\n",
    "def f2(x,y,z):\n",
    "    return (x+y, ((x**2-y)/z), z**y, pow(2,x+y), z)\n",
    "\n",
    "def f3(x):\n",
    "    return math.pi ** x\n"
   ]
  },
  {
   "cell_type": "markdown",
   "id": "aee9670d",
   "metadata": {},
   "source": [
    "### 1.2 Caracterización y visualización\n",
    "\n",
    "Se dice que una función real $f:\\mathbb{R}\\rightarrow\\mathbb{R}$ es:\n",
    "- Creciente en el intervalo $I$, si $\\forall x_1, x_2\\in I$ con $x_1<x_2$ se cumple que $f(x_1)<f(x_2)$\n",
    "- Decreciente en el intervalo $I$, si $\\forall x_1, x_2\\in I$ con $x_1<x_2$ se cumple que $f(x_1)>f(x_2)$\n",
    "- Constante en el intervalo $I$, si $\\forall x_1, x_2\\in I$ se cumple que $f(x_1)=f(x_2)$\n",
    "\n",
    "Aunque en Python no podemos comprobar todos los valores de un intervalo (por haber infinitos número reales), si podemos coger una muestra"
   ]
  },
  {
   "cell_type": "code",
   "execution_count": 6,
   "id": "3e62a6ab",
   "metadata": {},
   "outputs": [
    {
     "name": "stdout",
     "output_type": "stream",
     "text": [
      "True\n"
     ]
    }
   ],
   "source": [
    "# Comprobemos si la función f(x) = x**2 es creciente en el intervalo [1, 5]\n",
    "import numpy as np\n",
    "\n",
    "def escreciente(f, a, b, num_puntos):\n",
    "    puntos = np.linspace(a, b, num_puntos)\n",
    "    for i in range(len(puntos)-1):\n",
    "        if f(puntos[i]) >= f(puntos[i + 1]):\n",
    "            return False\n",
    "    return True\n",
    "\n",
    "print(escreciente(lambda x: x**2, 1, 5, 1000))"
   ]
  },
  {
   "cell_type": "code",
   "execution_count": 5,
   "id": "a6a9bfb5-a1e6-4001-91ec-aee42b5ec322",
   "metadata": {},
   "outputs": [
    {
     "data": {
      "text/plain": [
       "array([1.        , 1.04040404, 1.08080808, 1.12121212, 1.16161616,\n",
       "       1.2020202 , 1.24242424, 1.28282828, 1.32323232, 1.36363636,\n",
       "       1.4040404 , 1.44444444, 1.48484848, 1.52525253, 1.56565657,\n",
       "       1.60606061, 1.64646465, 1.68686869, 1.72727273, 1.76767677,\n",
       "       1.80808081, 1.84848485, 1.88888889, 1.92929293, 1.96969697,\n",
       "       2.01010101, 2.05050505, 2.09090909, 2.13131313, 2.17171717,\n",
       "       2.21212121, 2.25252525, 2.29292929, 2.33333333, 2.37373737,\n",
       "       2.41414141, 2.45454545, 2.49494949, 2.53535354, 2.57575758,\n",
       "       2.61616162, 2.65656566, 2.6969697 , 2.73737374, 2.77777778,\n",
       "       2.81818182, 2.85858586, 2.8989899 , 2.93939394, 2.97979798,\n",
       "       3.02020202, 3.06060606, 3.1010101 , 3.14141414, 3.18181818,\n",
       "       3.22222222, 3.26262626, 3.3030303 , 3.34343434, 3.38383838,\n",
       "       3.42424242, 3.46464646, 3.50505051, 3.54545455, 3.58585859,\n",
       "       3.62626263, 3.66666667, 3.70707071, 3.74747475, 3.78787879,\n",
       "       3.82828283, 3.86868687, 3.90909091, 3.94949495, 3.98989899,\n",
       "       4.03030303, 4.07070707, 4.11111111, 4.15151515, 4.19191919,\n",
       "       4.23232323, 4.27272727, 4.31313131, 4.35353535, 4.39393939,\n",
       "       4.43434343, 4.47474747, 4.51515152, 4.55555556, 4.5959596 ,\n",
       "       4.63636364, 4.67676768, 4.71717172, 4.75757576, 4.7979798 ,\n",
       "       4.83838384, 4.87878788, 4.91919192, 4.95959596, 5.        ])"
      ]
     },
     "execution_count": 5,
     "metadata": {},
     "output_type": "execute_result"
    }
   ],
   "source": [
    "import numpy as np\n",
    "np.linspace(1, 5, 100)"
   ]
  },
  {
   "cell_type": "markdown",
   "id": "a3245f06",
   "metadata": {},
   "source": [
    "Podemos usar la librería `matplotlib` para visualizar funciones con Python. Por ejemplo:"
   ]
  },
  {
   "cell_type": "code",
   "execution_count": 15,
   "id": "6dd516ed",
   "metadata": {},
   "outputs": [
    {
     "name": "stdout",
     "output_type": "stream",
     "text": [
      "4\n",
      "4\n"
     ]
    },
    {
     "data": {
      "text/plain": [
       "[<matplotlib.lines.Line2D at 0x7ff2097e36a0>]"
      ]
     },
     "execution_count": 15,
     "metadata": {},
     "output_type": "execute_result"
    },
    {
     "data": {
      "image/png": "[encoded data removed]",
      "text/plain": [
       "<Figure size 640x480 with 1 Axes>"
      ]
     },
     "metadata": {},
     "output_type": "display_data"
    }
   ],
   "source": [
    "# Visualizamos x^2\n",
    "import matplotlib.pyplot as plt\n",
    "\n",
    "x = np.linspace(1, 5, 4)\n",
    "y = x**2\n",
    "\n",
    "print(len(x))\n",
    "print(len(y))\n",
    "\n",
    "# fig = plt.figure(figsize = (7, 4))\n",
    "plt.plot(x, y)"
   ]
  },
  {
   "cell_type": "markdown",
   "id": "37901a16",
   "metadata": {},
   "source": [
    "Hemos visto que primero tenemos que crear un rango de valores para la variable independiente, puesto que Python no puede evaluar un número infinito de números reales.\n",
    "\n",
    "También podemos usar matplotlib para visualizar superficies, es decir, funciones reales de dos variables con imagen un número real. En este caso, necesitaremos dar un rango de valores a dos ejes."
   ]
  },
  {
   "cell_type": "markdown",
   "id": "ffba33c6",
   "metadata": {},
   "source": [
    "## 2. Cálculo simbólico en Python: la librería `sympy`\n",
    "\n",
    "SymPy es una biblioteca de Python utilizada para álgebra simbólica. Permite realizar cálculos simbólicos en lugar de cálculos numéricos, lo que es útil para resolver ecuaciones, simplificar expresiones matemáticas y realizar manipulaciones simbólicas en matemáticas y física. Vemos algunos ejemplos:"
   ]
  },
  {
   "cell_type": "code",
   "execution_count": 1,
   "id": "2efc782e",
   "metadata": {},
   "outputs": [
    {
     "name": "stdout",
     "output_type": "stream",
     "text": [
      "Requirement already satisfied: sympy in /home/raquel/Documents/KC/venv/lib/python3.10/site-packages (1.12.1)\n",
      "Requirement already satisfied: mpmath<1.4.0,>=1.1.0 in /home/raquel/Documents/KC/venv/lib/python3.10/site-packages (from sympy) (1.3.0)\n"
     ]
    }
   ],
   "source": [
    "!pip install sympy"
   ]
  },
  {
   "cell_type": "code",
   "execution_count": 2,
   "id": "7cc9a4b8",
   "metadata": {},
   "outputs": [
    {
     "data": {
      "text/latex": [
       "$\\displaystyle x$"
      ],
      "text/plain": [
       "x"
      ]
     },
     "execution_count": 2,
     "metadata": {},
     "output_type": "execute_result"
    }
   ],
   "source": [
    "from sympy import Symbol\n",
    "x = Symbol('x')\n",
    "x"
   ]
  },
  {
   "cell_type": "code",
   "execution_count": 3,
   "id": "ae75a016",
   "metadata": {},
   "outputs": [
    {
     "ename": "TypeError",
     "evalue": "cannot determine truth value of Relational",
     "output_type": "error",
     "traceback": [
      "\u001b[0;31m---------------------------------------------------------------------------\u001b[0m",
      "\u001b[0;31mTypeError\u001b[0m                                 Traceback (most recent call last)",
      "Cell \u001b[0;32mIn[3], line 1\u001b[0m\n\u001b[0;32m----> 1\u001b[0m \u001b[38;5;28;01mif\u001b[39;00m((x\u001b[38;5;241m+\u001b[39m\u001b[38;5;241m5\u001b[39m)\u001b[38;5;241m>\u001b[39m\u001b[38;5;241m0\u001b[39m):\n\u001b[1;32m      2\u001b[0m     \u001b[38;5;28mprint\u001b[39m(\u001b[38;5;124m\"\u001b[39m\u001b[38;5;124mx mayor que -5\u001b[39m\u001b[38;5;124m\"\u001b[39m)\n",
      "File \u001b[0;32m~/Documents/KC/venv/lib/python3.10/site-packages/sympy/core/relational.py:510\u001b[0m, in \u001b[0;36mRelational.__bool__\u001b[0;34m(self)\u001b[0m\n\u001b[1;32m    509\u001b[0m \u001b[38;5;28;01mdef\u001b[39;00m \u001b[38;5;21m__bool__\u001b[39m(\u001b[38;5;28mself\u001b[39m):\n\u001b[0;32m--> 510\u001b[0m     \u001b[38;5;28;01mraise\u001b[39;00m \u001b[38;5;167;01mTypeError\u001b[39;00m(\u001b[38;5;124m\"\u001b[39m\u001b[38;5;124mcannot determine truth value of Relational\u001b[39m\u001b[38;5;124m\"\u001b[39m)\n",
      "\u001b[0;31mTypeError\u001b[0m: cannot determine truth value of Relational"
     ]
    }
   ],
   "source": [
    "if((x+5)>0):\n",
    "    print(\"x mayor que -5\")"
   ]
  },
  {
   "cell_type": "markdown",
   "id": "c8c2b939",
   "metadata": {},
   "source": [
    "Sympy nos dice que no puede evaluar esa expresión, porque lógicamente no tiene datos para hacerlo. En SymPy, existen las **suposiciones**, que se refieren a las propiedades o restricciones que puedes aplicar a las variables simbólicas en tus expresiones matemáticas. Algunas de las suposiciones comunes en SymPy se utilizan para indicar que una variable simbólica es, por ejemplo, un número real, un número complejo, entero positivo, etc. Estas suposiciones ayudan a SymPy a simplificar y manipular expresiones de manera más precisa.\n",
    "\n",
    "Las suposiciones se pueden aplicar a variables simbólicas utilizando el método assume() y se pueden consultar utilizando el método ask(). "
   ]
  },
  {
   "cell_type": "code",
   "execution_count": 4,
   "id": "89c50712",
   "metadata": {},
   "outputs": [
    {
     "name": "stdout",
     "output_type": "stream",
     "text": [
      "x mayor que -5\n"
     ]
    }
   ],
   "source": [
    "# Hagamos una suposición\n",
    "x = Symbol('x', positive = True)\n",
    "if((x+5)>0):\n",
    "    print(\"x mayor que -5\")"
   ]
  },
  {
   "cell_type": "code",
   "execution_count": 7,
   "id": "619d06fb",
   "metadata": {},
   "outputs": [
    {
     "name": "stdout",
     "output_type": "stream",
     "text": [
      "x + 1\n"
     ]
    }
   ],
   "source": [
    "from sympy import simplify\n",
    "\n",
    "# Expresión a simplificar\n",
    "ex = (x**2 + 2*x + 1)/(x+1)\n",
    "# Simplificar la expresión\n",
    "simp = simplify(ex)\n",
    "# Mostrarla expresión simplificada\n",
    "print(simp)"
   ]
  },
  {
   "cell_type": "code",
   "execution_count": 8,
   "id": "f15ff21a",
   "metadata": {},
   "outputs": [
    {
     "name": "stdout",
     "output_type": "stream",
     "text": [
      "[-2]\n"
     ]
    }
   ],
   "source": [
    "from sympy import symbols, Eq, solve\n",
    "# Crear una ecuación simbólica\n",
    "x = Symbol('x', positive = False)\n",
    "eq = Eq(x**2, 4)\n",
    "# Resolver la ecuación para x\n",
    "sol = solve(eq, x)\n",
    "\n",
    "# Mostrar las soluciones\n",
    "print(sol)"
   ]
  },
  {
   "cell_type": "markdown",
   "id": "1a370323",
   "metadata": {},
   "source": [
    "Podemos ver más ejemplos y casos de uso en la [documentación](https://www.sympy.org/en/index.html) de SymPy "
   ]
  },
  {
   "cell_type": "markdown",
   "id": "4c6434d0",
   "metadata": {},
   "source": [
    "## 3. Límites y continuidad\n",
    "\n",
    "El límite de una función es un concepto fundamental en cálculo que describe el comportamiento de una función a medida que la variable independiente se acerca a un valor específico. Se denota como:\n",
    "\n",
    "$\\lim_{{x \\to a}} f(x)$\n",
    "\n",
    "Donde:\n",
    "\n",
    "- $\\lim$ representa el símbolo del límite.\n",
    "- $x$ es la variable independiente.\n",
    "- $a$ es el valor al cual $x$ se está acercando.\n",
    "- $f(x)$ es la función que estamos estudiando.\n",
    "\n",
    "El límite describe cómo se comporta la función $f(x)$ cuando $x$ se acerca a $a$. Existen tres casos principales:\n",
    "\n",
    "1. **Límite Finito:**\n",
    "   Si $\\lim_{{x \\to a}} f(x)$ es un número real, significa que la función tiende a un valor específico a medida que $x$ se acerca a $a$. Por ejemplo, $\\lim_{{x \\to 2}} (2x) = 4$ significa que la función $2x$ tiende a $4$ cuando $x$ se acerca a $2$.\n",
    "\n",
    "2. **Límite Infinito:**\n",
    "   Si $\\lim_{{x \\to a}} f(x) = \\infty$, significa que la función crece sin límite a medida que $x$ se acerca a $a$. Por ejemplo, $\\lim_{{x \\to 0}} \\frac{1}{x} = \\infty$ indica que la función $\\frac{1}{x}$ se vuelve infinitamente grande a medida que $x$ se acerca a $0$.\n",
    "\n",
    "3. **Límite Inexistente o Indefinido:**\n",
    "   En algunos casos, el límite puede no existir porque la función no se acerca a ningún valor específico. Esto puede deberse a oscilaciones o discontinuidades en la función.\n",
    "\n",
    "El cálculo de límites es una parte fundamental del cálculo y se utiliza para analizar el comportamiento de funciones en puntos críticos, para evaluar continuidad y diferenciabilidad, y para resolver ecuaciones y desigualdades en matemáticas y ciencias aplicadas. Las reglas para calcular límites pueden variar según la función y la situación, y pueden incluir técnicas como sustitución directa, factorización, el teorema del sandwich y más. El cálculo de límites es esencial para comprender conceptos como continuidad, derivación e integración en matemáticas.\n",
    "\n",
    "\n",
    "Por suerte, podemos usar SymPy para calcular límites:"
   ]
  },
  {
   "cell_type": "code",
   "execution_count": 9,
   "id": "1b67802b",
   "metadata": {},
   "outputs": [
    {
     "data": {
      "text/latex": [
       "$\\displaystyle \\lim_{x \\to \\infty} \\frac{1}{x}$"
      ],
      "text/plain": [
       "Limit(1/x, x, oo, dir='-')"
      ]
     },
     "execution_count": 9,
     "metadata": {},
     "output_type": "execute_result"
    }
   ],
   "source": [
    "from sympy import Limit, Symbol, S\n",
    "x = Symbol('x')\n",
    "l = Limit(1/x, x, S.Infinity)\n",
    "l"
   ]
  },
  {
   "cell_type": "code",
   "execution_count": 10,
   "id": "5ba8102b",
   "metadata": {},
   "outputs": [
    {
     "data": {
      "text/latex": [
       "$\\displaystyle 0$"
      ],
      "text/plain": [
       "0"
      ]
     },
     "execution_count": 10,
     "metadata": {},
     "output_type": "execute_result"
    }
   ],
   "source": [
    "l.doit()"
   ]
  },
  {
   "cell_type": "code",
   "execution_count": 14,
   "id": "ec01cb5b",
   "metadata": {},
   "outputs": [
    {
     "data": {
      "image/png": "[encoded data removed]",
      "text/plain": [
       "<Figure size 500x400 with 1 Axes>"
      ]
     },
     "metadata": {},
     "output_type": "display_data"
    }
   ],
   "source": [
    "# Podemos comprobarlo gráficamente\n",
    "import numpy as np\n",
    "import matplotlib.pyplot as plt\n",
    "x = np.linspace(0.01, 50, 400)\n",
    "y = 1/x\n",
    "\n",
    "plt.figure(figsize = (5, 4))\n",
    "plt.plot(x, y, label = 'y = 1/x', color='b')\n",
    "\n",
    "plt.xlabel('x')\n",
    "plt.ylabel('y')\n",
    "plt.title('y = 1/x')\n",
    "\n",
    "# Añadimos una línea de referencia\n",
    "\n",
    "plt.axhline(0, color='k', linestyle='--', linewidth=0.8)\n",
    "\n",
    "# Ponemos límites al eje \n",
    "plt.ylim(-10,10)\n",
    "\n",
    "# Añadimos leyenda\n",
    "plt.legend()\n",
    "\n",
    "# Y dibujamos\n",
    "plt.show()\n"
   ]
  },
  {
   "cell_type": "markdown",
   "id": "81723f37",
   "metadata": {},
   "source": [
    "Un límite importante es el de la función $(1+\\frac{1}{n})^{n}$, que da lugar al famoso número e"
   ]
  },
  {
   "cell_type": "code",
   "execution_count": 15,
   "id": "660c4932",
   "metadata": {},
   "outputs": [
    {
     "data": {
      "text/latex": [
       "$\\displaystyle e$"
      ],
      "text/plain": [
       "E"
      ]
     },
     "execution_count": 15,
     "metadata": {},
     "output_type": "execute_result"
    }
   ],
   "source": [
    "from sympy import Limit, Symbol, S\n",
    "n = Symbol('n')\n",
    "Limit((1+1/n)**n, n, S.Infinity).doit()"
   ]
  },
  {
   "cell_type": "markdown",
   "id": "26128f0d",
   "metadata": {},
   "source": [
    "En cálculo, una **función continua** es aquella para la cual, intuitivamente, para puntos cercanos del dominio se producen pequeñas variaciones en los valores de la función. Si la función no es continua, se dice que es discontinua. Informalmente, una función continua de $\\mathbb{R}$ en $\\mathbb{R}$ es aquella cuya gráfica puede dibujarse sin levantar el lápiz del papel. En una función continua, el valor de la función coincide con su límite.\n",
    "\n"
   ]
  },
  {
   "cell_type": "markdown",
   "id": "93f42546",
   "metadata": {},
   "source": [
    "## 4. Derivadas\n",
    "\n",
    "### 4.1 Definición y ejemplos\n",
    "\n",
    "La derivada de una función representa la tasa de cambio instantáneo de una función en un punto dado. En otras palabras, la derivada nos dice cuánto cambia el valor de una función cuando su variable independiente se desplaza muy cerca de un punto específico. Se denota generalmente como $f'(x)$ o $df \\over dx$.\n",
    "\n",
    "La defnición de la derivada de una función real $f(x)$ en el punto $a$ es el límite:\n",
    "\n",
    "$$\n",
    "f'(a) = \\lim_{{h \\to 0}} \\frac{f(a + h) - f(a)}{h}\n",
    "$$\n",
    "\n",
    "donde\n",
    "\n",
    "- $f'(a)$ es la derivada de $f(x)$ en el punto $a$.\n",
    "- $h$ es una cantidad infinitesimal que representa el cambio en la variable independiente $x$ alrededor del punto $a$.\n",
    "\n",
    "Para ser derivable, la función tiene que ser continua y \"suave\"."
   ]
  },
  {
   "cell_type": "markdown",
   "id": "339cf5c8",
   "metadata": {},
   "source": [
    "### 4.2 Extremos de una función: máximos y mínimos\n",
    "\n",
    "La derivada es, esencialmente, la pendiente de la tangente a la curva de la función en el punto a. Si la derivada es positiva, la función está aumentando en ese punto; si es negativa, la función está disminuyendo; y si es cero, la función tiene un punto crítico o una meseta en ese punto.\n",
    "\n",
    "<img src=\"images/derivada.png\" style=\"width: 500px;\"/>\n",
    "\n",
    "Por tanto, cuando la función pasa de crecer a decrecer (es decir, tiene un **máximo**) la derivada tiene que pasar por el 0 para dejar de ser positiva y pasar a ser negativa, o viceversa. En este punto con $f'(x)=0$, decimos que la función tiene un extremo. \n",
    "\n",
    "Si estamos trabajando analíticamente y queremos saber si el extremo es un máximo o un mínimo, podemos mirar la segunda derivada, que no es más que la derivada de la derivada.\n",
    "\n",
    "* f''(x)>0 es mínimo (relativo)\n",
    "* f''(x)<0 es máximo (relativo)\n",
    "\n",
    "Los extremos globales serían los que son mayores (o menores) que el resto de máximos (o mínimos).\n",
    "\n",
    "### EJEMPLO RESUELTO \n",
    "Vemos un ejemplo completo de un cálculo de máximos y mínimos. Primero, calculamos la derivada y la resolvemos igualando a 0, para saber en qué puntos se anula."
   ]
  },
  {
   "cell_type": "code",
   "execution_count": 1,
   "id": "84a06f8d",
   "metadata": {},
   "outputs": [
    {
     "name": "stdout",
     "output_type": "stream",
     "text": [
      "3*x**5 - 50*x**3 + 135*x\n",
      "15*x**4 - 150*x**2 + 135\n"
     ]
    },
    {
     "data": {
      "text/plain": [
       "[-3, -1, 1, 3]"
      ]
     },
     "execution_count": 1,
     "metadata": {},
     "output_type": "execute_result"
    }
   ],
   "source": [
    "from sympy import Derivative, Symbol, solve\n",
    "x = Symbol('x')\n",
    "f = 3*x**5 - 50*x**3 + 135*x\n",
    "print(f)\n",
    "d1 = Derivative(f,x).doit()\n",
    "print(d1)\n",
    "puntos_criticos = solve(d1)\n",
    "puntos_criticos"
   ]
  },
  {
   "cell_type": "markdown",
   "id": "47c7ea21",
   "metadata": {},
   "source": [
    "Para estos puntos, nos falta saber si son máximos o mínimos, por lo que volvemos a derivar:"
   ]
  },
  {
   "cell_type": "code",
   "execution_count": 2,
   "id": "90f07491",
   "metadata": {},
   "outputs": [
    {
     "data": {
      "text/latex": [
       "$\\displaystyle 60 x^{3} - 300 x$"
      ],
      "text/plain": [
       "60*x**3 - 300*x"
      ]
     },
     "execution_count": 2,
     "metadata": {},
     "output_type": "execute_result"
    }
   ],
   "source": [
    "d2 = Derivative(d1,x).doit()\n",
    "d2"
   ]
  },
  {
   "cell_type": "code",
   "execution_count": 3,
   "id": "030bcf3d",
   "metadata": {},
   "outputs": [
    {
     "data": {
      "text/latex": [
       "$\\displaystyle 60 x \\left(x^{2} - 5\\right)$"
      ],
      "text/plain": [
       "60*x*(x**2 - 5)"
      ]
     },
     "execution_count": 3,
     "metadata": {},
     "output_type": "execute_result"
    }
   ],
   "source": [
    "#Otra forma de calcular la segunda derivada\n",
    "d2 = Derivative(f,x,2).doit()\n",
    "d2"
   ]
  },
  {
   "cell_type": "markdown",
   "id": "bf06abec",
   "metadata": {},
   "source": [
    "A continuación evaluamos la segunda derivada en cada uno de los puntos críticos encontrados:"
   ]
  },
  {
   "cell_type": "code",
   "execution_count": null,
   "id": "dcb3bf2a",
   "metadata": {},
   "outputs": [],
   "source": [
    "A=puntos_criticos[0]\n",
    "B=puntos_criticos[1]\n",
    "C=puntos_criticos[2]\n",
    "D=puntos_criticos[3]\n",
    "print(d2.subs({x:A}).evalf())\n",
    "print(d2.subs({x:B}).evalf())\n",
    "print(d2.subs({x:C}).evalf())\n",
    "print(d2.subs({x:D}).evalf())"
   ]
  },
  {
   "cell_type": "code",
   "execution_count": null,
   "id": "6338c97f",
   "metadata": {},
   "outputs": [],
   "source": [
    "for p in puntos_criticos:\n",
    "    if d2.subs({x:p}).evalf() > 0:\n",
    "        print(\"En el punto crítico x = \" + str(p) + \" hay un mínimo relativo\")\n",
    "    if d2.subs({x:p}).evalf() < 0:\n",
    "        print(\"En el punto crítico x = \" + str(p) + \" hay un máximo relativo\")"
   ]
  },
  {
   "cell_type": "markdown",
   "id": "627a0d97",
   "metadata": {},
   "source": [
    "También podemos ver cuánto vale la función en cada uno de esos puntos, para lo cuál tenemos que evaluar f en los puntos críticos. Esto nos sirve para ver, en caso de haber varios máximos o varios mínimos, cuál es el global, es decir, el mayor (en el caso del máximo) o menor (en el caso del mínimo). El resto serían máximos o mínimos locales."
   ]
  },
  {
   "cell_type": "code",
   "execution_count": null,
   "id": "b63cd4a6",
   "metadata": {},
   "outputs": [],
   "source": [
    "for p in puntos_criticos:\n",
    "    valor = f.subs({x:p}).evalf()\n",
    "    print(\"La función vale \" + str(valor) + \" en el punto \" + str(p))"
   ]
  },
  {
   "cell_type": "markdown",
   "id": "f5d30560",
   "metadata": {},
   "source": [
    "No nos podemos olvidar de que en los bordes del dominio la función no es continua y por tanto en estos puntos las derivadas NO nos sirven para obtener información sobre los máximos y mínimos, por lo que tenemos que ver su valor por separado:"
   ]
  },
  {
   "cell_type": "code",
   "execution_count": null,
   "id": "dc4dc0bf",
   "metadata": {},
   "outputs": [],
   "source": [
    "puntos = puntos_criticos + [-5, 5]\n",
    "for p in puntos:\n",
    "    valor = f.subs({x:p}).evalf()\n",
    "    print(\"La función vale \" + str(valor) + \" en el punto \" + str(p))"
   ]
  },
  {
   "cell_type": "markdown",
   "id": "cfa1f5f0",
   "metadata": {},
   "source": [
    "De nuevo, podemos dibujar la función para ver que la gráfica coincide con lo que hemos obtenido:"
   ]
  },
  {
   "cell_type": "code",
   "execution_count": null,
   "id": "194c77dd",
   "metadata": {},
   "outputs": [],
   "source": [
    "import matplotlib.pyplot as plt\n",
    "import numpy as np\n",
    "\n",
    "# Definir la función f(x)\n",
    "\n",
    "def f(x):\n",
    "    return 3*x**5 - 50*x**3 + 135*x\n",
    "\n",
    "# Rango de valores de x\n",
    "x = np.linspace(-5, 5, 400)\n",
    "\n",
    "# Calcular los valores correspondientes de f(x)\n",
    "y = f(x)\n",
    "\n",
    "# Crear el gráfico\n",
    "plt.figure(figsize=(8, 6)) \n",
    "plt.plot(x, y, label = '$3*x^5 - 50*x^3 + 135*x$', color='b')\n",
    "\n",
    "# Etiquetas y título\n",
    "plt.xlabel('x')\n",
    "plt.ylabel('f(x)')\n",
    "\n",
    "\n",
    "# Mostrar el gráfico\n",
    "plt.grid()\n",
    "plt.legend()\n",
    "plt.show()\n"
   ]
  }
 ],
 "metadata": {
  "kernelspec": {
   "display_name": "venv",
   "language": "python",
   "name": "venv"
  },
  "language_info": {
   "codemirror_mode": {
    "name": "ipython",
    "version": 3
   },
   "file_extension": ".py",
   "mimetype": "text/x-python",
   "name": "python",
   "nbconvert_exporter": "python",
   "pygments_lexer": "ipython3",
   "version": "3.10.12"
  }
 },
 "nbformat": 4,
 "nbformat_minor": 5
}
