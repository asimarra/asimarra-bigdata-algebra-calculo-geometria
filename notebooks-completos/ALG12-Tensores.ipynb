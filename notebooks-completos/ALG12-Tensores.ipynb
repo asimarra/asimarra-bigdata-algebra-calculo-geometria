{
 "cells": [
  {
   "cell_type": "markdown",
   "id": "c11aa2ff",
   "metadata": {},
   "source": [
    "<img src=\"images/keepcoding.png\" width=200 align=\"left\">"
   ]
  },
  {
   "cell_type": "markdown",
   "id": "350628ac",
   "metadata": {},
   "source": [
    "# Tensores\n",
    "\n",
    "## 1. Definición\n",
    "\n",
    "Hay diferentes definiciones dependiendo del ámbito (física, matemáticas, informática...). Para nosotros, va a ser una generalización de escalares, vectores y matrices a un número arbitrario de dimensiones (o ejes), y los vamos a usar para almacenar datos multidimensionales.\n",
    "\n",
    "Por tanto, un vector y una matriz **también son tensores**, de dimensión 1 y 2 respectivamente. En dimensión 1 necesitábamos un subíndice para definir el vector. En dimensión 2, dos subíndices, y ahora podremos necesitar un número arbitrario de ellos.\n",
    "\n",
    "<img src=\"images/tensor.png\" width=70%/>\n",
    "\n",
    "\n",
    "**¿Para qué vamos a usarlos?** En machine learning y deep learning los usaremos para almacenar datos y operar con ellos rápida y fácilmente. Por ejemplo, almacenar un array de imágenes para un clasificador con Deep Learning o la relación entre varias palabras en un modelo de procesamiento de lenguaje natural. Podemos usar Python con numpy, tensorflow, keras...\n",
    "\n",
    "<img src=\"images/tensor-cubo.jpeg\" width=30%/>\n"
   ]
  },
  {
   "cell_type": "markdown",
   "id": "341f8618",
   "metadata": {},
   "source": [
    "## 2. Representación de tensores\n",
    "\n",
    "Usando como ejemplo un tensor en tres dimensiones, ya hemos visto que necesitaríamos tres índices para almacenar los datos. Podemos verlo como un conjunto de matrices, una a continuación de la otra.\n",
    "\n",
    "$ T =\n",
    "  \\left( {\\begin{array}{cc}\n",
    "   t_{111}, t_{121}, t_{131} \\\\  \n",
    "   t_{211}, t_{221}, t_{231} \\\\  \n",
    "   t_{311}, t_{321}, t_{331} \\\\  \n",
    "  \\end{array} } \\right) ,\n",
    "  \\left( {\\begin{array}{cc}\n",
    "   t_{112}, t_{122}, t_{132} \\\\  \n",
    "   t_{212}, t_{222}, t_{232} \\\\  \n",
    "   t_{312}, t_{322}, t_{332} \\\\  \n",
    "  \\end{array} } \\right) ,\n",
    "  \\left( {\\begin{array}{cc}\n",
    "   t_{113}, t_{123}, t_{133} \\\\  \n",
    "   t_{213}, t_{223}, t_{233} \\\\  \n",
    "   t_{313}, t_{323}, t_{333} \\\\  \n",
    "  \\end{array} } \\right)\n",
    "  $"
   ]
  },
  {
   "cell_type": "code",
   "execution_count": 2,
   "id": "2d610f1c",
   "metadata": {},
   "outputs": [
    {
     "name": "stdout",
     "output_type": "stream",
     "text": [
      "[[[ 1  2  3]\n",
      "  [ 4  5  6]\n",
      "  [ 7  8  9]]\n",
      "\n",
      " [[11 12 13]\n",
      "  [14 15 16]\n",
      "  [17 18 19]]\n",
      "\n",
      " [[ 1  2  3]\n",
      "  [ 4  5  6]\n",
      "  [ 7  8  9]]]\n",
      "(3, 3, 3)\n"
     ]
    }
   ],
   "source": [
    "import numpy as np\n",
    "T = np.array([[[1, 2, 3], [4, 5, 6], [7, 8, 9]], \n",
    "             [[11, 12, 13], [14, 15, 16], [17, 18, 19]],\n",
    "             [[1, 2, 3], [4, 5, 6], [7, 8, 9]]])\n",
    "print(T)\n",
    "print(T.shape)"
   ]
  },
  {
   "cell_type": "markdown",
   "id": "b4ebf621",
   "metadata": {},
   "source": [
    "Que la dimensión sea (3, 3, 3) quiere decir que tenemos tres filas y tres columnas en cada matriz, y además tres matrices una detrás de la otra. Si lo vemos como un paralelepípedo, será un cubo de tamaño 3."
   ]
  },
  {
   "cell_type": "code",
   "execution_count": 3,
   "id": "caef86cc",
   "metadata": {},
   "outputs": [
    {
     "data": {
      "text/plain": [
       "array([[1, 2, 3],\n",
       "       [4, 5, 6],\n",
       "       [7, 8, 9]])"
      ]
     },
     "execution_count": 3,
     "metadata": {},
     "output_type": "execute_result"
    }
   ],
   "source": [
    "T[0]"
   ]
  },
  {
   "cell_type": "code",
   "execution_count": 4,
   "id": "c84f48a8",
   "metadata": {},
   "outputs": [
    {
     "data": {
      "text/plain": [
       "array([1, 2, 3])"
      ]
     },
     "execution_count": 4,
     "metadata": {},
     "output_type": "execute_result"
    }
   ],
   "source": [
    "T[0][0]"
   ]
  },
  {
   "cell_type": "code",
   "execution_count": 5,
   "id": "938afc34",
   "metadata": {},
   "outputs": [
    {
     "data": {
      "text/plain": [
       "1"
      ]
     },
     "execution_count": 5,
     "metadata": {},
     "output_type": "execute_result"
    }
   ],
   "source": [
    "T[0][0][0]"
   ]
  },
  {
   "cell_type": "code",
   "execution_count": 6,
   "id": "958214ad",
   "metadata": {},
   "outputs": [
    {
     "ename": "IndexError",
     "evalue": "invalid index to scalar variable.",
     "output_type": "error",
     "traceback": [
      "\u001b[0;31m---------------------------------------------------------------------------\u001b[0m",
      "\u001b[0;31mIndexError\u001b[0m                                Traceback (most recent call last)",
      "Cell \u001b[0;32mIn[6], line 1\u001b[0m\n\u001b[0;32m----> 1\u001b[0m \u001b[43mT\u001b[49m\u001b[43m[\u001b[49m\u001b[38;5;241;43m0\u001b[39;49m\u001b[43m]\u001b[49m\u001b[43m[\u001b[49m\u001b[38;5;241;43m0\u001b[39;49m\u001b[43m]\u001b[49m\u001b[43m[\u001b[49m\u001b[38;5;241;43m0\u001b[39;49m\u001b[43m]\u001b[49m\u001b[43m[\u001b[49m\u001b[38;5;241;43m0\u001b[39;49m\u001b[43m]\u001b[49m\n",
      "\u001b[0;31mIndexError\u001b[0m: invalid index to scalar variable."
     ]
    }
   ],
   "source": [
    "T[0][0][0][0]"
   ]
  },
  {
   "cell_type": "code",
   "execution_count": 31,
   "id": "9ae077cc",
   "metadata": {},
   "outputs": [],
   "source": [
    "T[0,0,0] = 200"
   ]
  },
  {
   "cell_type": "code",
   "execution_count": 32,
   "id": "ec4200aa",
   "metadata": {},
   "outputs": [
    {
     "data": {
      "text/plain": [
       "array([[[200,   2,   3],\n",
       "        [  4,   5,   6],\n",
       "        [  7,   8,   9]],\n",
       "\n",
       "       [[  1,   2,   3],\n",
       "        [  4,   5,   6],\n",
       "        [  7,   8,   9]]])"
      ]
     },
     "execution_count": 32,
     "metadata": {},
     "output_type": "execute_result"
    }
   ],
   "source": [
    "T[0:3:2,]"
   ]
  },
  {
   "cell_type": "code",
   "execution_count": 9,
   "id": "28a4f800",
   "metadata": {},
   "outputs": [
    {
     "data": {
      "text/plain": [
       "array([[[ 1,  2,  3],\n",
       "        [ 4,  5,  6],\n",
       "        [ 7,  8,  9]],\n",
       "\n",
       "       [[11, 12, 13],\n",
       "        [14, 15, 16],\n",
       "        [17, 18, 19]],\n",
       "\n",
       "       [[ 1,  2,  3],\n",
       "        [ 4,  5,  6],\n",
       "        [ 7,  8,  9]]])"
      ]
     },
     "execution_count": 9,
     "metadata": {},
     "output_type": "execute_result"
    }
   ],
   "source": [
    "T"
   ]
  },
  {
   "cell_type": "markdown",
   "id": "b60672ee",
   "metadata": {},
   "source": [
    "## 3. Operaciones elementales\n",
    "\n",
    "### 3.1 Suma de tensores\n",
    "\n",
    "La suma (y la resta de tensores) se hace elemento a elemento, igual que lo hacíamos con las matrices. Aplican de nuevo la **asociatividad**, **conmutatividad**, **existencia de elemento neutro** y **existencia de inverso**."
   ]
  },
  {
   "cell_type": "code",
   "execution_count": 3,
   "id": "9ed27e0b",
   "metadata": {},
   "outputs": [],
   "source": [
    "import numpy as np\n",
    "A = np.array([[[1, 2, 3], [4, 5, 6], [7, 8, 9]], \n",
    "             [[1, 2, 3], [4, 5, 6], [7, 8, 9]],\n",
    "             [[1, 2, 3], [4, 5, 6], [7, 8, 9]]])"
   ]
  },
  {
   "cell_type": "code",
   "execution_count": 5,
   "id": "8a7938a5",
   "metadata": {},
   "outputs": [],
   "source": [
    "B = np.array([[[1, 2, 3], [4, 5, 6], [7, 8, 9]], \n",
    "             [[1, 2, 3], [4, 5, 6], [7, 8, 9]],\n",
    "             [[1, 2, 3], [4, 5, 6], [7, 8, 9]]])"
   ]
  },
  {
   "cell_type": "code",
   "execution_count": 6,
   "id": "b33648ec",
   "metadata": {},
   "outputs": [
    {
     "data": {
      "text/plain": [
       "array([[[ 2,  4,  6],\n",
       "        [ 8, 10, 12],\n",
       "        [14, 16, 18]],\n",
       "\n",
       "       [[ 2,  4,  6],\n",
       "        [ 8, 10, 12],\n",
       "        [14, 16, 18]],\n",
       "\n",
       "       [[ 2,  4,  6],\n",
       "        [ 8, 10, 12],\n",
       "        [14, 16, 18]]])"
      ]
     },
     "execution_count": 6,
     "metadata": {},
     "output_type": "execute_result"
    }
   ],
   "source": [
    "A + B"
   ]
  },
  {
   "cell_type": "code",
   "execution_count": 7,
   "id": "805b2fff-7455-4577-a1c9-8b212e5376e7",
   "metadata": {},
   "outputs": [
    {
     "data": {
      "text/plain": [
       "array([[[0, 0, 0],\n",
       "        [0, 0, 0],\n",
       "        [0, 0, 0]],\n",
       "\n",
       "       [[0, 0, 0],\n",
       "        [0, 0, 0],\n",
       "        [0, 0, 0]],\n",
       "\n",
       "       [[0, 0, 0],\n",
       "        [0, 0, 0],\n",
       "        [0, 0, 0]]])"
      ]
     },
     "execution_count": 7,
     "metadata": {},
     "output_type": "execute_result"
    }
   ],
   "source": [
    "A - B"
   ]
  },
  {
   "cell_type": "markdown",
   "id": "68dc1378",
   "metadata": {},
   "source": [
    "¿Qué pasa si no tienen el mismo tamaño?"
   ]
  },
  {
   "cell_type": "code",
   "execution_count": 8,
   "id": "267c0917",
   "metadata": {},
   "outputs": [
    {
     "name": "stdout",
     "output_type": "stream",
     "text": [
      "(2, 3, 3)\n"
     ]
    }
   ],
   "source": [
    "B = np.array([[[1, 2, 3], [4, 5, 6], [7, 8, 9]], \n",
    "             [[1, 2, 3], [4, 5, 6], [7, 8, 9]]])\n",
    "print(B.shape)"
   ]
  },
  {
   "cell_type": "code",
   "execution_count": 9,
   "id": "41254678-507f-4548-8198-7cb3352b47ed",
   "metadata": {},
   "outputs": [
    {
     "ename": "ValueError",
     "evalue": "operands could not be broadcast together with shapes (3,3,3) (2,3,3) ",
     "output_type": "error",
     "traceback": [
      "\u001b[0;31m---------------------------------------------------------------------------\u001b[0m",
      "\u001b[0;31mValueError\u001b[0m                                Traceback (most recent call last)",
      "Cell \u001b[0;32mIn[9], line 1\u001b[0m\n\u001b[0;32m----> 1\u001b[0m \u001b[43mA\u001b[49m\u001b[43m \u001b[49m\u001b[38;5;241;43m+\u001b[39;49m\u001b[43m \u001b[49m\u001b[43mB\u001b[49m\n",
      "\u001b[0;31mValueError\u001b[0m: operands could not be broadcast together with shapes (3,3,3) (2,3,3) "
     ]
    }
   ],
   "source": [
    "A + B"
   ]
  },
  {
   "cell_type": "markdown",
   "id": "a0073f82",
   "metadata": {},
   "source": [
    "### 3.2 Producto de un tensor por un escalar \n",
    "\n",
    "El producto de un tensor por un escalar también tiene como resultado un tensor donde cada elemento está multiplicado por el escalar."
   ]
  },
  {
   "cell_type": "code",
   "execution_count": 10,
   "id": "58e2072a",
   "metadata": {},
   "outputs": [
    {
     "name": "stdout",
     "output_type": "stream",
     "text": [
      "[[[1. 1. 1.]\n",
      "  [1. 1. 1.]\n",
      "  [1. 1. 1.]]\n",
      "\n",
      " [[1. 1. 1.]\n",
      "  [1. 1. 1.]\n",
      "  [1. 1. 1.]]\n",
      "\n",
      " [[1. 1. 1.]\n",
      "  [1. 1. 1.]\n",
      "  [1. 1. 1.]]]\n"
     ]
    }
   ],
   "source": [
    "D = np.ones((3,3,3))\n",
    "print(D)"
   ]
  },
  {
   "cell_type": "code",
   "execution_count": 11,
   "id": "7848cfbd",
   "metadata": {},
   "outputs": [
    {
     "data": {
      "text/plain": [
       "array([[[2.78, 2.78, 2.78],\n",
       "        [2.78, 2.78, 2.78],\n",
       "        [2.78, 2.78, 2.78]],\n",
       "\n",
       "       [[2.78, 2.78, 2.78],\n",
       "        [2.78, 2.78, 2.78],\n",
       "        [2.78, 2.78, 2.78]],\n",
       "\n",
       "       [[2.78, 2.78, 2.78],\n",
       "        [2.78, 2.78, 2.78],\n",
       "        [2.78, 2.78, 2.78]]])"
      ]
     },
     "execution_count": 11,
     "metadata": {},
     "output_type": "execute_result"
    }
   ],
   "source": [
    "2.78*D"
   ]
  },
  {
   "cell_type": "code",
   "execution_count": 12,
   "id": "e1821a2b",
   "metadata": {},
   "outputs": [],
   "source": [
    "F = 2.78*D - 0.23*A"
   ]
  },
  {
   "cell_type": "code",
   "execution_count": 13,
   "id": "69d97c0f",
   "metadata": {},
   "outputs": [
    {
     "data": {
      "text/plain": [
       "array([[[2.55, 2.32, 2.09],\n",
       "        [1.86, 1.63, 1.4 ],\n",
       "        [1.17, 0.94, 0.71]],\n",
       "\n",
       "       [[2.55, 2.32, 2.09],\n",
       "        [1.86, 1.63, 1.4 ],\n",
       "        [1.17, 0.94, 0.71]],\n",
       "\n",
       "       [[2.55, 2.32, 2.09],\n",
       "        [1.86, 1.63, 1.4 ],\n",
       "        [1.17, 0.94, 0.71]]])"
      ]
     },
     "execution_count": 13,
     "metadata": {},
     "output_type": "execute_result"
    }
   ],
   "source": [
    "F"
   ]
  },
  {
   "cell_type": "markdown",
   "id": "3c5339c0",
   "metadata": {},
   "source": [
    "**Recordatorio**: Para todas las operaciones elemento a elemento, necesitamos que la dimensión sea la misma."
   ]
  },
  {
   "cell_type": "markdown",
   "id": "ed8de185",
   "metadata": {},
   "source": [
    "## 4. Ejemplo: uso de un tensor para almacenar una imagen RGB"
   ]
  },
  {
   "cell_type": "code",
   "execution_count": 33,
   "id": "69d329cc",
   "metadata": {},
   "outputs": [
    {
     "name": "stdout",
     "output_type": "stream",
     "text": [
      "Collecting image_to_numpy\n",
      "  Using cached image_to_numpy-1.0.0-py3-none-any.whl\n",
      "Requirement already satisfied: pillow in /home/raquel/Documents/KC/venv/lib/python3.10/site-packages (from image_to_numpy) (10.3.0)\n",
      "Requirement already satisfied: numpy in /home/raquel/Documents/KC/venv/lib/python3.10/site-packages (from image_to_numpy) (1.26.4)\n",
      "Installing collected packages: image_to_numpy\n",
      "Successfully installed image_to_numpy-1.0.0\n"
     ]
    }
   ],
   "source": [
    "!pip install image_to_numpy"
   ]
  },
  {
   "cell_type": "code",
   "execution_count": 34,
   "id": "318fbf84",
   "metadata": {},
   "outputs": [],
   "source": [
    "import image_to_numpy\n",
    "import matplotlib.pyplot as plt"
   ]
  },
  {
   "cell_type": "markdown",
   "id": "798a875f",
   "metadata": {},
   "source": [
    "<img src=\"images/tensor.png\" width=70%/>"
   ]
  },
  {
   "cell_type": "code",
   "execution_count": 36,
   "id": "1259ac76",
   "metadata": {},
   "outputs": [
    {
     "data": {
      "text/plain": [
       "(283, 800, 3)"
      ]
     },
     "execution_count": 36,
     "metadata": {},
     "output_type": "execute_result"
    }
   ],
   "source": [
    "img = image_to_numpy.load_image_file('images/tensor.png', mode=\"RGB\")\n",
    "img.shape"
   ]
  },
  {
   "cell_type": "code",
   "execution_count": 37,
   "id": "5da82a85",
   "metadata": {},
   "outputs": [
    {
     "data": {
      "text/plain": [
       "array([[255, 255, 255, 255, 255, 255, 255, 255, 255, 255, 255, 255, 255,\n",
       "        255, 255, 255, 255, 255, 255, 255, 255, 255, 255, 255, 255, 255,\n",
       "        255, 255, 255, 255, 255, 255, 255, 255, 255, 255, 255, 255, 255,\n",
       "        255, 255, 255, 255, 255, 255, 255, 255, 255, 255],\n",
       "       [255, 255, 255, 255, 255, 255, 255, 255, 255, 255, 255, 255, 255,\n",
       "        255, 255, 255, 255, 255, 255, 255, 255, 255, 255, 255, 255, 255,\n",
       "        255, 255, 255, 255, 255, 255, 255, 255, 255, 255, 255, 255, 255,\n",
       "        255, 255, 255, 255, 255, 255, 255, 255, 255, 255],\n",
       "       [255, 255, 255, 255, 255, 255, 255, 255, 255, 255, 255, 255, 255,\n",
       "        255, 255, 255, 255, 255, 255, 255, 255, 255, 255, 255, 255, 255,\n",
       "        255, 255, 255, 255, 255, 255, 255, 255, 255, 255, 255, 255, 255,\n",
       "        255, 255, 255, 255, 255, 255, 255, 255, 255, 255],\n",
       "       [255, 255, 255, 255, 255, 255, 255, 255, 255, 255, 255, 255, 255,\n",
       "        255, 255, 255, 255, 255, 255, 255, 255, 255, 255, 255, 255, 255,\n",
       "        255, 255, 255, 255, 255, 255, 255, 255, 255, 255, 255, 255, 255,\n",
       "        255, 255, 255, 255, 255, 255, 255, 255, 255, 255],\n",
       "       [255, 252, 255, 255, 255, 255, 250, 255, 253, 197, 173, 161, 163,\n",
       "        174, 161, 242, 255, 255, 255, 255, 255, 255, 255, 255, 255, 255,\n",
       "        255, 255, 255, 255, 255, 255, 255, 255, 255, 255, 255, 255, 255,\n",
       "        255, 255, 255, 255, 255, 255, 255, 255, 255, 255],\n",
       "       [255, 251, 250, 255, 255, 251, 254, 250, 252, 117, 101, 105, 117,\n",
       "         96, 115, 249, 255, 255, 255, 255, 255, 255, 255, 255, 255, 255,\n",
       "        255, 255, 255, 255, 255, 255, 255, 255, 255, 255, 255, 255, 255,\n",
       "        255, 255, 255, 255, 255, 255, 255, 255, 255, 255],\n",
       "       [252, 255, 255, 251, 253, 255, 255, 253, 205, 104, 104, 100, 104,\n",
       "        106, 159, 254, 255, 255, 255, 255, 255, 255, 255, 255, 255, 255,\n",
       "        255, 255, 255, 255, 255, 255, 255, 255, 255, 255, 255, 255, 255,\n",
       "        255, 255, 255, 255, 255, 255, 255, 255, 255, 255],\n",
       "       [249, 255, 255, 244, 254, 255, 249, 255, 143, 101, 105, 102, 101,\n",
       "        109, 215, 255, 255, 255, 255, 255, 255, 255, 255, 255, 255, 255,\n",
       "        255, 255, 255, 255, 255, 255, 255, 255, 255, 255, 255, 255, 255,\n",
       "        255, 255, 255, 255, 255, 255, 255, 255, 255, 255],\n",
       "       [255, 250, 250, 254, 255, 248, 253, 234, 106, 104, 111,  94,  99,\n",
       "        128, 252, 249, 255, 255, 255, 255, 255, 255, 255, 255, 255, 255,\n",
       "        255, 255, 255, 255, 255, 255, 255, 255, 255, 255, 255, 255, 255,\n",
       "        255, 255, 255, 255, 255, 255, 255, 255, 255, 255],\n",
       "       [255, 254, 247, 255, 250, 246, 255, 163, 101,  98,  97, 108, 105,\n",
       "        180, 247, 253, 255, 255, 255, 255, 255, 255, 255, 255, 255, 255,\n",
       "        255, 255, 255, 255, 255, 255, 255, 255, 255, 255, 255, 255, 255,\n",
       "        255, 255, 255, 255, 255, 255, 255, 255, 255, 255],\n",
       "       [253, 255, 253, 254, 248, 252, 248, 111, 101, 113, 101, 102, 106,\n",
       "        244, 255, 254, 255, 255, 255, 255, 255, 255, 255, 255, 255, 255,\n",
       "        255, 255, 255, 255, 255, 255, 255, 255, 255, 255, 255, 255, 255,\n",
       "        255, 255, 255, 255, 255, 255, 255, 255, 255, 255],\n",
       "       [255, 250, 255, 248, 255, 254, 211, 104, 106,  96, 100, 107, 148,\n",
       "        248, 255, 251, 255, 255, 255, 255, 255, 255, 255, 255, 255, 255,\n",
       "        255, 255, 255, 255, 255, 255, 255, 255, 255, 255, 255, 255, 255,\n",
       "        255, 255, 255, 255, 255, 255, 255, 255, 255, 255],\n",
       "       [255, 254, 245, 255, 255, 254, 151, 101, 102, 100, 104,  98, 235,\n",
       "        252, 255, 254, 253, 251, 254, 255, 255, 251, 252, 255, 254, 255,\n",
       "        247, 255, 248, 252, 255, 250, 254, 255, 253, 250, 255, 247, 250,\n",
       "        255, 251, 255, 247, 251, 255, 255, 254, 254, 254],\n",
       "       [250, 255, 255, 246, 253, 231, 115, 105, 102, 102, 110, 138, 250,\n",
       "        255, 250, 254, 255, 250, 254, 251, 248, 254, 255, 208, 187, 183,\n",
       "        181, 196, 237, 255, 250, 254, 249, 254, 239, 246, 252, 255, 255,\n",
       "        252, 255, 244, 255, 252, 249, 252, 250, 246, 207],\n",
       "       [255, 249, 249, 254, 249, 208, 104,  98, 100, 100, 104, 201, 255,\n",
       "        252, 243, 255, 244, 250, 255, 249, 246, 158, 104, 105, 108, 104,\n",
       "         98, 102, 114, 125, 222, 254, 255, 244, 255, 255, 249, 254, 252,\n",
       "        254, 255, 255, 253, 255, 254, 205, 133, 103,  99],\n",
       "       [252, 252, 251, 255, 248, 153, 109, 103,  99, 105, 117, 247, 254,\n",
       "        250, 248, 255, 255, 255, 240, 168, 100,  99, 106, 106, 100, 111,\n",
       "        103, 104,  97,  99, 108, 156, 251, 254, 253, 244, 248, 255, 253,\n",
       "        255, 245, 251, 255, 224, 130,  96, 108, 101, 105],\n",
       "       [251, 255, 255, 250, 241, 110, 101, 105, 102, 106, 169, 255, 244,\n",
       "        255, 255, 249, 250, 223, 136, 116,  91, 108, 102,  99, 102,  96,\n",
       "        106,  97, 100, 107,  96, 105, 136, 239, 255, 255, 255, 255, 248,\n",
       "        252, 255, 243, 194, 109, 112, 106,  98, 104,  98],\n",
       "       [255, 251, 250, 251, 187, 110,  97, 102, 105,  99, 218, 253, 250,\n",
       "        255, 251, 255, 250, 135, 106,  94, 107, 108,  93, 126, 142, 139,\n",
       "        132, 113, 103,  99, 112, 101, 103, 162, 248, 249, 252, 255, 255,\n",
       "        254, 248, 212, 104, 106, 100, 101, 102,  96, 106],\n",
       "       [255, 248, 255, 255, 116, 108, 100, 107, 103, 129, 244, 253, 255,\n",
       "        254, 248, 255, 193, 113,  95, 103, 104, 109, 207, 253, 255, 248,\n",
       "        255, 242, 134, 106,  93, 105, 102, 100, 229, 255, 253, 248, 253,\n",
       "        255, 249, 119, 108,  98, 107, 101,  97, 111, 114],\n",
       "       [255, 255, 253, 231,  99, 103, 103,  97,  98, 186, 255, 254, 250,\n",
       "        255, 255, 240, 106,  96, 105, 110, 102, 216, 251, 253, 250, 255,\n",
       "        244, 255, 252, 136, 103, 104, 102, 110, 160, 253, 254, 255, 253,\n",
       "        254, 172, 103,  98, 113,  93,  97, 121, 188, 252]], dtype=uint8)"
      ]
     },
     "execution_count": 37,
     "metadata": {},
     "output_type": "execute_result"
    }
   ],
   "source": [
    "img[20:40, 200:249, 0]"
   ]
  }
 ],
 "metadata": {
  "kernelspec": {
   "display_name": "venv",
   "language": "python",
   "name": "venv"
  },
  "language_info": {
   "codemirror_mode": {
    "name": "ipython",
    "version": 3
   },
   "file_extension": ".py",
   "mimetype": "text/x-python",
   "name": "python",
   "nbconvert_exporter": "python",
   "pygments_lexer": "ipython3",
   "version": "3.10.12"
  }
 },
 "nbformat": 4,
 "nbformat_minor": 5
}
