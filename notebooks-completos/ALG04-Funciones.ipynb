{
 "cells": [
  {
   "cell_type": "markdown",
   "id": "394537a0",
   "metadata": {},
   "source": [
    "<img src=\"images/keepcoding.png\" width=200 align=\"left\">"
   ]
  },
  {
   "cell_type": "markdown",
   "id": "0d8b5cab",
   "metadata": {},
   "source": [
    "# Funciones"
   ]
  },
  {
   "cell_type": "markdown",
   "id": "5123afb0",
   "metadata": {},
   "source": [
    "## 1. Introducción\n",
    "\n",
    "Una función matemática es una relación entre dos conjuntos de números, conocidos como el dominio y el codominio. Se caracteriza por asignar a cada elemento del dominio un único elemento en el codominio. En otras palabras, una función toma un valor de entrada (o más) y produce un valor de salida de acuerdo con una regla específica.\n",
    "\n",
    "Las funciones matemáticas se representan típicamente mediante una notación, como f(x), donde \"f\" es el nombre de la función y \"x\" representa el valor de entrada. La regla que define cómo se relacionan los valores de entrada y salida se llama regla de correspondencia. Esta regla puede ser expresada en forma de una ecuación, una fórmula o incluso un conjunto de instrucciones en un programa informático.\n",
    "\n",
    "Las funciones matemáticas son fundamentales en matemáticas y en numerosas disciplinas científicas y técnicas. Se utilizan para modelar relaciones entre magnitudes físicas, resolver ecuaciones, realizar cálculos y analizar datos. Las funciones pueden ser lineales, cuadráticas, trigonométricas, exponenciales, logarítmicas, y muchas otras, cada una con sus propias características y aplicaciones específicas. En resumen, las funciones matemáticas son herramientas esenciales para describir y comprender el mundo que nos rodea, así como para resolver problemas y tomar decisiones informadas en una variedad de contextos.\n",
    "\n",
    "Podemos ver una función como una \"caja negra\" que transforma una entrada en una salida.\n",
    "\n",
    "<img src=\"./images/function-2.png\">"
   ]
  },
  {
   "cell_type": "markdown",
   "id": "5c13705e",
   "metadata": {},
   "source": [
    "## 2. Definición y ejemplos\n",
    "\n",
    "### 2.1 Definición de función \n",
    "\n",
    "Una función matemática \\( f \\), denotada como $ f: A \\to B $, es una relación binaria entre dos conjuntos  A (llamado dominio) y B (llamado codominio), donde para cada elemento x en el dominio  A, hay una correspondencia única en el codominio B. Esto se representa como:\n",
    "\n",
    "$ f(x) = y, \\text{ donde } x \\in A \\text{ y } y \\in B $\n",
    "\n",
    "<img src=\"./images/function.png\">\n",
    "\n",
    "\n",
    "No todos los valores del codominio tienen que estar relacionados con algún elemento del dominio. Sea $f:A\\rightarrow B$ una función, entonces se define la **imagen** como el subconjunto de B tal que:\n",
    "\n",
    "$$\n",
    "\\text{Im}(f) = \\{f(x):x\\in A\\}\\subset B\n",
    "$$\n",
    "\n",
    "\n",
    "Por ejemplo, si tenemos la función que a cada número entero le asigna su cuadrado, tendríamos:\n",
    "\n",
    "$$\n",
    "\\begin{equation}\n",
    "\\begin{split}\n",
    "f: & \\mathbb{Z} & \\rightarrow & \\mathbb{N}\\\\\n",
    " & z & \\rightarrow & z^2\n",
    "\\end{split}\n",
    "\\end{equation}\n",
    "$$\n",
    "\n",
    "Implementemos esta función con Python:"
   ]
  },
  {
   "cell_type": "code",
   "execution_count": 1,
   "id": "3e6be019",
   "metadata": {},
   "outputs": [],
   "source": [
    "def cuadrado(x):\n",
    "\n",
    "    return x**2"
   ]
  },
  {
   "cell_type": "code",
   "execution_count": 2,
   "id": "ad8025b6",
   "metadata": {},
   "outputs": [
    {
     "data": {
      "text/plain": [
       "4"
      ]
     },
     "execution_count": 2,
     "metadata": {},
     "output_type": "execute_result"
    }
   ],
   "source": [
    "cuadrado(2)"
   ]
  },
  {
   "cell_type": "code",
   "execution_count": 3,
   "id": "e9bb2312",
   "metadata": {},
   "outputs": [
    {
     "data": {
      "text/plain": [
       "4"
      ]
     },
     "execution_count": 3,
     "metadata": {},
     "output_type": "execute_result"
    }
   ],
   "source": [
    "cuadrado(-2)"
   ]
  },
  {
   "cell_type": "markdown",
   "id": "48c1307c",
   "metadata": {},
   "source": [
    "Para ver su imagen, podríamos dar valores al dominio. Sin embargo, como se trata del conjunto de los enteros, que sabemos que es infinito, no vamos a poder llegar a todos. Lo que podemos hacer es restringirlo, por ejemplo, entre -10 y 10."
   ]
  },
  {
   "cell_type": "code",
   "execution_count": 4,
   "id": "27767785",
   "metadata": {},
   "outputs": [
    {
     "name": "stdout",
     "output_type": "stream",
     "text": [
      "{64, 1, 0, 100, 36, 4, 9, 16, 81, 49, 25}\n"
     ]
    }
   ],
   "source": [
    "# Usamos esta función\n",
    "imagen = set(())\n",
    "for z in range(-10, 11):\n",
    "    imagen.add(cuadrado(z))\n",
    "print(imagen)    "
   ]
  },
  {
   "cell_type": "markdown",
   "id": "36423bc9",
   "metadata": {},
   "source": [
    "La imagen de la función en el dominio $A= \\{x | -10 \\leq x \\leq 10\\}$ es un conjunto de 11 números naturales. No importa que a algunos números se llegue de varias formas (-2 y 2, por ejemplo) o que a otros no se llegue (por ejemplo, al 3 no se llega haciendo el cuadrado de ningún número natural). Seguimos teniendo una función bien definida"
   ]
  },
  {
   "cell_type": "markdown",
   "id": "b8e5aa5b",
   "metadata": {},
   "source": [
    "**Ejercicio**: Sea $g:\\{\\text{a},\\text{b},\\text{c},\\dots,\\text{y},\\text{z}\\}\\rightarrow\\mathbb{N}$ la función que a cada letra minúscula le asigna su posición en el alfabeto (comenzando por el 0). Por ejemplo: $g(a)=0$ y $g(c)=2$. Halla su imagen.\n",
    "\n",
    "Pista: la función ord() de Python dado un caracter devuelve su número natural correspondiente en Unicode; y la función chr() devuelve un caracter dado un número natural."
   ]
  },
  {
   "cell_type": "code",
   "execution_count": 10,
   "id": "6f925f5c",
   "metadata": {},
   "outputs": [
    {
     "name": "stdout",
     "output_type": "stream",
     "text": [
      "3\n",
      "Dominio = {'t', 'f', 'b', 'i', 'v', 'k', 'n', 'e', 'c', 'y', 'a', 'x', 's', 'z', 'h', 'o', 'j', 'g', 'r', 'l', 'm', 'd', 'q', 'p', 'w', 'u'}\n",
      "Imagen = {0, 1, 2, 3, 4, 5, 6, 7, 8, 9, 10, 11, 12, 13, 14, 15, 16, 17, 18, 19, 20, 21, 22, 23, 24, 25}\n"
     ]
    }
   ],
   "source": [
    "#Primero definimos la función g:\n",
    "def g(ch):\n",
    "    return ord(ch) - ord('a')\n",
    "#Probamos la función\n",
    "print(g('d'))\n",
    "\n",
    "#Generamos el conjunto del dominio\n",
    "Dom = {chr(n) for n in range(ord('a'), ord('z') + 1)}\n",
    "print(f'Dominio = {Dom}') \n",
    "#Generamos el conjunto imagen:\n",
    "Im = {g(d) for d in Dom}\n",
    "print(f'Imagen = {Im}') "
   ]
  },
  {
   "cell_type": "code",
   "execution_count": 11,
   "id": "c7986565",
   "metadata": {},
   "outputs": [
    {
     "ename": "TypeError",
     "evalue": "ord() expected string of length 1, but int found",
     "output_type": "error",
     "traceback": [
      "\u001b[0;31m---------------------------------------------------------------------------\u001b[0m",
      "\u001b[0;31mTypeError\u001b[0m                                 Traceback (most recent call last)",
      "Cell \u001b[0;32mIn[11], line 2\u001b[0m\n\u001b[1;32m      1\u001b[0m \u001b[38;5;66;03m#Probamos a darle a la función g valores que no pertenece a D como números\u001b[39;00m\n\u001b[0;32m----> 2\u001b[0m \u001b[43mg\u001b[49m\u001b[43m(\u001b[49m\u001b[38;5;241;43m45\u001b[39;49m\u001b[43m)\u001b[49m\n",
      "Cell \u001b[0;32mIn[10], line 3\u001b[0m, in \u001b[0;36mg\u001b[0;34m(ch)\u001b[0m\n\u001b[1;32m      2\u001b[0m \u001b[38;5;28;01mdef\u001b[39;00m \u001b[38;5;21mg\u001b[39m(ch):\n\u001b[0;32m----> 3\u001b[0m     \u001b[38;5;28;01mreturn\u001b[39;00m \u001b[38;5;28;43mord\u001b[39;49m\u001b[43m(\u001b[49m\u001b[43mch\u001b[49m\u001b[43m)\u001b[49m \u001b[38;5;241m-\u001b[39m \u001b[38;5;28mord\u001b[39m(\u001b[38;5;124m'\u001b[39m\u001b[38;5;124ma\u001b[39m\u001b[38;5;124m'\u001b[39m)\n",
      "\u001b[0;31mTypeError\u001b[0m: ord() expected string of length 1, but int found"
     ]
    }
   ],
   "source": [
    "#Probamos a darle a la función g valores que no pertenece a D como números\n",
    "g(45)"
   ]
  },
  {
   "cell_type": "markdown",
   "id": "270e184f",
   "metadata": {},
   "source": [
    "No debemos preocuparnos por lo que haga una función fuera de su dominio, porque no está diseñada para eso."
   ]
  },
  {
   "cell_type": "markdown",
   "id": "23cb9781",
   "metadata": {},
   "source": [
    "### 2.2 Imagen y anti imagen\n",
    "\n",
    "Aunque hemos visto la definición de imagen de una función más arriba, es útil recordar la definición e incluir la de anti imagen o pre imagen. Ambos conceptos se utilizan para comprender mejor cómo se relacionan los elementos de un conjunto de entrada (dominio) con los elementos de un conjunto de salida (codominio) a través de una función dada.\n",
    "\n",
    "**Imagen**\n",
    "\n",
    "La imagen de una función, a menudo denotada como $f(x)$ o $Im(f)$, es el conjunto de todos los valores posibles en el codominio (conjunto de salida) que la función puede generar cuando se le aplican diferentes valores del dominio (conjunto de entrada). \n",
    "\n",
    "Im(f) = {f(x) | x pertenece al dominio de la función}\n",
    "\n",
    "En términos más simples, la imagen es el rango de valores que la función puede tomar. En el dibujo siguiente, la imagen serían los partidos A, B y D.\n",
    "\n",
    "<img src=\"./images/imagen-votos.png\" width = 300>\n",
    "\n",
    "\n",
    "**Antiimagen**\n",
    "\n",
    "La antiimagen de una función, a menudo denotada como $f^{-1}(y)$ o $f^{-1}(A)$, donde A es un subconjunto del codominio, es el conjunto de todos los valores posibles en el dominio que, cuando se les aplica la función, generan un valor específico en el codominio. En otras palabras, para una función y = f(x), es el conjunto de todos los valores \"x\" en el dominio que se mapean a un valor particular \"y\" en el codominio. Matemáticamente, se define como:\n",
    "\n",
    "$$f^{-1}(A) = \\{x | f(x) \\text{ pertenece a } A\\}$$\n",
    "\n",
    "En la imagen siguiente, la antiimagen serían todas las personas del conjunto.\n",
    "\n",
    "<img src=\"./images/antiimagen-votos.png\" width = 300>\n",
    "\n",
    "\n",
    "Algunas propiedades:\n",
    "\n",
    "- La imagen de una función es un conjunto de valores en el codominio, mientras que la antiimagen es un conjunto de valores en el dominio.\n",
    "\n",
    "- La imagen nos dice qué valores en el codominio son alcanzables a través de la función.\n",
    "\n",
    "- La antiimagen nos dice qué valores en el dominio se pueden mapear a un valor específico en el codominio."
   ]
  },
  {
   "cell_type": "markdown",
   "id": "8abddf9c",
   "metadata": {},
   "source": [
    "## 3. Igualdad de funciones\n",
    "\n",
    "Diremos que dos funciones cualesquiera $f:A\\rightarrow B$ y $g:C\\rightarrow D$ son iguales si se cumple que:\n",
    "- Tienen el mismo dominio: $A=C$\n",
    "- Asignan las mismas imágenes: $\\forall x\\in A=C$ se tiene que $f(x)=g(x)$ (el símbolo $\\forall$ significa \"para todo\")\n",
    "\n",
    "**Ejercicio**: Implementa la igualdad de funciones en un dominio finito"
   ]
  },
  {
   "cell_type": "code",
   "execution_count": 15,
   "id": "189ccbfd",
   "metadata": {},
   "outputs": [
    {
     "data": {
      "text/plain": [
       "True"
      ]
     },
     "execution_count": 15,
     "metadata": {},
     "output_type": "execute_result"
    }
   ],
   "source": [
    "# Implementamos la igualdad de funciones\n",
    "# En python, las funciones son objetos, por lo que pueden almacenarse en variables o pasarse como parámetros\n",
    "def igualdad(f, Df, g, Dg):\n",
    "    if Df != Dg:\n",
    "        return False\n",
    "    for x in Df:\n",
    "        if f(x) != g(x):\n",
    "            return False\n",
    "    return True\n",
    "\n",
    "# Comprobemos por ejemplo que la función 2**x es lo mismo que la función pow(2, x) para el conjunto de los 100 primeros\n",
    "# números naturales\n",
    "Df = {n for n in range(100)}\n",
    "igualdad(lambda x: 2**x, Df, lambda y: pow(2, y), Df)"
   ]
  },
  {
   "cell_type": "code",
   "execution_count": 12,
   "id": "6b626d6b-9d04-4e6c-9cb0-4bbeeb7895cd",
   "metadata": {},
   "outputs": [
    {
     "data": {
      "text/plain": [
       "4"
      ]
     },
     "execution_count": 12,
     "metadata": {},
     "output_type": "execute_result"
    }
   ],
   "source": [
    "2**2"
   ]
  },
  {
   "cell_type": "code",
   "execution_count": 13,
   "id": "ff69d8b9-0986-413c-809a-bdb93897298b",
   "metadata": {},
   "outputs": [
    {
     "data": {
      "text/plain": [
       "4"
      ]
     },
     "execution_count": 13,
     "metadata": {},
     "output_type": "execute_result"
    }
   ],
   "source": [
    "pow(2, 2)"
   ]
  },
  {
   "cell_type": "markdown",
   "id": "4a24d6ae",
   "metadata": {},
   "source": [
    "## 5. Composición de funciones, identidad e inversa\n",
    "\n",
    "### 5.1 Composición de funciones\n",
    "\n",
    "Dadas dos funciones, bajo ciertas condiciones podemos usar los valores de salida de una de ellas como valores de entrada para la otra, creando una nueva función. Llamamos a esto **composición de funciones**.\n",
    "\n",
    "<img src=\"images/composicion.png\" width = 300>\n",
    "\n",
    "Sean dos funciones $f:A\\rightarrow B$ y $g:C\\rightarrow D$ tales que $\\text{Im}(f)\\subset C$, entonces la composición de g con f, denotada por $g\\circ f$, es la función $g\\circ f:A\\rightarrow D$ tal que a cada $a\\in A$ le asocia un elemento de $D$ obtenido a partir de $(g\\circ f)(a)=g(f(a))$.\n",
    "\n",
    "Es decir, la composición $g\\circ f$ hace actuar en primera instancia a la función $f$ sobre un elemento del dominio $A$. Esta, producirá una imagen $f(a)$ perteneciente al codominio $B$. Como la imagen de $f$ es un subconjunto de $C$ (por hipótesis inicial), $f(a)$ también será un elemento del dominio $C$ de la función $g$. Por lo tanto, esto garantiza que podemos utiliar $g$ sobre $f(a)$ para producir una imagen en el codominio final $D$. Los pasos serían:\n",
    "\n",
    "$$\n",
    "a\\in A \\rightarrow f(a)\\in B\\rightarrow g(f(a))\\in D\n",
    "$$\n",
    "\n",
    "Probamos a componer funciones con Python:"
   ]
  },
  {
   "cell_type": "code",
   "execution_count": 17,
   "id": "b26e695f",
   "metadata": {},
   "outputs": [
    {
     "data": {
      "text/plain": [
       "918"
      ]
     },
     "execution_count": 17,
     "metadata": {},
     "output_type": "execute_result"
    }
   ],
   "source": [
    "# Definimos dos funciones como objetos\n",
    "def f(x):\n",
    "    return x*2\n",
    "\n",
    "def g(x):\n",
    "    return x+3\n",
    "# Composición de funciones con funciones como objetos\n",
    "def composicion(f,g):\n",
    "    return lambda x: f(g(x))\n",
    "\n",
    "# Creamos una nueva función que es la composición de f y g\n",
    "h = composicion(f,g)\n",
    "\n",
    "# Probamos la función compuesta h con un valor de entrada\n",
    "h(456)"
   ]
  },
  {
   "cell_type": "markdown",
   "id": "62d33089",
   "metadata": {},
   "source": [
    "A mano, lo que hacemos es:\n",
    "\n",
    "\\begin{align*}\n",
    "    f(x) &= 2x \\\\\n",
    "    g(x) &= x + 3 \\\\\n",
    "    h(x) &= (f \\circ g)(x) \\\\\n",
    "    h(x) &= f(g(x))\n",
    "\\end{align*}\n",
    "\n",
    "Donde:\n",
    "\\begin{align*}\n",
    "    (f \\circ g)(x) &= f(g(x)) \\\\\n",
    "    (f \\circ g)(x) &= f(x + 3) \\\\\n",
    "    (f \\circ g)(x) &= 2(x + 3) \\\\\n",
    "    (f \\circ g)(x) &= 2x + 6\n",
    "\\end{align*}\n",
    " "
   ]
  },
  {
   "cell_type": "markdown",
   "id": "7bf7663f",
   "metadata": {},
   "source": [
    "### 5.2 Identidad\n",
    "\n",
    "La función identidad es un caso particular de las funciones, que además puede definirse en cualquier dominio. Dado un conjunto A, la función identidad de A es la función $id: A : A \\rightarrow A$ que a cada a ∈ A le asocia $id_A(a) = a$.\n",
    "\n",
    "La función identidad actúa como un **elemento neutro al componer funciones**, ya que no «hace nada». La función única sobre un conjunto X que asigna cada elemento a sí mismo se denomina función de identidad para X y, típicamente, se indica con $id_X$. Cada conjunto tiene su propia función de identidad, por lo que el subíndice no puede omitirse a menos que el conjunto pueda deducirse del contexto. Bajo composición, una función de identidad es «neutral»: si f es cualquier función de X a Y, entonces:\n",
    "\n",
    "Dada una función cualquiera f : A → B se tiene:\n",
    "\n",
    "\\begin{aligned}&f\\circ {\\text{id}}_{A}=f\\\\&{\\text{id}}_{B}\\circ f=f\\end{aligned}"
   ]
  },
  {
   "cell_type": "markdown",
   "id": "298203b6",
   "metadata": {},
   "source": [
    "### 5.3 Función inversa\n",
    "\n",
    "Una función puede tener inversa (o recíproca), es decir, otra función que al componerla con ella resulte en la identidad, del mismo modo que un número multiplicado por su inverso da 1. Dada una función $f:A\\rightarrow B$ se dice que $g:B\\rightarrow A$ es la inversa o recíproca de $f$ si se cumple que:\n",
    "\n",
    "$$\n",
    "\\begin{equation}\n",
    "\\begin{split}\n",
    "f\\circ g & = & id_B\\\\\n",
    "g\\circ f & = & id_A\n",
    "\\end{split}\n",
    "\\end{equation}\n",
    "$$\n",
    "\n",
    "La inversa se denota por $g=f^{-1}$ y tanto $f$ como $f^{-1}$ se dice que son invertibles.\n",
    "\n",
    "Ojo! No todas las funciones son invertibles."
   ]
  },
  {
   "cell_type": "markdown",
   "id": "1e37f547",
   "metadata": {},
   "source": [
    "## 6. La función `hash`\n",
    "\n",
    "Una función hash es una función matemática que toma un conjunto de datos (o \"mensaje\") y devuelve una cadena con un número acotado de símbolos, por ejemplo, un entero o una cadena de caracteres de longitud fija. Esta cadena se conoce como el \"valor hash\" o simplemente \"hash\". La función hash tiene la propiedad de que, dada la misma entrada, siempre producirá la misma salida (valor hash). Además, es computacionalmente eficiente de calcular.\n",
    "\n",
    "Las funciones hash se utilizan en una amplia variedad de aplicaciones en ciencias de la computación y seguridad, incluyendo:\n",
    "\n",
    "- Almacenamiento y recuperación de datos: Se utilizan en bases de datos y estructuras de datos para indexar y buscar información de manera eficiente. Al asociar datos con un valor hash, se puede buscar rápidamente la información correspondiente.\n",
    "\n",
    "- Integridad de datos: Los valores hash se utilizan para verificar si los datos han sido modificados o corrompidos durante la transferencia o el almacenamiento. Si el valor hash de los datos originales coincide con el valor hash calculado después de la transferencia, se puede tener confianza en la integridad de los datos.\n",
    "\n",
    "- Criptografía: Las funciones hash se utilizan en algoritmos de criptografía para garantizar la seguridad de los datos. Por ejemplo, se utilizan en contraseñas almacenadas de manera segura, firmas digitales y otros protocolos de seguridad.\n",
    "\n",
    "- Estructuras de datos: En estructuras de datos como tablas hash, las funciones hash se utilizan para asignar claves a ubicaciones en una tabla, lo que permite una búsqueda y recuperación eficiente de datos.\n",
    "\n",
    "- Optimización de rendimiento: Se utilizan en la generación de resúmenes y en la optimización del rendimiento en aplicaciones de software, como en la caché de datos para acelerar el acceso a información frecuentemente utilizada.\n",
    "\n",
    "- Algoritmos de dispersión (hashing): Se emplean en algoritmos de dispersión para asignar elementos a contenedores (por ejemplo, en tablas de dispersión) en función de su valor hash.\n",
    "\n",
    "Es importante destacar que, si bien una buena función hash debería producir valores hash únicos para entradas diferentes, es posible que dos entradas diferentes generen el mismo valor hash (colisión). Por lo tanto, en muchas aplicaciones, se utilizan técnicas adicionales para gestionar colisiones, como el uso de funciones de hash más complejas o el uso de estructuras de datos que manejen colisiones de manera eficiente. Si la función hash es inyectiva, se dice que es \"perfecta\".\n"
   ]
  },
  {
   "cell_type": "code",
   "execution_count": 18,
   "id": "05c366bb",
   "metadata": {},
   "outputs": [
    {
     "name": "stdout",
     "output_type": "stream",
     "text": [
      "12345\n",
      "-12345\n",
      "282004600026834784\n",
      "-1927470859717478763\n",
      "6107650344097988546\n"
     ]
    }
   ],
   "source": [
    "# En Python existe la función hash que puede usarse con cualquier objeto inmutable:\n",
    "print(hash(12345))\n",
    "print(hash(-12345))\n",
    "print(hash(0.1223))\n",
    "print(hash(\"Funciones\"))\n",
    "print(hash(('yes', 'no')))"
   ]
  },
  {
   "cell_type": "markdown",
   "id": "71ca38d2",
   "metadata": {},
   "source": [
    "También podemos usar la librería [hashlib](https://docs.python.org/3/library/hashlib.html), que proporciona una interfaz para calcular valores hash de datos utilizando varios algoritmos de hashing. entre ellos MD5, SHA-1, SHA-256, SHA-512, y otros.\n",
    "\n",
    "Podemos crear un objeto hash para un algoritmo específico utilizando la función `hashlib.new()` o llamando directamente a una de las funciones de resumen disponibles, como `md5()`, `sha1()`, `sha256()`, etc.\n",
    "\n",
    "Por ejemplo, para crear un objeto de hash SHA-256:"
   ]
  },
  {
   "cell_type": "code",
   "execution_count": 19,
   "id": "9f5c3d28",
   "metadata": {},
   "outputs": [],
   "source": [
    "import hashlib\n",
    "texto = 'Funciones'\n",
    "sha256_hash = hashlib.sha256()"
   ]
  },
  {
   "cell_type": "markdown",
   "id": "295992c1",
   "metadata": {},
   "source": [
    "Usamos el método `update` para pasarle el texo al objeto. Para visualizar el valor del hash, lo pasamos de binario a hexadecimal."
   ]
  },
  {
   "cell_type": "code",
   "execution_count": 21,
   "id": "273a1917",
   "metadata": {},
   "outputs": [
    {
     "name": "stdout",
     "output_type": "stream",
     "text": [
      "5ff40f4d71f4b11bce0b9330df5e2ee595d4d8a096f9fab8fde96a169ba0f05b\n"
     ]
    }
   ],
   "source": [
    "sha256_hash.update(texto.encode('utf-8'))\n",
    "hash_result = sha256_hash.hexdigest()\n",
    "print(hash_result)"
   ]
  },
  {
   "cell_type": "markdown",
   "id": "d2dcb1de",
   "metadata": {},
   "source": [
    "De modo general para hacernos una idea, el algoritmo sha256 hace lo siguiente:\n",
    "\n",
    "- Toma una entrada de datos de cualquier longitud y la divide en bloques.\n",
    "- Realiza una serie de operaciones matemáticas y lógicas en cada bloque para mezclar los bits de manera compleja.\n",
    "- Produce un valor hash de 256 bits como resultado, que es una representación única de los datos de entrada.\n",
    "- Debido a su diseño, SHA-256 es resistente a colisiones y cambios menores en los datos de entrada deben producir valores hash completamente diferentes."
   ]
  },
  {
   "cell_type": "markdown",
   "id": "f54a36da",
   "metadata": {},
   "source": [
    "### 6.1 Ejemplo con una función hash\n",
    "\n",
    "Vamos a imaginar que tenemos 2096 posiciones de memoria, que vamos a implementar como una lista (ordenada). Podemos visualizarlo, como si fuese una estantería:"
   ]
  },
  {
   "cell_type": "code",
   "execution_count": 22,
   "id": "89bc211d",
   "metadata": {},
   "outputs": [
    {
     "name": "stdout",
     "output_type": "stream",
     "text": [
      "{}\n"
     ]
    }
   ],
   "source": [
    "# Implementaremos el conjunto como una lista de lista\n",
    "def conjunto():\n",
    "    return [[] for i in range(2096)]\n",
    "\n",
    "def print_set(s):\n",
    "    cadena = '{'\n",
    "    for l in s:\n",
    "        for e in l:\n",
    "            cadena += f'{e}, '\n",
    "    if len(cadena) > 1:\n",
    "        cadena = cadena[:-2]\n",
    "    print(cadena + '}')\n",
    "    \n",
    "print_set(conjunto())"
   ]
  },
  {
   "cell_type": "code",
   "execution_count": 23,
   "id": "3226e0a4",
   "metadata": {},
   "outputs": [
    {
     "name": "stdout",
     "output_type": "stream",
     "text": [
      "{Hola, -12345}\n"
     ]
    }
   ],
   "source": [
    "# Implementemos la función añadir un elemento \n",
    "# La función hash a utilizar será h(e) = hash(e) % 2096, que solo puede tomar 2096 valores, es decir, el número\n",
    "# De huecos en nuestra memoria ficticia\n",
    "\n",
    "def h(e):\n",
    "    return hash(e) % 2096\n",
    "\n",
    "def inserta(e, s):\n",
    "    posicion = h(e) # va a estar entre 0 y 2095\n",
    "    if e not in s[posicion]:\n",
    "        s[posicion].append(e)\n",
    "\n",
    "s = conjunto()\n",
    "inserta(-12345, s)\n",
    "inserta('Hola', s)\n",
    "print_set(s)"
   ]
  },
  {
   "cell_type": "code",
   "execution_count": 24,
   "id": "1bd6ef11",
   "metadata": {},
   "outputs": [
    {
     "name": "stdout",
     "output_type": "stream",
     "text": [
      "[[], [], [], [], [], [], [], [], [], [], [], [], [], ['Hola'], [], [], [], [], [], [], [], [], [], [], [], [], [], [], [], [], [], [], [], [], [], [], [], [], [], [], [], [], [], [], [], [], [], [], [], [], [], [], [], [], [], [], [], [], [], [], [], [], [], [], [], [], [], [], [], [], [], [], [], [], [], [], [], [], [], [], [], [], [], [], [], [], [], [], [], [], [], [], [], [], [], [], [], [], [], [], [], [], [], [], [], [], [], [], [], [], [], [], [], [], [], [], [], [], [], [], [], [], [], [], [], [], [], [], [], [], [], [], [], [], [], [], [], [], [], [], [], [], [], [], [], [], [], [], [], [], [], [], [], [], [], [], [], [], [], [], [], [], [], [], [], [], [], [], [], [], [], [], [], [], [], [], [], [], [], [], [], [], [], [], [], [], [], [], [], [], [], [], [], [], [], [], [], [], [], [], [], [], [], [], [], [], [], [], [], [], [], [], [], [], [], [], [], [], [], [], [], [], [], [], [], [], [], [], [], [], [], [-12345], [], [], [], [], [], [], [], [], [], [], [], [], [], [], [], [], [], [], [], [], [], [], [], [], [], [], [], [], [], [], [], [], [], [], [], [], [], [], [], [], [], [], [], [], [], [], [], [], [], [], [], [], [], [], [], [], [], [], [], [], [], [], [], [], [], [], [], [], [], [], [], [], [], [], [], [], [], [], [], [], [], [], [], [], [], [], [], [], [], [], [], [], [], [], [], [], [], [], [], [], [], [], [], [], [], [], [], [], [], [], [], [], [], [], [], [], [], [], [], [], [], [], [], [], [], [], [], [], [], [], [], [], [], [], [], [], [], [], [], [], [], [], [], [], [], [], [], [], [], [], [], [], [], [], [], [], [], [], [], [], [], [], [], [], [], [], [], [], [], [], [], [], [], [], [], [], [], [], [], [], [], [], [], [], [], [], [], [], [], [], [], [], [], [], [], [], [], [], [], [], [], [], [], [], [], [], [], [], [], [], [], [], [], [], [], [], [], [], [], [], [], [], [], [], [], [], [], [], [], [], [], [], [], [], [], [], [], [], [], [], [], [], [], [], [], [], [], [], [], [], [], [], [], [], [], [], [], [], [], [], [], [], [], [], [], [], [], [], [], [], [], [], [], [], [], [], [], [], [], [], [], [], [], [], [], [], [], [], [], [], [], [], [], [], [], [], [], [], [], [], [], [], [], [], [], [], [], [], [], [], [], [], [], [], [], [], [], [], [], [], [], [], [], [], [], [], [], [], [], [], [], [], [], [], [], [], [], [], [], [], [], [], [], [], [], [], [], [], [], [], [], [], [], [], [], [], [], [], [], [], [], [], [], [], [], [], [], [], [], [], [], [], [], [], [], [], [], [], [], [], [], [], [], [], [], [], [], [], [], [], [], [], [], [], [], [], [], [], [], [], [], [], [], [], [], [], [], [], [], [], [], [], [], [], [], [], [], [], [], [], [], [], [], [], [], [], [], [], [], [], [], [], [], [], [], [], [], [], [], [], [], [], [], [], [], [], [], [], [], [], [], [], [], [], [], [], [], [], [], [], [], [], [], [], [], [], [], [], [], [], [], [], [], [], [], [], [], [], [], [], [], [], [], [], [], [], [], [], [], [], [], [], [], [], [], [], [], [], [], [], [], [], [], [], [], [], [], [], [], [], [], [], [], [], [], [], [], [], [], [], [], [], [], [], [], [], [], [], [], [], [], [], [], [], [], [], [], [], [], [], [], [], [], [], [], [], [], [], [], [], [], [], [], [], [], [], [], [], [], [], [], [], [], [], [], [], [], [], [], [], [], [], [], [], [], [], [], [], [], [], [], [], [], [], [], [], [], [], [], [], [], [], [], [], [], [], [], [], [], [], [], [], [], [], [], [], [], [], [], [], [], [], [], [], [], [], [], [], [], [], [], [], [], [], [], [], [], [], [], [], [], [], [], [], [], [], [], [], [], [], [], [], [], [], [], [], [], [], [], [], [], [], [], [], [], [], [], [], [], [], [], [], [], [], [], [], [], [], [], [], [], [], [], [], [], [], [], [], [], [], [], [], [], [], [], [], [], [], [], [], [], [], [], [], [], [], [], [], [], [], [], [], [], [], [], [], [], [], [], [], [], [], [], [], [], [], [], [], [], [], [], [], [], [], [], [], [], [], [], [], [], [], [], [], [], [], [], [], [], [], [], [], [], [], [], [], [], [], [], [], [], [], [], [], [], [], [], [], [], [], [], [], [], [], [], [], [], [], [], [], [], [], [], [], [], [], [], [], [], [], [], [], [], [], [], [], [], [], [], [], [], [], [], [], [], [], [], [], [], [], [], [], [], [], [], [], [], [], [], [], [], [], [], [], [], [], [], [], [], [], [], [], [], [], [], [], [], [], [], [], [], [], [], [], [], [], [], [], [], [], [], [], [], [], [], [], [], [], [], [], [], [], [], [], [], [], [], [], [], [], [], [], [], [], [], [], [], [], [], [], [], [], [], [], [], [], [], [], [], [], [], [], [], [], [], [], [], [], [], [], [], [], [], [], [], [], [], [], [], [], [], [], [], [], [], [], [], [], [], [], [], [], [], [], [], [], [], [], [], [], [], [], [], [], [], [], [], [], [], [], [], [], [], [], [], [], [], [], [], [], [], [], [], [], [], [], [], [], [], [], [], [], [], [], [], [], [], [], [], [], [], [], [], [], [], [], [], [], [], [], [], [], [], [], [], [], [], [], [], [], [], [], [], [], [], [], [], [], [], [], [], [], [], [], [], [], [], [], [], [], [], [], [], [], [], [], [], [], [], [], [], [], [], [], [], [], [], [], [], [], [], [], [], [], [], [], [], [], [], [], [], [], [], [], [], [], [], [], [], [], [], [], [], [], [], [], [], [], [], [], [], [], [], [], [], [], [], [], [], [], [], [], [], [], [], [], [], [], [], [], [], [], [], [], [], [], [], [], [], [], [], [], [], [], [], [], [], [], [], [], [], [], [], [], [], [], [], [], [], [], [], [], [], [], [], [], [], [], [], [], [], [], [], [], [], [], [], [], [], [], [], [], [], [], [], [], [], [], [], [], [], [], [], [], [], [], [], [], [], [], [], [], [], [], [], [], [], [], [], [], [], [], [], [], [], [], [], [], [], [], [], [], [], [], [], [], [], [], [], [], [], [], [], [], [], [], [], [], [], [], [], [], [], [], [], [], [], [], [], [], [], [], [], [], [], [], [], [], [], [], [], [], [], [], [], [], [], [], [], [], [], [], [], [], [], [], [], [], [], [], [], [], [], [], [], [], [], [], [], [], [], [], [], [], [], [], [], [], [], [], [], [], [], [], [], [], [], [], [], [], [], [], [], [], [], [], [], [], [], [], [], [], [], [], [], [], [], [], [], [], [], [], [], [], [], [], [], [], [], [], [], [], [], [], [], [], [], [], [], [], [], [], [], [], [], [], [], [], [], [], [], [], [], [], [], [], [], [], [], [], [], [], [], [], [], [], [], [], [], [], [], [], [], [], [], [], [], [], [], [], [], [], [], [], [], [], [], [], [], [], [], [], [], [], [], [], [], [], [], [], [], [], [], [], [], [], [], [], [], [], [], [], [], [], [], [], [], [], [], [], [], [], [], [], [], [], [], [], [], [], [], [], [], [], [], [], [], [], [], [], [], [], [], [], [], [], [], [], [], [], [], [], [], [], [], [], [], [], [], [], [], [], [], [], [], [], [], [], [], [], [], [], [], [], [], [], [], [], [], [], [], [], [], [], [], [], [], [], [], [], [], [], [], [], [], [], [], [], [], [], [], [], [], [], [], [], [], [], [], [], [], [], [], [], [], [], [], [], [], [], [], [], [], [], [], [], [], [], [], [], [], [], [], [], [], [], [], [], [], [], [], [], [], [], [], [], [], [], [], [], [], [], [], [], [], [], [], [], [], [], [], [], [], [], [], [], [], [], [], [], [], [], [], [], [], [], [], [], [], [], [], [], [], [], [], [], [], [], [], [], [], [], [], [], [], [], [], [], [], [], [], [], [], [], [], [], [], [], [], [], [], [], [], [], [], [], [], [], [], [], [], [], [], [], [], [], [], [], [], [], [], [], [], [], [], [], [], [], [], [], [], [], [], [], [], [], [], [], [], [], [], [], [], [], [], [], [], [], [], [], [], [], [], [], [], [], [], [], [], [], [], [], [], [], [], [], [], [], [], [], [], [], [], [], [], [], [], [], [], [], [], [], [], [], [], [], [], [], [], [], [], [], [], [], [], [], [], [], [], [], [], [], [], [], [], [], [], [], [], [], [], [], [], [], [], [], [], [], [], [], [], [], [], [], [], [], [], [], [], [], [], [], [], [], [], [], [], [], [], [], [], [], [], [], [], [], [], [], [], [], [], [], [], [], [], [], [], [], [], [], [], [], [], [], [], [], [], [], [], [], [], [], [], [], [], [], [], [], [], [], [], [], [], [], [], [], [], [], [], [], [], [], [], [], [], [], [], [], [], [], [], [], [], [], [], [], [], [], [], [], [], [], [], [], [], [], [], [], [], [], [], [], [], [], [], [], [], [], [], [], [], [], [], [], [], [], [], [], [], [], [], [], [], [], [], [], [], [], [], [], [], [], [], [], [], [], [], [], [], [], [], [], [], [], [], [], [], [], [], [], [], [], [], [], [], [], [], [], [], [], [], [], [], [], [], [], [], [], [], [], [], [], [], [], [], [], [], [], [], [], [], [], [], []]\n"
     ]
    }
   ],
   "source": [
    "print(s)"
   ]
  },
  {
   "cell_type": "markdown",
   "id": "91205003",
   "metadata": {},
   "source": [
    "¿Qué estamos haciendo?\n",
    "- Hemos definido una cantidad finita de huecos de memoria para nuestro conjunto\n",
    "- Hemos definido una función hash que nos devuelve uno de esos valores (¡va a haber colisiones!)\n",
    "- Cada vez que queremos insertar, aplicamos la función hash y metemos el elemento en esa posición\n",
    "\n",
    "¿Qué pasa al buscar elementos?"
   ]
  },
  {
   "cell_type": "code",
   "execution_count": 27,
   "id": "d05e3ce1",
   "metadata": {},
   "outputs": [
    {
     "name": "stdout",
     "output_type": "stream",
     "text": [
      "[[], [], [], [], [], [], [], [], [], [], [], [], [12, 2108], ['Hola'], [], [], [], [], [], [], [], [], [], [], [], [], [], [], [], [], [], [], [], [], [], [], [], [], [], [], [], [], [], [], [], [], [], [], [], [], [], [], [], [], [], [], [], [], [], [], [], [], [], [], [], [], [], [], [], [], [], [], [], [], [], [], [], [], [], [], [], [], [], [], [], [], [], [], [], [], [], [], [], [], [], [], [], [], [], [], [], [], [], [], [], [], [], [], [], [], [], [], [], [], [], [], [], [], [], [], [], [], [], [], [], [], [], [], [], [], [], [], [], [], [], [], [], [], [], [], [], [], [], [], [], [], [], [], [], [], [], [], [], [], [], [], [], [], [], [], [], [], [], [], [], [], [], [], [], [], [], [], [], [], [], [], [], [], [], [], [], [], [], [], [], [], [], [], [], [], [], [], [], [], [], [], [], [], [], [], [], [], [], [], [], [], [], [], [], [], [], [], [], [], [], [], [], [], [], [], [], [], [], [], [], [], [], [], [], [], [], [-12345], [], [], [], [], [], [], [], [], [], [], [], [], [], [], [], [], [], [], [], [], [], [], [], [], [], [], [], [], [], [], [], [], [], [], [], [], [], [], [], [], [], [], [], [], [], [], [], [], [], [], [], [], [], [], [], [], [], [], [], [], [], [], [], [], [], [], [], [], [], [], [], [], [], [], [], [], [], [], [], [], [], [], [], [], [], [], [], [], [], [], [], [], [], [], [], [], [], [], [], [], [], [], [], [], [], [], [], [], [], [], [], [], [], [], [], [], [], [], [], [], [], [], [], [], [], [], [], [], [], [], [], [], [], [], [], [], [], [], [], [], [], [], [], [], [], [], [], [], [], [], [], [], [], [], [], [], [], [], [], [], [], [], [], [], [], [], [], [], [], [], [], [], [], [], [], [], [], [], [], [], [], [], [], [], [], [], [], [], [], [], [], [], [], [], [], [], [], [], [], [], [], [], [], [], [], [], [], [], [], [], [], [], [], [], [], [], [], [], [], [], [], [], [], [], [], [], [], [], [], [], [], [], [], [], [], [], [], [], [], [], [], [], [], [], [], [], [], [], [], [], [], [], [], [], [], [], [], [], [], [], [], [], [], [], [], [], [], [], [], [], [], [], [], [], [], [], [], [], [], [], [], [], [], [], [], [], [], [], [], [], [], [], [], [], [], [], [], [], [], [], [], [], [], [], [], [], [], [], [], [], [], [], [], [], [], [], [], [], [], [], [], [], [], [], [], [], [], [], [], [], [], [], [], [], [], [], [], [], [], [], [], [], [], [], [], [], [], [], [], [], [], [], [], [], [], [], [], [], [], [], [], [], [], [], [], [], [], [], [], [], [], [], [], [], [], [], [], [], [], [], [], [], [], [], [], [], [], [], [], [], [], [], [], [], [], [], [], [], [], [], [], [], [], [], [], [], [], [], [], [], [], [], [], [], [], [], [], [], [], [], [], [], [], [], [], [], [], [], [], [], [], [], [], [], [], [], [], [], [], [], [], [], [], [], [], [], [], [], [], [], [], [], [], [], [], [], [], [], [], [], [], [], [], [], [], [], [], [], [], [], [], [], [], [], [], [], [], [], [], [], [], [], [], [], [], [], [], [], [], [], [], [], [], [], [], [], [], [], [], [], [], [], [], [], [], [], [], [], [], [], [], [], [], [], [], [], [], [], [], [], [], [], [], [], [], [], [], [], [], [], [], [], [], [], [], [], [], [], [], [], [], [], [], [], [], [], [], [], [], [], [], [], [], [], [], [], [], [], [], [], [], [], [], [], [], [], [], [], [], [], [], [], [], [], [], [], [], [], [], [], [], [], [], [], [], [], [], [], [], [], [], [], [], [], [], [], [], [], [], [], [], [], [], [], [], [], [], [], [], [], [], [], [], [], [], [], [], [], [], [], [], [], [], [], [], [], [], [], [], [], [], [], [], [], [], [], [], [], [], [], [], [], [], [], [], [], [], [], [], [], [], [], [], [], [], [], [], [], [], [], [], [], [], [], [], [], [], [], [], [], [], [], [], [], [], [], [], [], [], [], [], [], [], [], [], [], [], [], [], [], [], [], [], [], [], [], [], [], [], [], [], [], [], [], [], [], [], [], [], [], [], [], [], [], [], [], [], [], [], [], [], [], [], [], [], [], [], [], [], [], [], [], [], [], [], [], [], [], [], [], [], [], [], [], [], [], [], [], [], [], [], [], [], [], [], [], [], [], [], [], [], [], [], [], [], [], [], [], [], [], [], [], [], [], [], [], [], [], [], [], [], [], [], [], [], [], [], [], [], [], [], [], [], [], [], [], [], [], [], [], [], [], [], [], [], [], [], [], [], [], [], [], [], [], [], [], [], [], [], [], [], [], [], [], [], [], [], [], [], [], [], [], [], [], [], [], [], [], [], [], [], [], [], [], [], [], [], [], [], [], [], [], [], [], [], [], [], [], [], [], [], [], [], [], [], [], [], [], [], [], [], [], [], [], [], [], [], [], [], [], [], [], [], [], [], [], [], [], [], [], [], [], [], [], [], [], [], [], [], [], [], [], [], [], [], [], [], [], [], [], [], [], [], [], [], [], [], [], [], [], [], [], [], [], [], [], [], [], [], [], [], [], [], [], [], [], [], [], [], [], [], [], [], [], [], [], [], [], [], [], [], [], [], [], [], [], [], [], [], [], [], [], [], [], [], [], [], [], [], [], [], [], [], [], [], [], [], [], [], [], [], [], [], [], [], [], [], [], [], [], [], [], [], [], [], [], [], [], [], [], [], [], [], [], [], [], [], [], [], [], [], [], [], [], [], [], [], [], [], [], [], [], [], [], [], [], [], [], [], [], [], [], [], [], [], [], [], [], [], [], [], [], [], [], [], [], [], [], [], [], [], [], [], [], [], [], [], [], [], [], [], [], [], [], [], [], [], [], [], [], [], [], [], [], [], [], [], [], [], [], [], [], [], [], [], [], [], [], [], [], [], [], [], [], [], [], [], [], [], [], [], [], [], [], [], [], [], [], [], [], [], [], [], [], [], [], [], [], [], [], [], [], [], [], [], [], [], [], [], [], [], [], [], [], [], [], [], [], [], [], [], [], [], [], [], [], [], [], [], [], [], [], [], [], [], [], [], [], [], [], [], [], [], [], [], [], [], [], [], [], [], [], [], [], [], [], [], [], [], [], [], [], [], [], [], [], [], [], [], [], [], [], [], [], [], [], [], [], [], [], [], [], [], [], [], [], [], [], [], [], [], [], [], [], [], [], [], [], [], [], [], [], [], [], [], [], [], [], [], [], [], [], [], [], [], [], [], [], [], [], [], [], [], [], [], [], [], [], [], [], [], [], [], [], [], [], [], [], [], [], [], [], [], [], [], [], [], [], [], [], [], [], [], [], [], [], [], [], [], [], [], [], [], [], [], [], [], [], [], [], [], [], [], [], [], [], [], [], [], [], [], [], [], [], [], [], [], [], [], [], [], [], [], [], [], [], [], [], [], [], [], [], [], [], [], [], [], [], [], [], [], [], [], [], [], [], [], [], [], [], [], [], [], [], [], [], [], [], [], [], [], [], [], [], [], [], [], [], [], [], [], [], [], [], [], [], [], [], [], [], [], [], [], [], [], [], [], [], [], [], [], [], [], [], [], [], [], [], [], [], [], [], [], [], [], [], [], [], [], [], [], [], [], [], [], [], [], [], [], [], [], [], [], [], [], [], [], [], [], [], [], [], [], [], [], [], [], [], [], [], [], [], [], [], [], [], [], [], [], [], [], [], [], [], [], [], [], [], [], [], [], [], [], [], [], [], [], [], [], [], [], [], [], [], [], [], [], [], [], [], [], [], [], [], [], [], [], [], [], [], [], [], [], [], [], [], [], [], [], [], [], [], [], [], [], [], [], [], [], [], [], [], [], [], [], [], [], [], [], [], [], [], [], [], [], [], [], [], [], [], [], [], [], [], [], [], [], [], [], [], [], [], [], [], [], [], [], [], [], [], [], [], [], [], [], [], [], [], [], [], [], [], [], [], [], [], [], [], [], [], [], [], [], [], [], [], [], [], [], [], [], [], [], [], [], [], [], [], [], [], [], [], [], [], [], [], [], [], [], [], [], [], [], [], [], [], [], [], [], [], [], [], [], [], [], [], [], [], [], [], [], [], [], [], [], [], [], [], [], [], [], [], [], [], [], [], [], [], [], [], [], [], [], [], [], [], [], [], [], [], [], [], [], [], [], [], [], [], [], [], [], [], [], [], [], [], [], [], [], [], [], [], [], [], [], [], [], [], [], [], [], [], [], [], [], [], [], [], [], [], [], [], [], [], [], [], [], [], [], [], [], [], [], [], [], [], [], [], [], [], [], [], [], [], [], [], [], [], [], [], [], [], [], [], [], [], [], [], [], [], [], [], [], [], [], [], [], [], [], [], [], [], [], [], [], [], [], [], [], [], [], [], [], [], [], [], [], [], [], [], [], [], [], [], [], [], [], [], [], [], [], [], [], [], [], [], [], [], [], [], [], [], [], [], [], [], [], [], [], [], [], [], [], [], [], [], [], [], [], [], [], [], [], [], [], [], [], [], [], [], [], [], [], [], [], [], [], [], [], [], [], [], [], [], [], [], [], [], [], [], [], [], [], [], [], [], [], [], [], [], [], [], [], [], [], [], [], [], [], [], [], [], [], [], [], [], [], [], [], [], [], [], [], [], [], [], [], [], [], [], [], [], [], []]\n",
      "True\n"
     ]
    }
   ],
   "source": [
    "def pertenece(e, s):\n",
    "    return e in s[h(e)]\n",
    "\n",
    "inserta(2096+12, s)\n",
    "print(s)\n",
    "print(pertenece(12,s))"
   ]
  },
  {
   "cell_type": "code",
   "execution_count": 28,
   "id": "42a40ab3-13a7-4852-9e28-e7a2fb22640c",
   "metadata": {},
   "outputs": [
    {
     "ename": "TypeError",
     "evalue": "unhashable type: 'list'",
     "output_type": "error",
     "traceback": [
      "\u001b[0;31m---------------------------------------------------------------------------\u001b[0m",
      "\u001b[0;31mTypeError\u001b[0m                                 Traceback (most recent call last)",
      "Cell \u001b[0;32mIn[28], line 1\u001b[0m\n\u001b[0;32m----> 1\u001b[0m \u001b[38;5;28;43mhash\u001b[39;49m\u001b[43m(\u001b[49m\u001b[43m[\u001b[49m\u001b[38;5;241;43m1\u001b[39;49m\u001b[43m,\u001b[49m\u001b[43m \u001b[49m\u001b[38;5;241;43m2\u001b[39;49m\u001b[43m,\u001b[49m\u001b[43m \u001b[49m\u001b[38;5;241;43m3\u001b[39;49m\u001b[43m]\u001b[49m\u001b[43m)\u001b[49m\n",
      "\u001b[0;31mTypeError\u001b[0m: unhashable type: 'list'"
     ]
    }
   ],
   "source": [
    "hash([1, 2, 3])"
   ]
  },
  {
   "cell_type": "code",
   "execution_count": null,
   "id": "d81c037c",
   "metadata": {},
   "outputs": [],
   "source": [
    "# Implementamos el método para ver si un elemento pertenece al conjunto\n"
   ]
  },
  {
   "cell_type": "code",
   "execution_count": null,
   "id": "dac874bc",
   "metadata": {},
   "outputs": [],
   "source": [
    "# Insertamos dos elementos que produzcan colisión\n"
   ]
  },
  {
   "cell_type": "code",
   "execution_count": null,
   "id": "ea539f86",
   "metadata": {},
   "outputs": [],
   "source": []
  },
  {
   "cell_type": "markdown",
   "id": "9c277ff3",
   "metadata": {},
   "source": [
    "Usar set es más eficiente, aunque a cambio usamos mucha más memoria (tenemos muchos \"huecos\"). Sin embargo, nos impide poder ordenar la lista.\n",
    "\n",
    "[No existe un sistema mejor que otro](https://en.wikipedia.org/wiki/No_free_lunch_theorem), dependerá de lo que necesitemos en cada caso concreto.\n",
    "\n",
    "<img src=\"./images/freelunch.jpg\">"
   ]
  }
 ],
 "metadata": {
  "kernelspec": {
   "display_name": "Python 3 (ipykernel)",
   "language": "python",
   "name": "python3"
  },
  "language_info": {
   "codemirror_mode": {
    "name": "ipython",
    "version": 3
   },
   "file_extension": ".py",
   "mimetype": "text/x-python",
   "name": "python",
   "nbconvert_exporter": "python",
   "pygments_lexer": "ipython3",
   "version": "3.10.12"
  }
 },
 "nbformat": 4,
 "nbformat_minor": 5
}
